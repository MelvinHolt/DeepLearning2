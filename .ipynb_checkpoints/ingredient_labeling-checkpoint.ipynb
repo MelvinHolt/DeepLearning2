{
 "cells": [
  {
   "cell_type": "markdown",
   "metadata": {},
   "source": [
    "# Deep Learning"
   ]
  },
  {
   "cell_type": "code",
   "execution_count": 258,
   "metadata": {},
   "outputs": [],
   "source": [
    "import pandas as pd\n",
    "import numpy as np\n",
    "import json"
   ]
  },
  {
   "cell_type": "code",
   "execution_count": 259,
   "metadata": {},
   "outputs": [],
   "source": [
    "ingredients = pd.read_csv('Ingredients101/ingredients_simplification/baseIngredients.txt', sep=\",\", header=None, squeeze=True).T\n",
    "ingredients.columns = ['ingredient']\n",
    "ingredients['vegetarian'] = \"\""
   ]
  },
  {
   "cell_type": "code",
   "execution_count": 260,
   "metadata": {},
   "outputs": [],
   "source": [
    "with open('foodclassification/database.json') as f:\n",
    "  data = json.load(f)"
   ]
  },
  {
   "cell_type": "code",
   "execution_count": 261,
   "metadata": {},
   "outputs": [],
   "source": [
    "kaas = data['vegetarian'] + data['vegan']"
   ]
  },
  {
   "cell_type": "code",
   "execution_count": 262,
   "metadata": {},
   "outputs": [],
   "source": [
    "import string\n",
    "vegetarian_ingredients = [ingredient.lower().translate(str.maketrans('', '', string.punctuation)) for ingredient in set(kaas)]\n",
    "# non_vegetarian"
   ]
  },
  {
   "cell_type": "code",
   "execution_count": 263,
   "metadata": {},
   "outputs": [
    {
     "data": {
      "text/html": [
       "<div>\n",
       "<style scoped>\n",
       "    .dataframe tbody tr th:only-of-type {\n",
       "        vertical-align: middle;\n",
       "    }\n",
       "\n",
       "    .dataframe tbody tr th {\n",
       "        vertical-align: top;\n",
       "    }\n",
       "\n",
       "    .dataframe thead th {\n",
       "        text-align: right;\n",
       "    }\n",
       "</style>\n",
       "<table border=\"1\" class=\"dataframe\">\n",
       "  <thead>\n",
       "    <tr style=\"text-align: right;\">\n",
       "      <th></th>\n",
       "      <th>ingredient</th>\n",
       "      <th>vegetarian</th>\n",
       "    </tr>\n",
       "  </thead>\n",
       "  <tbody>\n",
       "    <tr>\n",
       "      <th>0</th>\n",
       "      <td>acidulated water</td>\n",
       "      <td></td>\n",
       "    </tr>\n",
       "    <tr>\n",
       "      <th>1</th>\n",
       "      <td>ackee</td>\n",
       "      <td></td>\n",
       "    </tr>\n",
       "    <tr>\n",
       "      <th>2</th>\n",
       "      <td>acorn squash</td>\n",
       "      <td></td>\n",
       "    </tr>\n",
       "    <tr>\n",
       "      <th>3</th>\n",
       "      <td>aduki beans</td>\n",
       "      <td></td>\n",
       "    </tr>\n",
       "    <tr>\n",
       "      <th>4</th>\n",
       "      <td>advocaat</td>\n",
       "      <td></td>\n",
       "    </tr>\n",
       "    <tr>\n",
       "      <th>...</th>\n",
       "      <td>...</td>\n",
       "      <td>...</td>\n",
       "    </tr>\n",
       "    <tr>\n",
       "      <th>1090</th>\n",
       "      <td>yeast</td>\n",
       "      <td></td>\n",
       "    </tr>\n",
       "    <tr>\n",
       "      <th>1091</th>\n",
       "      <td>yellow lentil</td>\n",
       "      <td></td>\n",
       "    </tr>\n",
       "    <tr>\n",
       "      <th>1092</th>\n",
       "      <td>yoghurt</td>\n",
       "      <td></td>\n",
       "    </tr>\n",
       "    <tr>\n",
       "      <th>1093</th>\n",
       "      <td>zander</td>\n",
       "      <td></td>\n",
       "    </tr>\n",
       "    <tr>\n",
       "      <th>1094</th>\n",
       "      <td>zest</td>\n",
       "      <td></td>\n",
       "    </tr>\n",
       "  </tbody>\n",
       "</table>\n",
       "<p>1095 rows × 2 columns</p>\n",
       "</div>"
      ],
      "text/plain": [
       "            ingredient vegetarian\n",
       "0     acidulated water           \n",
       "1                ackee           \n",
       "2         acorn squash           \n",
       "3          aduki beans           \n",
       "4             advocaat           \n",
       "...                ...        ...\n",
       "1090             yeast           \n",
       "1091     yellow lentil           \n",
       "1092           yoghurt           \n",
       "1093            zander           \n",
       "1094              zest           \n",
       "\n",
       "[1095 rows x 2 columns]"
      ]
     },
     "execution_count": 263,
     "metadata": {},
     "output_type": "execute_result"
    }
   ],
   "source": [
    "test"
   ]
  },
  {
   "cell_type": "code",
   "execution_count": 264,
   "metadata": {},
   "outputs": [],
   "source": [
    "test.loc[test['ingredient'].str.contains(\"|\".join(vegetarian_ingredients)), 'vegetarian'] = True"
   ]
  },
  {
   "cell_type": "code",
   "execution_count": 265,
   "metadata": {},
   "outputs": [],
   "source": [
    "non_vegetarian_ingredients = [\n",
    "     'anchov',\n",
    "     'bacon',\n",
    "     'bass',\n",
    "     'beef',\n",
    "     'beef',\n",
    "     'boar',\n",
    "     'bream',\n",
    "     'burger',\n",
    "     'clams',\n",
    "     'caviar',\n",
    "     'chicken',\n",
    "     'collar',\n",
    "     'crab',\n",
    "     'duck',\n",
    "     'eel',\n",
    "     'fat',\n",
    "     'fish',\n",
    "     'game',\n",
    "     'goose',\n",
    "     'gravy',\n",
    "     'hare',\n",
    "     'ham',\n",
    "     'horse',\n",
    "     'kipper',\n",
    "     'kidney',\n",
    "     'lamb',\n",
    "     'lamb',\n",
    "     'liver',\n",
    "     'lobster'\n",
    "     'meat',\n",
    "     'morel',\n",
    "     'octopus'\n",
    "     'pigeon',\n",
    "     'pork',\n",
    "     'poultry',\n",
    "     'quail',\n",
    "     'rump',\n",
    "     'rabbit',\n",
    "     'salami',\n",
    "     'salmon',\n",
    "     'seafood',\n",
    "     'shrimp',\n",
    "     'sirloin',\n",
    "     'silverside'\n",
    "     'smokie',\n",
    "     'squid',\n",
    "     'steak',\n",
    "     'stuffing',\n",
    "     'tongue',\n",
    "     'tuna',\n",
    "     'turkey',\n",
    "     'trout',\n",
    "     'veal',\n",
    "     'zander'\n",
    "]"
   ]
  },
  {
   "cell_type": "code",
   "execution_count": 266,
   "metadata": {},
   "outputs": [],
   "source": [
    "test.loc[test['ingredient'].str.contains(\"|\".join(non_vegetarian_ingredients)), 'vegetarian'] = False"
   ]
  },
  {
   "cell_type": "code",
   "execution_count": 267,
   "metadata": {},
   "outputs": [
    {
     "data": {
      "text/plain": [
       "         703\n",
       "True     249\n",
       "False    143\n",
       "Name: vegetarian, dtype: int64"
      ]
     },
     "execution_count": 267,
     "metadata": {},
     "output_type": "execute_result"
    }
   ],
   "source": [
    "test['vegetarian'].value_counts()"
   ]
  },
  {
   "cell_type": "code",
   "execution_count": 268,
   "metadata": {},
   "outputs": [
    {
     "data": {
      "text/plain": [
       "array(['ackee', 'advocaat', 'agar-agar', 'ale', 'alfalfa sprouts',\n",
       "       'almond', 'almond essence', 'almond extract', 'amaranth',\n",
       "       'amaretti', 'angelica', 'angostura bitters', 'anise', 'apple',\n",
       "       'apple chutney', 'apple juice', 'apple sauce', 'apricot',\n",
       "       'apricot jam', 'arbroath smokie', 'argan oil', 'arrowroot',\n",
       "       'artichoke', 'asafoetida', 'asparagus', 'aubergine', 'avocado',\n",
       "       'bagel', 'baguette', 'baking', 'bamboo shoots', 'banana',\n",
       "       'banana bread', 'barbecue sauce', 'bay boletes', 'bay leaf',\n",
       "       'beer', 'beetroot', 'berry', 'betel leaves', 'beurre manie',\n",
       "       'bicarbonate of soda', 'bilberries', \"bird's-eye chillies\",\n",
       "       'biscotti', 'biscuits', 'blachan', 'black pudding',\n",
       "       'black treacle', 'blackbean sauce', 'blackberry', 'blackcurrant',\n",
       "       'blackcurrant juice drink', 'blini', 'blood orange', 'blueberry',\n",
       "       'bok choi', 'bonito', 'borage', 'bouquet garni', 'bramley apple',\n",
       "       'bran', 'brandy', 'brandy butter', 'brandy snaps', 'bratwurst',\n",
       "       'brazil nut', 'bread', 'bread roll', 'bread sauce', 'breadcrumbs',\n",
       "       'breadfruit', 'breadsticks', 'bresaola', 'brie', 'brill',\n",
       "       'brioche', 'brisket', 'broccoli', 'broth', 'brown bread',\n",
       "       'brown lentil', 'brown sauce', 'brussels sprouts', 'buns',\n",
       "       'butter', 'butterhead lettuce', 'buttermilk', 'caerphilly', 'cake',\n",
       "       'calvados', 'camembert', 'campagne loaf', 'capers', 'capsicum',\n",
       "       'caramel', 'caraway seeds', 'cardamom', 'carob', 'carrageen moss',\n",
       "       'carrageen_moss', 'cassava', 'cava', 'cavolo nero', 'celeriac',\n",
       "       'chanterelle mushrooms', 'chapati flour', 'chapatis',\n",
       "       'charcuterie', 'chard', 'chayote', 'cheddar', 'cheese',\n",
       "       'cheese sauce', 'cherry', 'cherry brandy', 'chervil', 'cheshire',\n",
       "       'chestnut', 'chestnut mushrooms', 'chickpea', 'chicory', 'chilli',\n",
       "       'chilli con carne', 'chilli oil', 'chilli paste', 'chilli powder',\n",
       "       'chilli sauce', 'chinese mushrooms', 'chinese pancake', 'chipotle',\n",
       "       'chips', 'chocolate', 'chocolate biscuit', 'chocolate brownies',\n",
       "       'chocolate cake', 'chocolate mousse', 'chocolate truffle',\n",
       "       'chorizo', 'choux pastry', 'christmas cake', 'christmas pudding',\n",
       "       'chuck and blade', 'chump', 'chutney', 'ciabatta', 'cider',\n",
       "       'citrus fruit', 'clarified butter', 'clementine', 'cobnut',\n",
       "       'cockles', 'cocktail', 'cod', 'cod roe', 'coffee',\n",
       "       'coffee essence', 'coffee granules', 'coffee liqueur', 'cognac',\n",
       "       'cola', 'coleslaw', 'coley', 'compote', 'comte', 'condensed milk',\n",
       "       'confectionery', 'coriander', 'coriander cress', 'coriander seeds',\n",
       "       'cos lettuce', 'cottage cheese', 'coulis', 'courgette',\n",
       "       'court bouillon', 'couscous', 'crackers', 'cranberry',\n",
       "       'cranberry juice', 'cranberry sauce', 'creme fraiche', 'crepe',\n",
       "       'cress', 'crispbread', 'crisps', 'croissant', 'crostini',\n",
       "       'croutons', 'crudites', 'crumble', 'cucumber', 'cumberland sauce',\n",
       "       'cumin', 'curacao', 'curd', 'curd cheese', 'currant bread',\n",
       "       'currants', 'curry', 'curry leaves', 'curry paste', 'curry powder',\n",
       "       'custard', 'custard powder', 'dab', 'daikon', 'damsons',\n",
       "       'dandelion', 'danish blue', 'dark chocolate', 'date',\n",
       "       'demi-glace sauce', 'desiree', 'digestive biscuit',\n",
       "       'dim sum wrappers', 'dolcelatte', 'double gloucester',\n",
       "       'dover sole', 'dragon fruit', 'dry sherry', 'dulce de leche',\n",
       "       'dumplings', 'duxelles', 'edam', 'elderberries', 'elderflower',\n",
       "       'emmental', 'english muffin', 'escalope', 'evaporated milk',\n",
       "       'exotic fruit', 'farfalle', 'fenugreek', 'feta', 'fettuccine',\n",
       "       'field mushroom', 'fig', 'filo pastry', 'flank', 'flapjacks',\n",
       "       'flatbread', 'fleur de sel', 'flour', 'flour tortilla', 'focaccia',\n",
       "       'foie gras', 'fondant icing', 'fontina cheese', 'food colouring',\n",
       "       'forced rhubarb', 'fortified wine', 'frangipane', 'frankfurter',\n",
       "       'freekeh', 'french bread', 'french dressing', 'fresh coriander',\n",
       "       'fromage frais', 'fruit', 'fruit brandy', 'fruit cake',\n",
       "       'fruit juice', 'fruit salad', 'fudge', 'fusilli', 'galangal',\n",
       "       'gammon', 'garam masala', 'gelatine', 'ghee', 'gherkin', 'giblets',\n",
       "       'gin', 'glace cherries', 'globe artichoke', 'glucose', 'gnocchi',\n",
       "       'golden syrup', 'gorgonzola', 'gouda', 'grain', 'grapefruit',\n",
       "       'grapefruit juice', 'grapes', 'grapeseed oil', 'gratin',\n",
       "       'green banana', 'green lentil', 'green tea', 'greengages',\n",
       "       'grey mullet', 'grouse', 'gruyere', 'guacamole', 'guava',\n",
       "       'guinea fowl', 'gurnard', 'habanero chillies', 'haddock', 'haggis',\n",
       "       'hake', 'halibut', 'halloumi', 'harissa', 'hazelnut',\n",
       "       'hazelnut oil', 'heart', 'herbal liqueur', 'herbal tea',\n",
       "       'herbes de provence', 'herbs', 'herring', 'hogget', 'hoisin sauce',\n",
       "       'hoki', 'hollandaise sauce', 'hominy', 'honey', 'honeycomb',\n",
       "       'hot cross buns', 'hummus', 'hunza apricots', 'iceberg lettuce',\n",
       "       'icing', 'irish stout', 'jaggery', 'jam', 'japanese pumpkin',\n",
       "       'jelly', 'jerusalem artichoke', 'john dory', 'jujube',\n",
       "       'juniper berries', 'jus', 'kabana', 'ketchup', 'ketjap manis',\n",
       "       'king edward', 'kirsch', 'kiwi fruit', 'kohlrabi', 'kumquat',\n",
       "       'lager', 'lancashire', 'langoustine', 'lard', 'lardons', 'lasagne',\n",
       "       'lasagne sheets', 'laverbread', 'leek', 'lemon', 'lemon balm',\n",
       "       'lemon curd', 'lemon juice', 'lemon sole', 'lemonade',\n",
       "       'lemongrass', 'lettuce', 'ling', 'lingonberry', 'linguine',\n",
       "       'liqueur', 'little gem lettuce', 'loaf cake', 'lobster',\n",
       "       'loganberry', 'lychee', 'macadamia', 'macaroni', 'macaroon',\n",
       "       'mace', 'mackerel', 'madeira', 'madeira cake', 'madeleines',\n",
       "       'maize', 'malted grain bread', 'manchego', 'mandarin', 'mangetout',\n",
       "       'mango', 'mango chutney', 'mango juice', 'mango pickle',\n",
       "       'mangosteen', 'margarine', 'marjoram', 'marmalade', 'marrow',\n",
       "       'marsala wine', 'marshmallow', 'marzipan', 'mascarpone', 'matzo',\n",
       "       'mayonnaise', 'meat', 'medlars', 'megrim', 'melon', 'melon seeds',\n",
       "       'meringue', 'mesclun', 'milk', 'milk chocolate', 'milkshake',\n",
       "       'mince', 'mince pies', 'mincemeat', 'mint', 'mint sauce',\n",
       "       'mirepoix', 'mirin', 'miso', 'mixed berries', 'mixed nuts',\n",
       "       \"monk's beard\", 'mortadella', 'mozzarella', 'muesli', 'muffins',\n",
       "       'mulberries', 'mulled wine', 'mushroom', 'mussels', 'mutton',\n",
       "       'naan bread', 'nachos', 'nashi', 'nasturtium', 'nectarine',\n",
       "       'nettle', 'noodle soup', 'nori', 'nougat', 'nut', 'nutmeg',\n",
       "       'oatcakes', 'oatmeal', 'octopus', 'offal', 'oil', 'okra', 'olive',\n",
       "       'orange', 'orange juice', 'orange liqueur', 'ouzo', 'oxtail',\n",
       "       'oyster', 'oyster mushrooms', 'oyster sauce', 'paella', 'pak choi',\n",
       "       'pancakes', 'pancetta', 'pandan leaves', 'paneer', 'panettone',\n",
       "       'papaya', 'pappardelle', 'parfait', 'parmesan', 'parsnip',\n",
       "       'partridge', 'passata', 'passion fruit', 'passion fruit juice',\n",
       "       'pastrami', 'pastry', 'pasty', 'pate', 'paw-paw', 'pea shoots',\n",
       "       'peach', 'pear', 'pecan', 'pecorino', 'penne', 'pepper',\n",
       "       'pepperoni', 'perch', 'perry', 'pesto', 'pheasant', 'piccalilli',\n",
       "       'pickle', 'pie', 'pig cheeks', 'pigeon', 'pike', 'pine nut',\n",
       "       'pink fir apple', 'piri-piri', 'pistachio', 'pitta bread', 'pizza',\n",
       "       'plaice', 'plain flour', 'plantain', 'polenta', 'pollack',\n",
       "       'pollock', 'pomegranate', 'pomegranate juice', 'pomelo',\n",
       "       'poppy seeds', 'porcini', 'port', 'portobello mushrooms',\n",
       "       'poussin', 'praline', 'prawn', 'prawn crackers',\n",
       "       'preserved lemons', 'preserves', 'prosciutto', 'prune',\n",
       "       'prune juice', 'puff pastry', 'pumpernickel bread', 'pumpkin',\n",
       "       'pumpkin seed', 'purple sprouting broccoli', 'quatre-epices',\n",
       "       'quince', 'quinoa', 'radicchio', 'radish', 'rainbow chard',\n",
       "       'raisins', 'raita', 'rapeseed oil', 'ras-el-hanout', 'raspberry',\n",
       "       'raspberry jam', 'ratafia biscuits', 'ratatouille',\n",
       "       'red leicester', 'red lentil', 'red mullet', 'red snapper',\n",
       "       'red wine', 'redcurrant', 'redcurrant jelly', 'rennet', 'rhubarb',\n",
       "       'ricotta', 'rigatoni', 'risotto', 'rocket', 'root beer',\n",
       "       'root vegetable', 'roquefort', 'rose wine', 'rosehip syrup',\n",
       "       'rouille', 'royal icing', 'rum', 'rye bread', 'rye flour',\n",
       "       'saffron', 'sage', 'salad', 'salad leaves', 'salsa', 'salsify',\n",
       "       'sambuca', 'samphire', 'sardine', 'sashimi', 'satsuma', 'sauces',\n",
       "       'saucisson', 'sausage', 'savory', 'scallop',\n",
       "       'scotch bonnet chilli', 'scrag', 'seaweed', 'seeds',\n",
       "       'self-raising flour', 'semolina', 'seville orange', 'shallot',\n",
       "       'sharon fruit', 'sherry', 'shin', 'shortbread',\n",
       "       'shortcrust pastry', 'sichuan pepper', 'silverside', 'skate',\n",
       "       'sloe', 'sloe gin', 'smoked cheese', 'smoked haddock',\n",
       "       'smoked mackerel', 'snapper', 'soda', 'soda bread', 'sole',\n",
       "       'sorbet', 'sorrel', 'soup', 'sourdough bread', 'spaghetti',\n",
       "       'spaghetti squash', 'sparkling wine', 'spelt', 'spelt flour',\n",
       "       'sponge cake', 'spring greens', 'spring roll wrappers', 'squash',\n",
       "       'star anise', 'starfruit', 'stew', 'stilton', 'stock',\n",
       "       'straw mushroom', 'strawberry', 'strawberry jam', 'strega liqueur',\n",
       "       'strong white flour', 'sucralose', 'suet', 'sultanas',\n",
       "       'summer fruit', 'swede', 'sweet sherry', 'sweetbread',\n",
       "       'swiss chard', 'swiss rolls and roulades', 'syrup', 'tabasco',\n",
       "       'taco', 'tagliatelle', 'tamari', 'tamarillo', 'tangerine',\n",
       "       'tapenade', 'taro', 'tartare sauce', 'tayberry', 'tea', 'tempura',\n",
       "       'tequila', 'teriyaki', 'teriyaki sauce', 'terrine', 'tilapia',\n",
       "       'toffee', 'tomatillo', 'tonic', 'topside', 'tortellini', 'tripe',\n",
       "       'truffle', 'truffle oil', 'turbot', 'turkish delight', 'turnip',\n",
       "       'unleavened bread', 'vacherin', 'vanilla essence', 'vanilla pod',\n",
       "       'vegetable oil', 'vegetable stock', 'vegetarian sausage',\n",
       "       'venison', 'verjus', 'vermicelli', 'vermouth', 'vine leaves',\n",
       "       'vodka', 'vodka cocktail', 'waffles', 'wasabi', 'webbs lettuce',\n",
       "       'wensleydale', 'whelk', 'whisky', 'whisky cocktail',\n",
       "       'whisky liqueur', 'white bread', 'white chocolate', 'white wine',\n",
       "       'whitebait', 'whitecurrant', 'whiting', 'wholemeal bread',\n",
       "       'wholemeal flour', 'wild mushrooms', 'wine', 'winkles',\n",
       "       'wood pigeon', 'worcestershire sauce', 'wraps', 'yam',\n",
       "       'yellow lentil', 'yoghurt', 'zest'], dtype=object)"
      ]
     },
     "execution_count": 268,
     "metadata": {},
     "output_type": "execute_result"
    }
   ],
   "source": [
    "test[test['vegetarian'] == \"\"]['ingredient'].values"
   ]
  },
  {
   "cell_type": "code",
   "execution_count": 269,
   "metadata": {},
   "outputs": [],
   "source": [
    "test.loc[test['vegetarian'] == \"\", 'vegetarian'] = True"
   ]
  },
  {
   "cell_type": "code",
   "execution_count": 270,
   "metadata": {},
   "outputs": [
    {
     "data": {
      "text/plain": [
       "True     952\n",
       "False    143\n",
       "Name: vegetarian, dtype: int64"
      ]
     },
     "execution_count": 270,
     "metadata": {},
     "output_type": "execute_result"
    }
   ],
   "source": [
    "test['vegetarian'].value_counts()"
   ]
  },
  {
   "cell_type": "code",
   "execution_count": null,
   "metadata": {},
   "outputs": [],
   "source": []
  }
 ],
 "metadata": {
  "kernelspec": {
   "display_name": "Python 3",
   "language": "python",
   "name": "python3"
  },
  "language_info": {
   "codemirror_mode": {
    "name": "ipython",
    "version": 3
   },
   "file_extension": ".py",
   "mimetype": "text/x-python",
   "name": "python",
   "nbconvert_exporter": "python",
   "pygments_lexer": "ipython3",
   "version": "3.7.7"
  }
 },
 "nbformat": 4,
 "nbformat_minor": 4
}
