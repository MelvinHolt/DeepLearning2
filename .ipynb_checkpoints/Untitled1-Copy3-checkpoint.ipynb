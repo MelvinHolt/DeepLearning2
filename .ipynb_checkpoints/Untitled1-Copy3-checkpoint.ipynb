{
 "cells": [
  {
   "cell_type": "markdown",
   "metadata": {},
   "source": [
    "# Main"
   ]
  },
  {
   "cell_type": "code",
   "execution_count": 1,
   "metadata": {},
   "outputs": [
    {
     "name": "stderr",
     "output_type": "stream",
     "text": [
      "Using TensorFlow backend.\n"
     ]
    }
   ],
   "source": [
    "import pandas as pd\n",
    "from keras.preprocessing.image import ImageDataGenerator\n",
    "from keras.models import Model, Sequential\n",
    "from keras.layers import Input, Dense, Conv2D, MaxPooling2D, Flatten, Activation, Dropout, Lambda\n",
    "from keras.optimizers import Adam\n",
    "from keras.callbacks import ReduceLROnPlateau, ModelCheckpoint\n",
    "import matplotlib.pyplot as plt\n",
    "import numpy as np\n",
    "import os\n",
    "\n",
    "from keras.applications.resnet50 import ResNet50\n",
    "from keras.applications.inception_v3 import InceptionV3\n",
    "\n"
   ]
  },
  {
   "cell_type": "code",
   "execution_count": 2,
   "metadata": {},
   "outputs": [
    {
     "data": {
      "text/plain": [
       "0.578544061302682"
      ]
     },
     "execution_count": 2,
     "metadata": {},
     "output_type": "execute_result"
    }
   ],
   "source": [
    "453/783"
   ]
  },
  {
   "cell_type": "markdown",
   "metadata": {},
   "source": [
    "## Parameters"
   ]
  },
  {
   "cell_type": "code",
   "execution_count": 3,
   "metadata": {},
   "outputs": [],
   "source": [
    "classes = pd.read_csv('ingredients_labeled.csv')\n",
    "CLASSES = classes['ingredient'].dropna().values.tolist()"
   ]
  },
  {
   "cell_type": "code",
   "execution_count": 4,
   "metadata": {},
   "outputs": [],
   "source": [
    "USE_RESNET = True\n",
    "\n",
    "INPUT_SHAPE = (100, 100, 3)\n",
    "NUM_CLASSES =  1104\n",
    "LEARNING_RATE = 0.001\n",
    "PATIENCE = 5\n",
    "VERBOSE = 1\n",
    "LEARNING_RATE_REDUCTION_FACTOR = 0.5\n",
    "MIN_LEARNING_RATE = 0.00001\n",
    "\n",
    "EPOCHS = 100\n",
    "BATCH_SIZE = 50\n",
    "\n",
    "MODEL_NAME = 'multilabel'\n",
    "OUTPUT_DIR = 'output'\n",
    "SEED = 42\n",
    "\n",
    "MODEL_OUT_DIR = os.path.join(OUTPUT_DIR, MODEL_NAME)\n",
    "                            \n",
    "if not os.path.exists(MODEL_OUT_DIR):\n",
    "    os.makedirs(MODEL_OUT_DIR)"
   ]
  },
  {
   "cell_type": "markdown",
   "metadata": {},
   "source": [
    "## Load Data"
   ]
  },
  {
   "cell_type": "code",
   "execution_count": 5,
   "metadata": {},
   "outputs": [],
   "source": [
    "train_labeled = pd.read_csv('data/train_labeled.csv').dropna()\n",
    "test_labeled = pd.read_csv('data/test_labeled.csv').dropna()\n",
    "val_labeled = pd.read_csv('data/val_labeled.csv').dropna()"
   ]
  },
  {
   "cell_type": "code",
   "execution_count": 6,
   "metadata": {},
   "outputs": [
    {
     "data": {
      "text/html": [
       "<div>\n",
       "<style scoped>\n",
       "    .dataframe tbody tr th:only-of-type {\n",
       "        vertical-align: middle;\n",
       "    }\n",
       "\n",
       "    .dataframe tbody tr th {\n",
       "        vertical-align: top;\n",
       "    }\n",
       "\n",
       "    .dataframe thead th {\n",
       "        text-align: right;\n",
       "    }\n",
       "</style>\n",
       "<table border=\"1\" class=\"dataframe\">\n",
       "  <thead>\n",
       "    <tr style=\"text-align: right;\">\n",
       "      <th></th>\n",
       "      <th>position</th>\n",
       "      <th>ingredients</th>\n",
       "      <th>url</th>\n",
       "      <th>ingredients_cleaned</th>\n",
       "      <th>category</th>\n",
       "      <th>label</th>\n",
       "      <th>vegetarian</th>\n",
       "    </tr>\n",
       "  </thead>\n",
       "  <tbody>\n",
       "    <tr>\n",
       "      <th>0</th>\n",
       "      <td>69</td>\n",
       "      <td>flour,salt,oil,cold water,apple,sugar,cinnamon...</td>\n",
       "      <td>apple_pie/20_homemade_apple_pie_hostedLargeUrl...</td>\n",
       "      <td>flour,salt,oil,apple,sugar,cinnamon,butter</td>\n",
       "      <td>apple_pie</td>\n",
       "      <td>Vegetarian</td>\n",
       "      <td>0</td>\n",
       "    </tr>\n",
       "    <tr>\n",
       "      <th>1</th>\n",
       "      <td>91</td>\n",
       "      <td>shell,pie,sugar,flour,cinnamon,apple,lemon,but...</td>\n",
       "      <td>apple_pie/43_homestyle_apple_pie_hostedLargeUr...</td>\n",
       "      <td>pie,sugar,flour,cinnamon,apple,lemon,butter,milk</td>\n",
       "      <td>apple_pie</td>\n",
       "      <td>Vegetarian</td>\n",
       "      <td>0</td>\n",
       "    </tr>\n",
       "    <tr>\n",
       "      <th>2</th>\n",
       "      <td>77</td>\n",
       "      <td>apple,lemon,sugar,flour,cinnamon,nut,butter,sa...</td>\n",
       "      <td>apple_pie/28_apple_pie_hostedLargeUrl.jpg</td>\n",
       "      <td>apple,lemon,sugar,flour,cinnamon,nut,butter,sa...</td>\n",
       "      <td>apple_pie</td>\n",
       "      <td>Vegetarian</td>\n",
       "      <td>0</td>\n",
       "    </tr>\n",
       "    <tr>\n",
       "      <th>3</th>\n",
       "      <td>88</td>\n",
       "      <td>pie,apple,sugar,corn starch,cinnamon,lemon,but...</td>\n",
       "      <td>apple_pie/39_classic_apple_pie_hostedLargeUrl.jpg</td>\n",
       "      <td>pie,apple,sugar,cinnamon,lemon,butter,egg</td>\n",
       "      <td>apple_pie</td>\n",
       "      <td>Vegetarian</td>\n",
       "      <td>0</td>\n",
       "    </tr>\n",
       "    <tr>\n",
       "      <th>4</th>\n",
       "      <td>62</td>\n",
       "      <td>apple,brown sugar,butter,cinnamon,allspice,nut...</td>\n",
       "      <td>apple_pie/13_mug_apple_pie_hostedLargeUrl.jpg</td>\n",
       "      <td>apple,brown sugar,butter,cinnamon,allspice,nut...</td>\n",
       "      <td>apple_pie</td>\n",
       "      <td>Vegetarian</td>\n",
       "      <td>0</td>\n",
       "    </tr>\n",
       "    <tr>\n",
       "      <th>...</th>\n",
       "      <td>...</td>\n",
       "      <td>...</td>\n",
       "      <td>...</td>\n",
       "      <td>...</td>\n",
       "      <td>...</td>\n",
       "      <td>...</td>\n",
       "      <td>...</td>\n",
       "    </tr>\n",
       "    <tr>\n",
       "      <th>3809</th>\n",
       "      <td>3912</td>\n",
       "      <td>soy,oil,gin,pepper,oil,shrimp,salt,black peppe...</td>\n",
       "      <td>fried_rice/bl_44_shrimp_fried_rice_hostedLarge...</td>\n",
       "      <td>oil,gin,pepper,oil,shrimp,salt,black pepper,ga...</td>\n",
       "      <td>fried_rice</td>\n",
       "      <td>Vegetarian-Not</td>\n",
       "      <td>1</td>\n",
       "    </tr>\n",
       "    <tr>\n",
       "      <th>3810</th>\n",
       "      <td>4412</td>\n",
       "      <td>spaghetti,pancetta,egg,garlic,cheese,gin,parsl...</td>\n",
       "      <td>spaghetti_carbonara/bl_10_spaghetti_carbonara_...</td>\n",
       "      <td>spaghetti,pancetta,egg,garlic,cheese,gin,parsl...</td>\n",
       "      <td>spaghetti_carbonara</td>\n",
       "      <td>Vegetarian-Not</td>\n",
       "      <td>0</td>\n",
       "    </tr>\n",
       "    <tr>\n",
       "      <th>3811</th>\n",
       "      <td>813</td>\n",
       "      <td>tenderloin,onion,mayonnaise,mustard,fig,hazeln...</td>\n",
       "      <td>beef_tartare/bl_28_veal_tartare_with_figs,_haz...</td>\n",
       "      <td>onion,mayonnaise,mustard,fig,hazelnut,anchovie...</td>\n",
       "      <td>beef_tartare</td>\n",
       "      <td>Vegetarian-Not</td>\n",
       "      <td>1</td>\n",
       "    </tr>\n",
       "    <tr>\n",
       "      <th>3812</th>\n",
       "      <td>4390</td>\n",
       "      <td>onion,water,country crock\\u00ae spread,ketchup...</td>\n",
       "      <td>hot_dog/bl_38_onion-smothered_hot_dogs_hostedL...</td>\n",
       "      <td>onion,ketchup,sugar,frankfurter</td>\n",
       "      <td>hot_dog</td>\n",
       "      <td>Vegetarian-Not</td>\n",
       "      <td>0</td>\n",
       "    </tr>\n",
       "    <tr>\n",
       "      <th>3813</th>\n",
       "      <td>1712</td>\n",
       "      <td>paella,chicken,shrimp,mussels,cod,cloves,peppe...</td>\n",
       "      <td>paella/bl_3_paella_hostedLargeUrl.jpg</td>\n",
       "      <td>paella,chicken,shrimp,mussels,cod,cloves,peppe...</td>\n",
       "      <td>paella</td>\n",
       "      <td>Vegetarian-Not</td>\n",
       "      <td>1</td>\n",
       "    </tr>\n",
       "  </tbody>\n",
       "</table>\n",
       "<p>3810 rows × 7 columns</p>\n",
       "</div>"
      ],
      "text/plain": [
       "      position                                        ingredients  \\\n",
       "0           69  flour,salt,oil,cold water,apple,sugar,cinnamon...   \n",
       "1           91  shell,pie,sugar,flour,cinnamon,apple,lemon,but...   \n",
       "2           77  apple,lemon,sugar,flour,cinnamon,nut,butter,sa...   \n",
       "3           88  pie,apple,sugar,corn starch,cinnamon,lemon,but...   \n",
       "4           62  apple,brown sugar,butter,cinnamon,allspice,nut...   \n",
       "...        ...                                                ...   \n",
       "3809      3912  soy,oil,gin,pepper,oil,shrimp,salt,black peppe...   \n",
       "3810      4412  spaghetti,pancetta,egg,garlic,cheese,gin,parsl...   \n",
       "3811       813  tenderloin,onion,mayonnaise,mustard,fig,hazeln...   \n",
       "3812      4390  onion,water,country crock\\u00ae spread,ketchup...   \n",
       "3813      1712  paella,chicken,shrimp,mussels,cod,cloves,peppe...   \n",
       "\n",
       "                                                    url  \\\n",
       "0     apple_pie/20_homemade_apple_pie_hostedLargeUrl...   \n",
       "1     apple_pie/43_homestyle_apple_pie_hostedLargeUr...   \n",
       "2             apple_pie/28_apple_pie_hostedLargeUrl.jpg   \n",
       "3     apple_pie/39_classic_apple_pie_hostedLargeUrl.jpg   \n",
       "4         apple_pie/13_mug_apple_pie_hostedLargeUrl.jpg   \n",
       "...                                                 ...   \n",
       "3809  fried_rice/bl_44_shrimp_fried_rice_hostedLarge...   \n",
       "3810  spaghetti_carbonara/bl_10_spaghetti_carbonara_...   \n",
       "3811  beef_tartare/bl_28_veal_tartare_with_figs,_haz...   \n",
       "3812  hot_dog/bl_38_onion-smothered_hot_dogs_hostedL...   \n",
       "3813              paella/bl_3_paella_hostedLargeUrl.jpg   \n",
       "\n",
       "                                    ingredients_cleaned             category  \\\n",
       "0            flour,salt,oil,apple,sugar,cinnamon,butter            apple_pie   \n",
       "1      pie,sugar,flour,cinnamon,apple,lemon,butter,milk            apple_pie   \n",
       "2     apple,lemon,sugar,flour,cinnamon,nut,butter,sa...            apple_pie   \n",
       "3             pie,apple,sugar,cinnamon,lemon,butter,egg            apple_pie   \n",
       "4     apple,brown sugar,butter,cinnamon,allspice,nut...            apple_pie   \n",
       "...                                                 ...                  ...   \n",
       "3809  oil,gin,pepper,oil,shrimp,salt,black pepper,ga...           fried_rice   \n",
       "3810  spaghetti,pancetta,egg,garlic,cheese,gin,parsl...  spaghetti_carbonara   \n",
       "3811  onion,mayonnaise,mustard,fig,hazelnut,anchovie...         beef_tartare   \n",
       "3812                    onion,ketchup,sugar,frankfurter              hot_dog   \n",
       "3813  paella,chicken,shrimp,mussels,cod,cloves,peppe...               paella   \n",
       "\n",
       "               label  vegetarian  \n",
       "0         Vegetarian           0  \n",
       "1         Vegetarian           0  \n",
       "2         Vegetarian           0  \n",
       "3         Vegetarian           0  \n",
       "4         Vegetarian           0  \n",
       "...              ...         ...  \n",
       "3809  Vegetarian-Not           1  \n",
       "3810  Vegetarian-Not           0  \n",
       "3811  Vegetarian-Not           1  \n",
       "3812  Vegetarian-Not           0  \n",
       "3813  Vegetarian-Not           1  \n",
       "\n",
       "[3810 rows x 7 columns]"
      ]
     },
     "execution_count": 6,
     "metadata": {},
     "output_type": "execute_result"
    }
   ],
   "source": [
    "train_labeled"
   ]
  },
  {
   "cell_type": "code",
   "execution_count": 7,
   "metadata": {},
   "outputs": [],
   "source": [
    "train_labeled['ingredients_cleaned'] = train_labeled['ingredients_cleaned'].apply(lambda x:x.split(\",\"))\n",
    "test_labeled['ingredients_cleaned'] = test_labeled['ingredients_cleaned'].apply(lambda x:x.split(\",\"))\n",
    "val_labeled['ingredients_cleaned'] = val_labeled['ingredients_cleaned'].apply(lambda x:x.split(\",\"))"
   ]
  },
  {
   "cell_type": "markdown",
   "metadata": {},
   "source": [
    "## Create the model"
   ]
  },
  {
   "cell_type": "code",
   "execution_count": 8,
   "metadata": {},
   "outputs": [
    {
     "name": "stderr",
     "output_type": "stream",
     "text": [
      "C:\\Users\\melvi\\Anaconda3\\lib\\site-packages\\keras_applications\\resnet50.py:265: UserWarning: The output shape of `ResNet50(include_top=False)` has been changed since Keras 2.2.0.\n",
      "  warnings.warn('The output shape of `ResNet50(include_top=False)` '\n"
     ]
    }
   ],
   "source": [
    "def image_process(x):\n",
    "    import tensorflow as tf\n",
    "    hsv = tf.image.rgb_to_hsv(x)\n",
    "    gray = tf.image.rgb_to_grayscale(x)\n",
    "    rez = tf.concat([hsv, gray], axis=-1)\n",
    "    return rez\n",
    "\n",
    "def network(input_shape, num_classes):\n",
    "    img_input = Input(shape=input_shape, name='data')\n",
    "    x = Lambda(image_process)(img_input)\n",
    "    x = Conv2D(16, (5, 5), strides=(1, 1), padding='same', name='conv1')(x)\n",
    "    x = Activation('relu', name='conv1_relu')(x)\n",
    "    x = MaxPooling2D((2, 2), strides=(2, 2), padding='valid', name='pool1')(x)\n",
    "    x = Conv2D(32, (5, 5), strides=(1, 1), padding='same', name='conv2')(x)\n",
    "    x = Activation('relu', name='conv2_relu')(x)\n",
    "    x = MaxPooling2D((2, 2), strides=(2, 2), padding='valid', name='pool2')(x)\n",
    "    x = Conv2D(64, (5, 5), strides=(1, 1), padding='same', name='conv3')(x)\n",
    "    x = Activation('relu', name='conv3_relu')(x)\n",
    "    x = MaxPooling2D((2, 2), strides=(2, 2), padding='valid', name='pool3')(x)\n",
    "    x = Conv2D(128, (5, 5), strides=(1, 1), padding='same', name='conv4')(x)\n",
    "    x = Activation('relu', name='conv4_relu')(x)\n",
    "    x = MaxPooling2D((2, 2), strides=(2, 2), padding='valid', name='pool4')(x)\n",
    "    x = Flatten()(x)\n",
    "    x = Dense(1024, activation='relu', name='fcl1')(x)\n",
    "    x = Dropout(0.2)(x)\n",
    "    x = Dense(128, activation='relu', name='fcl2')(x)\n",
    "    x = Dropout(0.2)(x)\n",
    "    out = Dense(num_classes, activation='sigmoid', name='predictions')(x)\n",
    "    rez = Model(inputs=img_input, outputs=out)\n",
    "    return rez\n",
    "\n",
    "def resnet(input_shape, num_classes):\n",
    "    resnet = ResNet50(weights='imagenet',\n",
    "                       input_shape=input_shape,\n",
    "                   include_top=False)\n",
    "    image = resnet.get_layer(index=0).output\n",
    "    output = resnet.get_layer(index=-1).output\n",
    "    output = Flatten()(output)\n",
    "    output = Dense(num_classes, activation='sigmoid', name='predictions')(output)\n",
    "    \n",
    "    resnet = Model(inputs = image, outputs = output)\n",
    "    return resnet\n",
    "    \n",
    "#     resnet = ResNet50(weights='imagenet',\n",
    "#                        input_shape=input_shape,\n",
    "#                    include_top=False)\n",
    "#     image = resnet.get_layer(index=0).output\n",
    "#     output = resnet.get_layer(index=-1).output\n",
    "#     output = Flatten()(output)\n",
    "# #     output = Dense(num_classes, activation='sigmoid', name='predictions')(output)\n",
    "#     for layer in resnet.layers:\n",
    "#         layer.trainable = False\n",
    "        \n",
    "#     resnet = Model(inputs = image, outputs = output)\n",
    "#     model = Sequential()\n",
    "#     model.add(resnet)\n",
    "#     model.add(Dense(512, activation='relu', input_dim=input_shape))\n",
    "#     model.add(Dropout(0.3))\n",
    "#     model.add(Dense(512, activation='relu'))\n",
    "#     model.add(Dropout(0.3))\n",
    "#     model.add(Dense(num_classes, activation='sigmoid', name='predictions'))\n",
    "#     model.summary();\n",
    "    \n",
    "#     return model\n",
    "    \n",
    "# model = network(input_shape=INPUT_SHAPE, num_classes=NUM_CLASSES)\n",
    "if USE_RESNET:\n",
    "    model = resnet(input_shape=INPUT_SHAPE, num_classes=NUM_CLASSES)\n",
    "else:\n",
    "    model = network(input_shape=INPUT_SHAPE, num_classes=NUM_CLASSES)"
   ]
  },
  {
   "cell_type": "code",
   "execution_count": 9,
   "metadata": {},
   "outputs": [],
   "source": [
    "# restnet = model"
   ]
  },
  {
   "cell_type": "code",
   "execution_count": 10,
   "metadata": {},
   "outputs": [],
   "source": [
    "# image = model.get_layer(index=0).output\n",
    "# # x= model.get_layer('avg_pool').output\n",
    "# output = model.get_layer(index=-1).output\n",
    "# output = Flatten()(output)\n",
    "# output = Dense(NUM_CLASSES, activation='softmax', name='predictions')(output)\n",
    "\n",
    "# restnet = Model(inputs = model.input, outputs = output)\n",
    "# model = restnet"
   ]
  },
  {
   "cell_type": "markdown",
   "metadata": {},
   "source": [
    "## Creating the Data Generators"
   ]
  },
  {
   "cell_type": "code",
   "execution_count": 11,
   "metadata": {},
   "outputs": [
    {
     "name": "stdout",
     "output_type": "stream",
     "text": [
      "Found 3810 validated image filenames belonging to 1104 classes.\n"
     ]
    }
   ],
   "source": [
    "datagen = ImageDataGenerator(\n",
    "        width_shift_range=0.0,\n",
    "        height_shift_range=0.0,\n",
    "        zoom_range=0.0,\n",
    "        horizontal_flip=True,\n",
    "        vertical_flip=True,  # randomly flip images\n",
    ")\n",
    "\n",
    "\n",
    "train_generator = datagen.flow_from_dataframe(\n",
    "    dataframe=train_labeled,\n",
    "    directory=\"./Recipes5k/images/\",\n",
    "    x_col=\"url\",\n",
    "    y_col=\"ingredients_cleaned\",\n",
    "    batch_size=32,\n",
    "    seed=SEED,\n",
    "    shuffle=True,\n",
    "    class_mode=\"categorical\",\n",
    "    classes=CLASSES,\n",
    "    target_size=(100,100)\n",
    ")"
   ]
  },
  {
   "cell_type": "code",
   "execution_count": 23,
   "metadata": {},
   "outputs": [
    {
     "name": "stdout",
     "output_type": "stream",
     "text": [
      "Found 783 validated image filenames belonging to 1104 classes.\n"
     ]
    }
   ],
   "source": [
    "test_datagen = ImageDataGenerator()\n",
    "\n",
    "\n",
    "test_generator = test_datagen.flow_from_dataframe(\n",
    "    dataframe=test_labeled,\n",
    "    directory=\"./Recipes5k/images/\",\n",
    "    x_col=\"url\",\n",
    "    y_col=\"ingredients_cleaned\",\n",
    "    batch_size=1,\n",
    "    seed=SEED,\n",
    "    shuffle=False,\n",
    "    class_mode=\"categorical\",\n",
    "    classes=CLASSES,\n",
    "    target_size=(100,100)\n",
    ")"
   ]
  },
  {
   "cell_type": "code",
   "execution_count": 13,
   "metadata": {},
   "outputs": [],
   "source": [
    "val_datagen = ImageDataGenerator(\n",
    "        width_shift_range=0.0,\n",
    "        height_shift_range=0.0,\n",
    "        zoom_range=0.0,\n",
    "        horizontal_flip=True,\n",
    "        vertical_flip=True,  # randomly flip images\n",
    ")"
   ]
  },
  {
   "cell_type": "code",
   "execution_count": 14,
   "metadata": {},
   "outputs": [
    {
     "name": "stdout",
     "output_type": "stream",
     "text": [
      "Found 633 validated image filenames belonging to 1104 classes.\n"
     ]
    }
   ],
   "source": [
    "val_generator = val_datagen.flow_from_dataframe(\n",
    "    dataframe=val_labeled,\n",
    "    directory=\"./Recipes5k/images/\",\n",
    "    x_col=\"url\",\n",
    "    y_col=\"ingredients_cleaned\",\n",
    "    batch_size=32,\n",
    "    seed=SEED,\n",
    "    shuffle=False,\n",
    "    class_mode=\"categorical\",\n",
    "    classes=CLASSES,\n",
    "    target_size=(100,100)\n",
    ")"
   ]
  },
  {
   "cell_type": "code",
   "execution_count": 15,
   "metadata": {},
   "outputs": [
    {
     "data": {
      "text/plain": [
       "Vegetarian-Not    1906\n",
       "Vegetarian        1904\n",
       "Name: label, dtype: int64"
      ]
     },
     "execution_count": 15,
     "metadata": {},
     "output_type": "execute_result"
    }
   ],
   "source": [
    "train_labeled['label'].value_counts()"
   ]
  },
  {
   "cell_type": "code",
   "execution_count": 16,
   "metadata": {},
   "outputs": [],
   "source": [
    "from sklearn.metrics import coverage_error\n",
    "\n"
   ]
  },
  {
   "cell_type": "code",
   "execution_count": 17,
   "metadata": {},
   "outputs": [],
   "source": [
    "import keras_metrics\n",
    "import tensorflow as tf"
   ]
  },
  {
   "cell_type": "code",
   "execution_count": 18,
   "metadata": {},
   "outputs": [
    {
     "name": "stdout",
     "output_type": "stream",
     "text": [
      "Epoch 1/100\n",
      "77/77 [==============================] - 236s 3s/step - loss: 0.0423 - accuracy: 0.9861 - val_loss: 0.0810 - val_accuracy: 0.9915\n",
      "\n",
      "Epoch 00001: val_accuracy improved from -inf to 0.99151, saving model to output\\multilabel/model.h5\n",
      "Epoch 2/100\n",
      "77/77 [==============================] - 221s 3s/step - loss: 0.0234 - accuracy: 0.9929 - val_loss: 0.0489 - val_accuracy: 0.9908\n",
      "\n",
      "Epoch 00002: val_accuracy did not improve from 0.99151\n",
      "Epoch 3/100\n",
      "77/77 [==============================] - 213s 3s/step - loss: 0.0225 - accuracy: 0.9929 - val_loss: 0.0243 - val_accuracy: 0.9929\n",
      "\n",
      "Epoch 00003: val_accuracy improved from 0.99151 to 0.99294, saving model to output\\multilabel/model.h5\n",
      "Epoch 4/100\n",
      "77/77 [==============================] - 213s 3s/step - loss: 0.0215 - accuracy: 0.9931 - val_loss: 0.0226 - val_accuracy: 0.9929\n",
      "\n",
      "Epoch 00004: val_accuracy did not improve from 0.99294\n",
      "Epoch 5/100\n",
      "77/77 [==============================] - 213s 3s/step - loss: 0.0207 - accuracy: 0.9932 - val_loss: 0.0272 - val_accuracy: 0.9923\n",
      "\n",
      "Epoch 00005: val_accuracy did not improve from 0.99294\n",
      "Epoch 6/100\n",
      "77/77 [==============================] - 215s 3s/step - loss: 0.0197 - accuracy: 0.9934 - val_loss: 0.0230 - val_accuracy: 0.9930\n",
      "\n",
      "Epoch 00006: val_accuracy improved from 0.99294 to 0.99299, saving model to output\\multilabel/model.h5\n",
      "Epoch 7/100\n",
      "77/77 [==============================] - 212s 3s/step - loss: 0.0191 - accuracy: 0.9935 - val_loss: 0.0227 - val_accuracy: 0.9926\n",
      "\n",
      "Epoch 00007: val_accuracy did not improve from 0.99299\n",
      "Epoch 8/100\n",
      "77/77 [==============================] - 215s 3s/step - loss: 0.0184 - accuracy: 0.9937 - val_loss: 0.0288 - val_accuracy: 0.9923\n",
      "\n",
      "Epoch 00008: val_accuracy did not improve from 0.99299\n",
      "Epoch 9/100\n",
      "77/77 [==============================] - 213s 3s/step - loss: 0.0174 - accuracy: 0.9939 - val_loss: 0.0314 - val_accuracy: 0.9928\n",
      "\n",
      "Epoch 00009: ReduceLROnPlateau reducing learning rate to 0.0005000000237487257.\n",
      "\n",
      "Epoch 00009: val_accuracy did not improve from 0.99299\n",
      "Epoch 10/100\n",
      "77/77 [==============================] - 216s 3s/step - loss: 0.0152 - accuracy: 0.9946 - val_loss: 0.0293 - val_accuracy: 0.9928\n",
      "\n",
      "Epoch 00010: val_accuracy did not improve from 0.99299\n",
      "Epoch 11/100\n",
      "77/77 [==============================] - 213s 3s/step - loss: 0.0141 - accuracy: 0.9950 - val_loss: 0.0262 - val_accuracy: 0.9926\n",
      "\n",
      "Epoch 00011: val_accuracy did not improve from 0.99299\n",
      "Epoch 12/100\n",
      "77/77 [==============================] - 214s 3s/step - loss: 0.0122 - accuracy: 0.9956 - val_loss: 0.0226 - val_accuracy: 0.9928\n",
      "\n",
      "Epoch 00012: val_accuracy did not improve from 0.99299\n",
      "Epoch 13/100\n",
      "77/77 [==============================] - 216s 3s/step - loss: 0.0112 - accuracy: 0.9960 - val_loss: 0.0241 - val_accuracy: 0.9927\n",
      "\n",
      "Epoch 00013: val_accuracy did not improve from 0.99299\n",
      "Epoch 14/100\n",
      "77/77 [==============================] - 214s 3s/step - loss: 0.0107 - accuracy: 0.9962 - val_loss: 0.0267 - val_accuracy: 0.9924\n",
      "\n",
      "Epoch 00014: ReduceLROnPlateau reducing learning rate to 0.0002500000118743628.\n",
      "\n",
      "Epoch 00014: val_accuracy did not improve from 0.99299\n",
      "Epoch 15/100\n",
      "77/77 [==============================] - 215s 3s/step - loss: 0.0087 - accuracy: 0.9970 - val_loss: 0.0292 - val_accuracy: 0.9928\n",
      "\n",
      "Epoch 00015: val_accuracy did not improve from 0.99299\n",
      "Epoch 16/100\n",
      "77/77 [==============================] - 213s 3s/step - loss: 0.0078 - accuracy: 0.9974 - val_loss: 0.0189 - val_accuracy: 0.9928\n",
      "\n",
      "Epoch 00016: val_accuracy did not improve from 0.99299\n",
      "Epoch 17/100\n",
      "77/77 [==============================] - 216s 3s/step - loss: 0.0071 - accuracy: 0.9977 - val_loss: 0.0344 - val_accuracy: 0.9925\n",
      "\n",
      "Epoch 00017: val_accuracy did not improve from 0.99299\n",
      "Epoch 18/100\n",
      "77/77 [==============================] - 216s 3s/step - loss: 0.0058 - accuracy: 0.9982 - val_loss: 0.0266 - val_accuracy: 0.9928\n",
      "\n",
      "Epoch 00018: val_accuracy did not improve from 0.99299\n",
      "Epoch 19/100\n",
      "77/77 [==============================] - 215s 3s/step - loss: 0.0064 - accuracy: 0.9980 - val_loss: 0.0191 - val_accuracy: 0.9927\n",
      "\n",
      "Epoch 00019: val_accuracy did not improve from 0.99299\n",
      "Epoch 20/100\n",
      "77/77 [==============================] - 214s 3s/step - loss: 0.0059 - accuracy: 0.9982 - val_loss: 0.0215 - val_accuracy: 0.9927\n",
      "\n",
      "Epoch 00020: val_accuracy did not improve from 0.99299\n",
      "Epoch 21/100\n",
      "77/77 [==============================] - 217s 3s/step - loss: 0.0048 - accuracy: 0.9984 - val_loss: 0.0352 - val_accuracy: 0.9926\n",
      "\n",
      "Epoch 00021: ReduceLROnPlateau reducing learning rate to 0.0001250000059371814.\n",
      "\n",
      "Epoch 00021: val_accuracy did not improve from 0.99299\n",
      "Epoch 22/100\n",
      "77/77 [==============================] - 14265s 185s/step - loss: 0.0045 - accuracy: 0.9986 - val_loss: 0.0276 - val_accuracy: 0.9926\n",
      "\n",
      "Epoch 00022: val_accuracy did not improve from 0.99299\n",
      "Epoch 23/100\n",
      "77/77 [==============================] - 210s 3s/step - loss: 0.0037 - accuracy: 0.9989 - val_loss: 0.0311 - val_accuracy: 0.9930\n",
      "\n",
      "Epoch 00023: val_accuracy did not improve from 0.99299\n",
      "Epoch 24/100\n",
      "77/77 [==============================] - 209s 3s/step - loss: 0.0032 - accuracy: 0.9991 - val_loss: 0.0266 - val_accuracy: 0.9929\n",
      "\n",
      "Epoch 00024: val_accuracy did not improve from 0.99299\n",
      "Epoch 25/100\n",
      "77/77 [==============================] - 209s 3s/step - loss: 0.0031 - accuracy: 0.9991 - val_loss: 0.0387 - val_accuracy: 0.9924\n",
      "\n",
      "Epoch 00025: val_accuracy did not improve from 0.99299\n",
      "Epoch 26/100\n",
      "77/77 [==============================] - 210s 3s/step - loss: 0.0027 - accuracy: 0.9993 - val_loss: 0.0304 - val_accuracy: 0.9931\n",
      "\n",
      "Epoch 00026: ReduceLROnPlateau reducing learning rate to 6.25000029685907e-05.\n",
      "\n",
      "Epoch 00026: val_accuracy improved from 0.99299 to 0.99306, saving model to output\\multilabel/model.h5\n",
      "Epoch 27/100\n",
      "77/77 [==============================] - 211s 3s/step - loss: 0.0024 - accuracy: 0.9994 - val_loss: 0.0296 - val_accuracy: 0.9929\n",
      "\n",
      "Epoch 00027: val_accuracy did not improve from 0.99306\n",
      "Epoch 28/100\n",
      "77/77 [==============================] - 211s 3s/step - loss: 0.0022 - accuracy: 0.9995 - val_loss: 0.0362 - val_accuracy: 0.9927\n",
      "\n",
      "Epoch 00028: val_accuracy did not improve from 0.99306\n",
      "Epoch 29/100\n",
      "77/77 [==============================] - 211s 3s/step - loss: 0.0020 - accuracy: 0.9995 - val_loss: 0.0487 - val_accuracy: 0.9930\n",
      "\n",
      "Epoch 00029: val_accuracy did not improve from 0.99306\n",
      "Epoch 30/100\n",
      "77/77 [==============================] - 213s 3s/step - loss: 0.0018 - accuracy: 0.9996 - val_loss: 0.0431 - val_accuracy: 0.9929\n",
      "\n",
      "Epoch 00030: val_accuracy did not improve from 0.99306\n",
      "Epoch 31/100\n",
      "77/77 [==============================] - 211s 3s/step - loss: 0.0020 - accuracy: 0.9996 - val_loss: 0.0344 - val_accuracy: 0.9928\n",
      "\n",
      "Epoch 00031: ReduceLROnPlateau reducing learning rate to 3.125000148429535e-05.\n",
      "\n",
      "Epoch 00031: val_accuracy did not improve from 0.99306\n",
      "Epoch 32/100\n",
      "77/77 [==============================] - 214s 3s/step - loss: 0.0014 - accuracy: 0.9997 - val_loss: 0.0284 - val_accuracy: 0.9930\n",
      "\n",
      "Epoch 00032: val_accuracy did not improve from 0.99306\n",
      "Epoch 33/100\n",
      "77/77 [==============================] - 210s 3s/step - loss: 0.0018 - accuracy: 0.9997 - val_loss: 0.0357 - val_accuracy: 0.9930\n",
      "\n",
      "Epoch 00033: val_accuracy did not improve from 0.99306\n",
      "Epoch 34/100\n",
      "77/77 [==============================] - 215s 3s/step - loss: 0.0013 - accuracy: 0.9998 - val_loss: 0.0364 - val_accuracy: 0.9927\n",
      "\n",
      "Epoch 00034: val_accuracy did not improve from 0.99306\n",
      "Epoch 35/100\n",
      "77/77 [==============================] - 213s 3s/step - loss: 0.0013 - accuracy: 0.9997 - val_loss: 0.0424 - val_accuracy: 0.9929\n",
      "\n",
      "Epoch 00035: val_accuracy did not improve from 0.99306\n",
      "Epoch 36/100\n",
      "77/77 [==============================] - 212s 3s/step - loss: 0.0013 - accuracy: 0.9998 - val_loss: 0.0269 - val_accuracy: 0.9929\n",
      "\n",
      "Epoch 00036: ReduceLROnPlateau reducing learning rate to 1.5625000742147677e-05.\n",
      "\n",
      "Epoch 00036: val_accuracy did not improve from 0.99306\n",
      "Epoch 37/100\n",
      "77/77 [==============================] - 211s 3s/step - loss: 0.0015 - accuracy: 0.9998 - val_loss: 0.0476 - val_accuracy: 0.9928\n",
      "\n",
      "Epoch 00037: val_accuracy did not improve from 0.99306\n",
      "Epoch 38/100\n",
      "77/77 [==============================] - 214s 3s/step - loss: 0.0011 - accuracy: 0.9998 - val_loss: 0.0368 - val_accuracy: 0.9930\n",
      "\n",
      "Epoch 00038: val_accuracy did not improve from 0.99306\n",
      "Epoch 39/100\n",
      "77/77 [==============================] - 212s 3s/step - loss: 0.0013 - accuracy: 0.9998 - val_loss: 0.0248 - val_accuracy: 0.9928\n",
      "\n",
      "Epoch 00039: val_accuracy did not improve from 0.99306\n",
      "Epoch 40/100\n",
      "77/77 [==============================] - 214s 3s/step - loss: 0.0010 - accuracy: 0.9998 - val_loss: 0.0276 - val_accuracy: 0.9930\n",
      "\n",
      "Epoch 00040: val_accuracy did not improve from 0.99306\n",
      "Epoch 41/100\n",
      "77/77 [==============================] - 212s 3s/step - loss: 0.0010 - accuracy: 0.9998 - val_loss: 0.0437 - val_accuracy: 0.9929\n",
      "\n",
      "Epoch 00041: ReduceLROnPlateau reducing learning rate to 1e-05.\n",
      "\n",
      "Epoch 00041: val_accuracy did not improve from 0.99306\n",
      "Epoch 42/100\n",
      "77/77 [==============================] - 211s 3s/step - loss: 0.0012 - accuracy: 0.9998 - val_loss: 0.0328 - val_accuracy: 0.9927\n",
      "\n",
      "Epoch 00042: val_accuracy did not improve from 0.99306\n",
      "Epoch 43/100\n",
      "77/77 [==============================] - 213s 3s/step - loss: 9.1318e-04 - accuracy: 0.9999 - val_loss: 0.0375 - val_accuracy: 0.9931\n",
      "\n",
      "Epoch 00043: val_accuracy improved from 0.99306 to 0.99314, saving model to output\\multilabel/model.h5\n",
      "Epoch 44/100\n",
      "77/77 [==============================] - 210s 3s/step - loss: 0.0011 - accuracy: 0.9998 - val_loss: 0.0330 - val_accuracy: 0.9930\n",
      "\n",
      "Epoch 00044: val_accuracy did not improve from 0.99314\n",
      "Epoch 45/100\n",
      "77/77 [==============================] - 213s 3s/step - loss: 9.1349e-04 - accuracy: 0.9998 - val_loss: 0.0438 - val_accuracy: 0.9925\n",
      "\n",
      "Epoch 00045: val_accuracy did not improve from 0.99314\n",
      "Epoch 46/100\n",
      "77/77 [==============================] - 209s 3s/step - loss: 0.0011 - accuracy: 0.9999 - val_loss: 0.0350 - val_accuracy: 0.9932\n",
      "\n",
      "Epoch 00046: val_accuracy improved from 0.99314 to 0.99318, saving model to output\\multilabel/model.h5\n",
      "Epoch 47/100\n",
      "77/77 [==============================] - 212s 3s/step - loss: 9.2226e-04 - accuracy: 0.9998 - val_loss: 0.0347 - val_accuracy: 0.9929\n",
      "\n",
      "Epoch 00047: val_accuracy did not improve from 0.99318\n",
      "Epoch 48/100\n",
      "77/77 [==============================] - 211s 3s/step - loss: 0.0012 - accuracy: 0.9999 - val_loss: 0.0389 - val_accuracy: 0.9928\n",
      "\n",
      "Epoch 00048: val_accuracy did not improve from 0.99318\n",
      "Epoch 49/100\n",
      "77/77 [==============================] - 213s 3s/step - loss: 8.1867e-04 - accuracy: 0.9999 - val_loss: 0.0522 - val_accuracy: 0.9931\n",
      "\n",
      "Epoch 00049: val_accuracy did not improve from 0.99318\n",
      "Epoch 50/100\n",
      "77/77 [==============================] - 211s 3s/step - loss: 9.8202e-04 - accuracy: 0.9999 - val_loss: 0.0484 - val_accuracy: 0.9929\n",
      "\n",
      "Epoch 00050: val_accuracy did not improve from 0.99318\n",
      "Epoch 51/100\n",
      "77/77 [==============================] - 211s 3s/step - loss: 9.6794e-04 - accuracy: 0.9999 - val_loss: 0.0418 - val_accuracy: 0.9927\n",
      "\n",
      "Epoch 00051: val_accuracy did not improve from 0.99318\n",
      "Epoch 52/100\n",
      "77/77 [==============================] - 213s 3s/step - loss: 8.4373e-04 - accuracy: 0.9999 - val_loss: 0.0284 - val_accuracy: 0.9931\n",
      "\n",
      "Epoch 00052: val_accuracy did not improve from 0.99318\n",
      "Epoch 53/100\n",
      "77/77 [==============================] - 212s 3s/step - loss: 9.4313e-04 - accuracy: 0.9999 - val_loss: 0.0377 - val_accuracy: 0.9930\n",
      "\n",
      "Epoch 00053: val_accuracy did not improve from 0.99318\n",
      "Epoch 54/100\n",
      "77/77 [==============================] - 211s 3s/step - loss: 9.5093e-04 - accuracy: 0.9999 - val_loss: 0.0385 - val_accuracy: 0.9928\n",
      "\n",
      "Epoch 00054: val_accuracy did not improve from 0.99318\n",
      "Epoch 55/100\n",
      "77/77 [==============================] - 212s 3s/step - loss: 9.1429e-04 - accuracy: 0.9999 - val_loss: 0.0452 - val_accuracy: 0.9929\n",
      "\n",
      "Epoch 00055: val_accuracy did not improve from 0.99318\n",
      "Epoch 56/100\n",
      "77/77 [==============================] - 214s 3s/step - loss: 7.3615e-04 - accuracy: 0.9999 - val_loss: 0.0285 - val_accuracy: 0.9930\n",
      "\n",
      "Epoch 00056: val_accuracy did not improve from 0.99318\n",
      "Epoch 57/100\n",
      "77/77 [==============================] - 211s 3s/step - loss: 8.8863e-04 - accuracy: 0.9999 - val_loss: 0.0537 - val_accuracy: 0.9928\n",
      "\n",
      "Epoch 00057: val_accuracy did not improve from 0.99318\n",
      "Epoch 58/100\n",
      "77/77 [==============================] - 211s 3s/step - loss: 9.0225e-04 - accuracy: 0.9999 - val_loss: 0.0395 - val_accuracy: 0.9931\n",
      "\n",
      "Epoch 00058: val_accuracy did not improve from 0.99318\n",
      "Epoch 59/100\n",
      "77/77 [==============================] - 213s 3s/step - loss: 7.1866e-04 - accuracy: 0.9999 - val_loss: 0.0275 - val_accuracy: 0.9929\n",
      "\n",
      "Epoch 00059: val_accuracy did not improve from 0.99318\n",
      "Epoch 60/100\n",
      "77/77 [==============================] - 213s 3s/step - loss: 7.0440e-04 - accuracy: 0.9999 - val_loss: 0.0285 - val_accuracy: 0.9930\n",
      "\n",
      "Epoch 00060: val_accuracy did not improve from 0.99318\n",
      "Epoch 61/100\n",
      "77/77 [==============================] - 212s 3s/step - loss: 8.9954e-04 - accuracy: 0.9999 - val_loss: 0.0476 - val_accuracy: 0.9929\n",
      "\n",
      "Epoch 00061: val_accuracy did not improve from 0.99318\n",
      "Epoch 62/100\n",
      "77/77 [==============================] - 211s 3s/step - loss: 7.7690e-04 - accuracy: 0.9999 - val_loss: 0.0377 - val_accuracy: 0.9927\n",
      "\n",
      "Epoch 00062: val_accuracy did not improve from 0.99318\n",
      "Epoch 63/100\n",
      "77/77 [==============================] - 213s 3s/step - loss: 6.6650e-04 - accuracy: 0.9999 - val_loss: 0.0390 - val_accuracy: 0.9931\n",
      "\n",
      "Epoch 00063: val_accuracy did not improve from 0.99318\n",
      "Epoch 64/100\n",
      "77/77 [==============================] - 212s 3s/step - loss: 9.1523e-04 - accuracy: 0.9999 - val_loss: 0.0332 - val_accuracy: 0.9930\n",
      "\n",
      "Epoch 00064: val_accuracy did not improve from 0.99318\n",
      "Epoch 65/100\n",
      "77/77 [==============================] - 213s 3s/step - loss: 6.3610e-04 - accuracy: 0.9999 - val_loss: 0.0466 - val_accuracy: 0.9927\n",
      "\n",
      "Epoch 00065: val_accuracy did not improve from 0.99318\n",
      "Epoch 66/100\n",
      "77/77 [==============================] - 211s 3s/step - loss: 8.9140e-04 - accuracy: 0.9999 - val_loss: 0.0356 - val_accuracy: 0.9931\n",
      "\n",
      "Epoch 00066: val_accuracy did not improve from 0.99318\n",
      "Epoch 67/100\n",
      "77/77 [==============================] - 211s 3s/step - loss: 6.8782e-04 - accuracy: 0.9999 - val_loss: 0.0365 - val_accuracy: 0.9930\n",
      "\n",
      "Epoch 00067: val_accuracy did not improve from 0.99318\n",
      "Epoch 68/100\n",
      "77/77 [==============================] - 212s 3s/step - loss: 7.0617e-04 - accuracy: 0.9999 - val_loss: 0.0405 - val_accuracy: 0.9928\n",
      "\n",
      "Epoch 00068: val_accuracy did not improve from 0.99318\n",
      "Epoch 69/100\n",
      "77/77 [==============================] - 213s 3s/step - loss: 6.2339e-04 - accuracy: 0.9999 - val_loss: 0.0538 - val_accuracy: 0.9932\n",
      "\n",
      "Epoch 00069: val_accuracy did not improve from 0.99318\n",
      "Epoch 70/100\n",
      "77/77 [==============================] - 211s 3s/step - loss: 7.3846e-04 - accuracy: 0.9999 - val_loss: 0.0473 - val_accuracy: 0.9931\n",
      "\n",
      "Epoch 00070: val_accuracy did not improve from 0.99318\n",
      "Epoch 71/100\n",
      "77/77 [==============================] - 211s 3s/step - loss: 6.3907e-04 - accuracy: 0.9999 - val_loss: 0.0415 - val_accuracy: 0.9928\n",
      "\n",
      "Epoch 00071: val_accuracy did not improve from 0.99318\n",
      "Epoch 72/100\n",
      "77/77 [==============================] - 212s 3s/step - loss: 6.6850e-04 - accuracy: 0.9999 - val_loss: 0.0320 - val_accuracy: 0.9931\n",
      "\n",
      "Epoch 00072: val_accuracy did not improve from 0.99318\n",
      "Epoch 73/100\n",
      "77/77 [==============================] - 214s 3s/step - loss: 5.7873e-04 - accuracy: 0.9999 - val_loss: 0.0405 - val_accuracy: 0.9930\n",
      "\n",
      "Epoch 00073: val_accuracy did not improve from 0.99318\n",
      "Epoch 74/100\n",
      "77/77 [==============================] - 211s 3s/step - loss: 7.9773e-04 - accuracy: 0.9999 - val_loss: 0.0416 - val_accuracy: 0.9928\n",
      "\n",
      "Epoch 00074: val_accuracy did not improve from 0.99318\n",
      "Epoch 75/100\n",
      "77/77 [==============================] - 212s 3s/step - loss: 7.5920e-04 - accuracy: 0.9999 - val_loss: 0.0451 - val_accuracy: 0.9930\n",
      "\n",
      "Epoch 00075: val_accuracy did not improve from 0.99318\n",
      "Epoch 76/100\n",
      "77/77 [==============================] - 215s 3s/step - loss: 5.6370e-04 - accuracy: 1.0000 - val_loss: 0.0316 - val_accuracy: 0.9931\n",
      "\n",
      "Epoch 00076: val_accuracy did not improve from 0.99318\n",
      "Epoch 77/100\n",
      "77/77 [==============================] - 213s 3s/step - loss: 5.3452e-04 - accuracy: 1.0000 - val_loss: 0.0541 - val_accuracy: 0.9928\n",
      "\n",
      "Epoch 00077: val_accuracy did not improve from 0.99318\n",
      "Epoch 78/100\n",
      "77/77 [==============================] - 212s 3s/step - loss: 5.9662e-04 - accuracy: 0.9999 - val_loss: 0.0383 - val_accuracy: 0.9931\n",
      "\n",
      "Epoch 00078: val_accuracy did not improve from 0.99318\n",
      "Epoch 79/100\n",
      "77/77 [==============================] - 212s 3s/step - loss: 7.5026e-04 - accuracy: 0.9999 - val_loss: 0.0284 - val_accuracy: 0.9929\n",
      "\n",
      "Epoch 00079: val_accuracy did not improve from 0.99318\n",
      "Epoch 80/100\n",
      "77/77 [==============================] - 214s 3s/step - loss: 5.3007e-04 - accuracy: 1.0000 - val_loss: 0.0284 - val_accuracy: 0.9930\n",
      "\n",
      "Epoch 00080: val_accuracy did not improve from 0.99318\n",
      "Epoch 81/100\n",
      "77/77 [==============================] - 212s 3s/step - loss: 6.6270e-04 - accuracy: 1.0000 - val_loss: 0.0491 - val_accuracy: 0.9929\n",
      "\n",
      "Epoch 00081: val_accuracy did not improve from 0.99318\n",
      "Epoch 82/100\n",
      "77/77 [==============================] - 212s 3s/step - loss: 5.5676e-04 - accuracy: 1.0000 - val_loss: 0.0376 - val_accuracy: 0.9928\n",
      "\n",
      "Epoch 00082: val_accuracy did not improve from 0.99318\n",
      "Epoch 83/100\n",
      "77/77 [==============================] - 214s 3s/step - loss: 5.2288e-04 - accuracy: 0.9999 - val_loss: 0.0431 - val_accuracy: 0.9931\n",
      "\n",
      "Epoch 00083: val_accuracy did not improve from 0.99318\n",
      "Epoch 84/100\n",
      "77/77 [==============================] - 211s 3s/step - loss: 6.1222e-04 - accuracy: 1.0000 - val_loss: 0.0349 - val_accuracy: 0.9930\n",
      "\n",
      "Epoch 00084: val_accuracy did not improve from 0.99318\n",
      "Epoch 85/100\n",
      "77/77 [==============================] - 211s 3s/step - loss: 5.7152e-04 - accuracy: 1.0000 - val_loss: 0.0512 - val_accuracy: 0.9926\n",
      "\n",
      "Epoch 00085: val_accuracy did not improve from 0.99318\n",
      "Epoch 86/100\n",
      "77/77 [==============================] - 212s 3s/step - loss: 5.7457e-04 - accuracy: 1.0000 - val_loss: 0.0366 - val_accuracy: 0.9932\n",
      "\n",
      "Epoch 00086: val_accuracy did not improve from 0.99318\n",
      "Epoch 87/100\n",
      "77/77 [==============================] - 214s 3s/step - loss: 4.7568e-04 - accuracy: 1.0000 - val_loss: 0.0377 - val_accuracy: 0.9930\n",
      "\n",
      "Epoch 00087: val_accuracy did not improve from 0.99318\n",
      "Epoch 88/100\n",
      "77/77 [==============================] - 212s 3s/step - loss: 6.5828e-04 - accuracy: 1.0000 - val_loss: 0.0441 - val_accuracy: 0.9927\n",
      "\n",
      "Epoch 00088: val_accuracy did not improve from 0.99318\n",
      "Epoch 89/100\n",
      "77/77 [==============================] - 215s 3s/step - loss: 4.5604e-04 - accuracy: 1.0000 - val_loss: 0.0553 - val_accuracy: 0.9932\n",
      "\n",
      "Epoch 00089: val_accuracy did not improve from 0.99318\n",
      "Epoch 90/100\n",
      "77/77 [==============================] - 213s 3s/step - loss: 7.7628e-04 - accuracy: 1.0000 - val_loss: 0.0537 - val_accuracy: 0.9930\n",
      "\n",
      "Epoch 00090: val_accuracy did not improve from 0.99318\n",
      "Epoch 91/100\n",
      "77/77 [==============================] - 213s 3s/step - loss: 4.4255e-04 - accuracy: 1.0000 - val_loss: 0.0417 - val_accuracy: 0.9928\n",
      "\n",
      "Epoch 00091: val_accuracy did not improve from 0.99318\n",
      "Epoch 92/100\n",
      "77/77 [==============================] - 213s 3s/step - loss: 5.8873e-04 - accuracy: 1.0000 - val_loss: 0.0322 - val_accuracy: 0.9932\n",
      "\n",
      "Epoch 00092: val_accuracy did not improve from 0.99318\n",
      "Epoch 93/100\n",
      "77/77 [==============================] - 212s 3s/step - loss: 6.5837e-04 - accuracy: 1.0000 - val_loss: 0.0409 - val_accuracy: 0.9931\n",
      "\n",
      "Epoch 00093: val_accuracy did not improve from 0.99318\n",
      "Epoch 94/100\n",
      "77/77 [==============================] - 212s 3s/step - loss: 5.9189e-04 - accuracy: 1.0000 - val_loss: 0.0408 - val_accuracy: 0.9927\n",
      "\n",
      "Epoch 00094: val_accuracy did not improve from 0.99318\n",
      "Epoch 95/100\n",
      "77/77 [==============================] - 214s 3s/step - loss: 4.3319e-04 - accuracy: 1.0000 - val_loss: 0.0471 - val_accuracy: 0.9931\n",
      "\n",
      "Epoch 00095: val_accuracy did not improve from 0.99318\n",
      "Epoch 96/100\n",
      "77/77 [==============================] - 213s 3s/step - loss: 6.1853e-04 - accuracy: 1.0000 - val_loss: 0.0318 - val_accuracy: 0.9930\n",
      "\n",
      "Epoch 00096: val_accuracy did not improve from 0.99318\n",
      "Epoch 97/100\n",
      "77/77 [==============================] - 214s 3s/step - loss: 4.0467e-04 - accuracy: 1.0000 - val_loss: 0.0556 - val_accuracy: 0.9928\n",
      "\n",
      "Epoch 00097: val_accuracy did not improve from 0.99318\n",
      "Epoch 98/100\n",
      "77/77 [==============================] - 212s 3s/step - loss: 4.1613e-04 - accuracy: 1.0000 - val_loss: 0.0392 - val_accuracy: 0.9931\n",
      "\n",
      "Epoch 00098: val_accuracy did not improve from 0.99318\n",
      "Epoch 99/100\n",
      "77/77 [==============================] - 214s 3s/step - loss: 4.0435e-04 - accuracy: 1.0000 - val_loss: 0.0292 - val_accuracy: 0.9929\n",
      "\n",
      "Epoch 00099: val_accuracy did not improve from 0.99318\n",
      "Epoch 100/100\n",
      "77/77 [==============================] - 210s 3s/step - loss: 0.0013 - accuracy: 1.0000 - val_loss: 0.0303 - val_accuracy: 0.9930\n",
      "\n",
      "Epoch 00100: val_accuracy did not improve from 0.99318\n"
     ]
    }
   ],
   "source": [
    "opt = Adam(lr = LEARNING_RATE)\n",
    "model.compile(optimizer = opt, loss = 'binary_crossentropy', metrics = ['accuracy'])\n",
    "learning_rate_reduction = ReduceLROnPlateau(\n",
    "                    monitor='val_loss', \n",
    "                    patience=PATIENCE, verbose=VERBOSE, \n",
    "                    factor=LEARNING_RATE_REDUCTION_FACTOR, \n",
    "                    min_lr=MIN_LEARNING_RATE\n",
    ")\n",
    "save_model = ModelCheckpoint(filepath=MODEL_OUT_DIR + \"/model.h5\", monitor='val_accuracy', verbose=VERBOSE, \n",
    "                             save_best_only=True, save_weights_only=False, mode='max', period=1)\n",
    "\n",
    "history = model.fit_generator(generator=train_generator,\n",
    "                                  epochs=EPOCHS,\n",
    "                                  steps_per_epoch=(train_generator.n // BATCH_SIZE) + 1, \n",
    "                                  verbose=VERBOSE,\n",
    "                                  validation_data=val_generator,\n",
    "                                  validation_steps=(val_generator.n // BATCH_SIZE) + 1,\n",
    "                                  callbacks=[learning_rate_reduction, save_model]\n",
    "                             )\n",
    "# weights = model.load_weights(MODEL_OUT_DIR + \"/model.h5\")\n",
    "# weights\n",
    "# validation_data=validation_gen,\n",
    "#                                   validation_steps=(val_generator.n // BATCH_SIZE) + 1,"
   ]
  },
  {
   "cell_type": "code",
   "execution_count": 19,
   "metadata": {},
   "outputs": [
    {
     "ename": "NameError",
     "evalue": "name 'kaas' is not defined",
     "output_type": "error",
     "traceback": [
      "\u001b[1;31m---------------------------------------------------------------------------\u001b[0m",
      "\u001b[1;31mNameError\u001b[0m                                 Traceback (most recent call last)",
      "\u001b[1;32m<ipython-input-19-edde3c9d5100>\u001b[0m in \u001b[0;36m<module>\u001b[1;34m\u001b[0m\n\u001b[1;32m----> 1\u001b[1;33m \u001b[0mkaas\u001b[0m\u001b[1;33m\u001b[0m\u001b[1;33m\u001b[0m\u001b[0m\n\u001b[0m",
      "\u001b[1;31mNameError\u001b[0m: name 'kaas' is not defined"
     ]
    }
   ],
   "source": [
    "kaas"
   ]
  },
  {
   "cell_type": "code",
   "execution_count": null,
   "metadata": {},
   "outputs": [],
   "source": [
    "# model.load_weights(MODEL_OUT_DIR + \"/model.h5\")\n",
    "\n",
    "val_generator.reset()\n",
    "test_generator.reset()\n",
    "# loss_v, accuracy_v = model.evaluate_generator(val_generator, steps=(val_generator.n // BATCH_SIZE) + 1, verbose=VERBOSE)\n",
    "# loss, accuracy = model.evaluate_generator(test_generator, steps=(test_generator.n // BATCH_SIZE) + 1, verbose=VERBOSE)\n",
    "# print(\"Validation: accuracy = %f  ;  loss_v = %f\" % (accuracy_v, loss_v))\n",
    "# print(\"Test: accuracy = %f  ;  loss_v = %f\" % (accuracy, loss))\n",
    "\n",
    "# plot_model_history(history, out_path=MODEL_OUT_DIR)\n",
    "test_generator.reset()\n",
    "y_pred = model.predict_generator(test_generator, steps=test_generator.n, verbose=VERBOSE)\n",
    "# y_true = test_generator.classes\n",
    "# plot_confusion_matrix(y_true, y_pred.argmax(axis=-1), labels, out_path=MODEL_OUT_DIR)\n",
    "# class_report = classification_report(y_true, y_pred.argmax(axis=-1), target_names=labels)\n",
    "\n",
    "# with open(MODEL_OUT_DIR + \"/classification_report.txt\", \"w\") as text_file:\n",
    "#     text_file.write(\"%s\" % class_report)\n",
    "# print(class_report)"
   ]
  },
  {
   "cell_type": "code",
   "execution_count": 24,
   "metadata": {},
   "outputs": [
    {
     "name": "stdout",
     "output_type": "stream",
     "text": [
      "783/783 [==============================] - 30s 39ms/step\n"
     ]
    }
   ],
   "source": [
    "test_generator.reset()\n",
    "y_pred = model.predict_generator(test_generator, steps=test_generator.n, verbose=VERBOSE)"
   ]
  },
  {
   "cell_type": "code",
   "execution_count": 25,
   "metadata": {},
   "outputs": [
    {
     "data": {
      "text/plain": [
       "(783, 1104)"
      ]
     },
     "execution_count": 25,
     "metadata": {},
     "output_type": "execute_result"
    }
   ],
   "source": [
    "y_pred.shape"
   ]
  },
  {
   "cell_type": "code",
   "execution_count": null,
   "metadata": {},
   "outputs": [],
   "source": [
    "np.argwhere(first>0.5)`"
   ]
  },
  {
   "cell_type": "code",
   "execution_count": null,
   "metadata": {},
   "outputs": [],
   "source": [
    "first = y_pred[9]\n",
    "np.argwhere(first>0.5)"
   ]
  },
  {
   "cell_type": "code",
   "execution_count": null,
   "metadata": {},
   "outputs": [],
   "source": [
    "testie = {value:key for key, value in test_generator.class_indices.items()}"
   ]
  },
  {
   "cell_type": "code",
   "execution_count": null,
   "metadata": {},
   "outputs": [],
   "source": [
    "test_labeled.iloc[0]['ingredients_cleaned']"
   ]
  },
  {
   "cell_type": "code",
   "execution_count": 27,
   "metadata": {},
   "outputs": [
    {
     "data": {
      "text/plain": [
       "[131, 20, 124, 229, 348]"
      ]
     },
     "execution_count": 27,
     "metadata": {},
     "output_type": "execute_result"
    }
   ],
   "source": [
    "y_true = test_generator.classes\n",
    "y_true[0]"
   ]
  },
  {
   "cell_type": "code",
   "execution_count": null,
   "metadata": {},
   "outputs": [],
   "source": [
    "# test_generator.class_indices"
   ]
  },
  {
   "cell_type": "code",
   "execution_count": 26,
   "metadata": {},
   "outputs": [
    {
     "data": {
      "text/html": [
       "<div>\n",
       "<style scoped>\n",
       "    .dataframe tbody tr th:only-of-type {\n",
       "        vertical-align: middle;\n",
       "    }\n",
       "\n",
       "    .dataframe tbody tr th {\n",
       "        vertical-align: top;\n",
       "    }\n",
       "\n",
       "    .dataframe thead th {\n",
       "        text-align: right;\n",
       "    }\n",
       "</style>\n",
       "<table border=\"1\" class=\"dataframe\">\n",
       "  <thead>\n",
       "    <tr style=\"text-align: right;\">\n",
       "      <th></th>\n",
       "      <th>vegetarian</th>\n",
       "      <th>non-vegetarian</th>\n",
       "    </tr>\n",
       "    <tr>\n",
       "      <th>ingredient</th>\n",
       "      <th></th>\n",
       "      <th></th>\n",
       "    </tr>\n",
       "  </thead>\n",
       "  <tbody>\n",
       "    <tr>\n",
       "      <th>acidulated water</th>\n",
       "      <td>True</td>\n",
       "      <td>False</td>\n",
       "    </tr>\n",
       "    <tr>\n",
       "      <th>ackee</th>\n",
       "      <td>True</td>\n",
       "      <td>False</td>\n",
       "    </tr>\n",
       "    <tr>\n",
       "      <th>acorn squash</th>\n",
       "      <td>True</td>\n",
       "      <td>False</td>\n",
       "    </tr>\n",
       "    <tr>\n",
       "      <th>aduki beans</th>\n",
       "      <td>True</td>\n",
       "      <td>False</td>\n",
       "    </tr>\n",
       "    <tr>\n",
       "      <th>advocaat</th>\n",
       "      <td>True</td>\n",
       "      <td>False</td>\n",
       "    </tr>\n",
       "    <tr>\n",
       "      <th>...</th>\n",
       "      <td>...</td>\n",
       "      <td>...</td>\n",
       "    </tr>\n",
       "    <tr>\n",
       "      <th>foie</th>\n",
       "      <td>False</td>\n",
       "      <td>True</td>\n",
       "    </tr>\n",
       "    <tr>\n",
       "      <th>horse</th>\n",
       "      <td>False</td>\n",
       "      <td>True</td>\n",
       "    </tr>\n",
       "    <tr>\n",
       "      <th>shrimp</th>\n",
       "      <td>False</td>\n",
       "      <td>True</td>\n",
       "    </tr>\n",
       "    <tr>\n",
       "      <th>silversidesmokie</th>\n",
       "      <td>False</td>\n",
       "      <td>True</td>\n",
       "    </tr>\n",
       "    <tr>\n",
       "      <th>tuna</th>\n",
       "      <td>False</td>\n",
       "      <td>True</td>\n",
       "    </tr>\n",
       "  </tbody>\n",
       "</table>\n",
       "<p>1104 rows × 2 columns</p>\n",
       "</div>"
      ],
      "text/plain": [
       "                  vegetarian  non-vegetarian\n",
       "ingredient                                  \n",
       "acidulated water        True           False\n",
       "ackee                   True           False\n",
       "acorn squash            True           False\n",
       "aduki beans             True           False\n",
       "advocaat                True           False\n",
       "...                      ...             ...\n",
       "foie                   False            True\n",
       "horse                  False            True\n",
       "shrimp                 False            True\n",
       "silversidesmokie       False            True\n",
       "tuna                   False            True\n",
       "\n",
       "[1104 rows x 2 columns]"
      ]
     },
     "execution_count": 26,
     "metadata": {},
     "output_type": "execute_result"
    }
   ],
   "source": [
    "ingredients_labeled = pd.read_csv('ingredients_labeled.csv', index_col='ingredient')\n",
    "ingredients_labeled = ingredients_labeled.loc[~ingredients_labeled.index.duplicated(keep='first')]\n",
    "ingredients_labeled['non-vegetarian'] = ~ingredients_labeled['vegetarian']\n",
    "ingredients_labeled"
   ]
  },
  {
   "cell_type": "code",
   "execution_count": 43,
   "metadata": {},
   "outputs": [
    {
     "ename": "NameError",
     "evalue": "name 'confusion_matrix' is not defined",
     "output_type": "error",
     "traceback": [
      "\u001b[1;31m---------------------------------------------------------------------------\u001b[0m",
      "\u001b[1;31mNameError\u001b[0m                                 Traceback (most recent call last)",
      "\u001b[1;32m<ipython-input-43-b506c7665478>\u001b[0m in \u001b[0;36m<module>\u001b[1;34m\u001b[0m\n\u001b[1;32m----> 1\u001b[1;33m \u001b[0mconfusion_matrix\u001b[0m\u001b[1;33m(\u001b[0m\u001b[0my_true\u001b[0m\u001b[1;33m,\u001b[0m\u001b[0mtest\u001b[0m\u001b[1;33m)\u001b[0m\u001b[1;33m\u001b[0m\u001b[1;33m\u001b[0m\u001b[0m\n\u001b[0m",
      "\u001b[1;31mNameError\u001b[0m: name 'confusion_matrix' is not defined"
     ]
    }
   ],
   "source": [
    "from sklearn.metrics import confusion_matrix, classification_report\n",
    "import seaborn as sn\n",
    "confusion_matrix(y_true,test)"
   ]
  },
  {
   "cell_type": "code",
   "execution_count": 28,
   "metadata": {},
   "outputs": [],
   "source": [
    "p = np.copy(y_pred)"
   ]
  },
  {
   "cell_type": "code",
   "execution_count": 29,
   "metadata": {},
   "outputs": [
    {
     "ename": "NameError",
     "evalue": "name 'first' is not defined",
     "output_type": "error",
     "traceback": [
      "\u001b[1;31m---------------------------------------------------------------------------\u001b[0m",
      "\u001b[1;31mNameError\u001b[0m                                 Traceback (most recent call last)",
      "\u001b[1;32m<ipython-input-29-d447ba350941>\u001b[0m in \u001b[0;36m<module>\u001b[1;34m\u001b[0m\n\u001b[1;32m----> 1\u001b[1;33m \u001b[0mfirst\u001b[0m\u001b[1;33m[\u001b[0m\u001b[0mfirst\u001b[0m\u001b[1;33m>\u001b[0m\u001b[1;36m0.5\u001b[0m\u001b[1;33m]\u001b[0m\u001b[1;33m\u001b[0m\u001b[1;33m\u001b[0m\u001b[0m\n\u001b[0m",
      "\u001b[1;31mNameError\u001b[0m: name 'first' is not defined"
     ]
    }
   ],
   "source": [
    "first[first>0.5]"
   ]
  },
  {
   "cell_type": "code",
   "execution_count": null,
   "metadata": {},
   "outputs": [],
   "source": [
    "y_pred.shape"
   ]
  },
  {
   "cell_type": "code",
   "execution_count": 32,
   "metadata": {},
   "outputs": [
    {
     "data": {
      "text/plain": [
       "[666, 874]"
      ]
     },
     "execution_count": 32,
     "metadata": {},
     "output_type": "execute_result"
    }
   ],
   "source": [
    "positive_predictions = []\n",
    "for row in p:\n",
    "    positive_pred = np.argwhere(row>0.5)\n",
    "    if len(positive_pred):\n",
    "        positive_pred = np.concatenate(positive_pred)\n",
    "    positive_predictions.append(positive_pred.tolist())\n",
    "    \n",
    "    \n",
    "positive_predictions[0]"
   ]
  },
  {
   "cell_type": "code",
   "execution_count": 33,
   "metadata": {},
   "outputs": [],
   "source": [
    "non_vegetarian_ingredients = {value: ingredients_labeled.loc[key]['non-vegetarian'] for key, value in test_generator.class_indices.items()}"
   ]
  },
  {
   "cell_type": "code",
   "execution_count": 34,
   "metadata": {},
   "outputs": [
    {
     "data": {
      "text/plain": [
       "False"
      ]
     },
     "execution_count": 34,
     "metadata": {},
     "output_type": "execute_result"
    }
   ],
   "source": [
    "non_vegetarian_ingredients[348]"
   ]
  },
  {
   "cell_type": "code",
   "execution_count": 35,
   "metadata": {},
   "outputs": [],
   "source": [
    "binary_predictions = []\n",
    "for prediction in positive_predictions:\n",
    "    binary = False\n",
    "    for pred in prediction:\n",
    "        if non_vegetarian_ingredients[pred]:\n",
    "            binary = True\n",
    "    binary_predictions.append(binary)"
   ]
  },
  {
   "cell_type": "code",
   "execution_count": 38,
   "metadata": {},
   "outputs": [],
   "source": [
    "test_labeled['bool_label'] = test_labeled['label'] != 'Vegetarian'"
   ]
  },
  {
   "cell_type": "code",
   "execution_count": 39,
   "metadata": {},
   "outputs": [],
   "source": [
    "binary_true = test_labeled['bool_label']"
   ]
  },
  {
   "cell_type": "code",
   "execution_count": null,
   "metadata": {},
   "outputs": [],
   "source": [
    "binary_predictions;"
   ]
  },
  {
   "cell_type": "code",
   "execution_count": 40,
   "metadata": {},
   "outputs": [
    {
     "data": {
      "text/plain": [
       "783"
      ]
     },
     "execution_count": 40,
     "metadata": {},
     "output_type": "execute_result"
    }
   ],
   "source": [
    "len(positive_predictions)"
   ]
  },
  {
   "cell_type": "code",
   "execution_count": 41,
   "metadata": {},
   "outputs": [
    {
     "data": {
      "text/plain": [
       "783"
      ]
     },
     "execution_count": 41,
     "metadata": {},
     "output_type": "execute_result"
    }
   ],
   "source": [
    "len(binary_predictions)"
   ]
  },
  {
   "cell_type": "code",
   "execution_count": 42,
   "metadata": {},
   "outputs": [
    {
     "data": {
      "text/plain": [
       "0.6219667943805874"
      ]
     },
     "execution_count": 42,
     "metadata": {},
     "output_type": "execute_result"
    }
   ],
   "source": [
    "from sklearn.metrics import accuracy_score\n",
    "accuracy_score(binary_true, binary_predictions)"
   ]
  },
  {
   "cell_type": "code",
   "execution_count": null,
   "metadata": {},
   "outputs": [],
   "source": []
  },
  {
   "cell_type": "code",
   "execution_count": null,
   "metadata": {},
   "outputs": [],
   "source": [
    "first[first > 0.5]"
   ]
  },
  {
   "cell_type": "code",
   "execution_count": null,
   "metadata": {},
   "outputs": [],
   "source": [
    "yFit = test_generator.classes"
   ]
  },
  {
   "cell_type": "code",
   "execution_count": null,
   "metadata": {},
   "outputs": [],
   "source": [
    "label_map = (train_generator.class_indices)\n",
    "label_map = dict((v,k) for k,v in label_map.items()) #flip k,v\n",
    "predictions = [label_map[k] for k in yFit]\n",
    "label_map"
   ]
  },
  {
   "cell_type": "code",
   "execution_count": null,
   "metadata": {},
   "outputs": [],
   "source": [
    "y_true = test_generator.classes[test_generator.class_indices]"
   ]
  },
  {
   "cell_type": "code",
   "execution_count": null,
   "metadata": {},
   "outputs": [],
   "source": [
    "y_pred"
   ]
  },
  {
   "cell_type": "code",
   "execution_count": null,
   "metadata": {},
   "outputs": [],
   "source": [
    "test = np.where(y_pred > 0.01, 1, 0)\n",
    "test"
   ]
  },
  {
   "cell_type": "code",
   "execution_count": null,
   "metadata": {},
   "outputs": [],
   "source": [
    "df = pd.DataFrame(test)\n",
    "df[9].value_counts()"
   ]
  },
  {
   "cell_type": "code",
   "execution_count": null,
   "metadata": {},
   "outputs": [],
   "source": [
    "y_pred = model.predict_generator(test_generator, verbose=VERBOSE)\n",
    "y_pred.argmax(axis=-1)"
   ]
  },
  {
   "cell_type": "code",
   "execution_count": null,
   "metadata": {},
   "outputs": [],
   "source": [
    "kaas = y_pred > 0.5\n",
    "kaas"
   ]
  },
  {
   "cell_type": "code",
   "execution_count": null,
   "metadata": {},
   "outputs": [],
   "source": [
    "y_pred"
   ]
  },
  {
   "cell_type": "code",
   "execution_count": null,
   "metadata": {},
   "outputs": [],
   "source": [
    "predicted_class_indices = np.argmax(y_pred, axis=1)\n"
   ]
  },
  {
   "cell_type": "code",
   "execution_count": null,
   "metadata": {},
   "outputs": [],
   "source": [
    "test = np.argmax(y_pred, axis=1)\n",
    "\n",
    "labels = (train_generator.class_indices)\n",
    "labels"
   ]
  },
  {
   "cell_type": "code",
   "execution_count": null,
   "metadata": {},
   "outputs": [],
   "source": [
    "y_pred"
   ]
  },
  {
   "cell_type": "code",
   "execution_count": 21,
   "metadata": {},
   "outputs": [
    {
     "data": {
      "image/png": "[encoded data removed]",
      "text/plain": [
       "<Figure size 1080x360 with 2 Axes>"
      ]
     },
     "metadata": {
      "needs_background": "light"
     },
     "output_type": "display_data"
    }
   ],
   "source": [
    "def plot_model_history(model_history, out_path=\"\"):\n",
    "    fig, axs = plt.subplots(1, 2, figsize=(15, 5))\n",
    "    # summarize history for accuracy\n",
    "    axs[0].plot(range(1, len(model_history.history['accuracy']) + 1), model_history.history['accuracy'])\n",
    "    axs[0].plot(range(1, len(model_history.history['val_accuracy']) + 1), model_history.history['val_accuracy'])\n",
    "    axs[0].set_title('Model Accuracy')\n",
    "    axs[0].set_ylabel('Accuracy')\n",
    "    axs[0].set_xlabel('Epoch')\n",
    "    axs[0].legend(['train', 'val'], loc='best')\n",
    "    # summarize history for loss\n",
    "    axs[1].plot(range(1, len(model_history.history['loss']) + 1), model_history.history['loss'])\n",
    "    axs[1].plot(range(1, len(model_history.history['val_loss']) + 1), model_history.history['val_loss'])\n",
    "    axs[1].set_title('Model Loss')\n",
    "    axs[1].set_ylabel('Loss')\n",
    "    axs[1].set_xlabel('Epoch')\n",
    "    axs[1].legend(['train', 'val'], loc='best')\n",
    "    # save the graph in a file called \"acc_loss.png\" to be available for later; the model_name is provided when creating and training a model\n",
    "    if out_path:\n",
    "        plt.savefig(out_path + \"/acc_loss.png\")\n",
    "    plt.show()\n",
    "\n",
    "def plot_confusion_matrix(y_true, y_pred, classes, out_path=\"\"):\n",
    "    cm = confusion_matrix(y_true, y_pred)\n",
    "    df_cm = pd.DataFrame(cm, index=[i for i in classes], columns=[i for i in classes])\n",
    "    plt.figure(figsize=(40, 40))\n",
    "    ax = sn.heatmap(df_cm, annot=True, square=True, fmt=\"d\", linewidths=.2, cbar_kws={\"shrink\": 0.8})\n",
    "    if out_path:\n",
    "        plt.savefig(out_path + \"/confusion_matrix.png\")  # as in the plot_model_history, the matrix is saved in a file called \"model_name_confusion_matrix.png\"\n",
    "    return ax    \n",
    "\n",
    "plot_model_history(history, out_path=MODEL_OUT_DIR)"
   ]
  },
  {
   "cell_type": "code",
   "execution_count": null,
   "metadata": {},
   "outputs": [],
   "source": [
    "from sklearn.metrics import accuracy_score"
   ]
  },
  {
   "cell_type": "code",
   "execution_count": null,
   "metadata": {},
   "outputs": [],
   "source": [
    "y_true = test_generator.classes"
   ]
  },
  {
   "cell_type": "code",
   "execution_count": null,
   "metadata": {},
   "outputs": [],
   "source": [
    "y_pred"
   ]
  },
  {
   "cell_type": "code",
   "execution_count": null,
   "metadata": {},
   "outputs": [],
   "source": [
    "coverage_error(y_true, y_pred)"
   ]
  },
  {
   "cell_type": "code",
   "execution_count": null,
   "metadata": {},
   "outputs": [],
   "source": [
    "accuracy_score(y_true, y_pred)"
   ]
  },
  {
   "cell_type": "code",
   "execution_count": null,
   "metadata": {},
   "outputs": [],
   "source": [
    "y_pred = model.predict_generator(test_generator, steps=test_generator.n, verbose=VERBOSE)\n",
    "len(y_pred)"
   ]
  },
  {
   "cell_type": "code",
   "execution_count": null,
   "metadata": {},
   "outputs": [],
   "source": [
    "len(y_pred)"
   ]
  },
  {
   "cell_type": "code",
   "execution_count": null,
   "metadata": {},
   "outputs": [],
   "source": [
    "len(y_true)"
   ]
  },
  {
   "cell_type": "code",
   "execution_count": null,
   "metadata": {},
   "outputs": [],
   "source": [
    "test_labeled.shape"
   ]
  },
  {
   "cell_type": "code",
   "execution_count": null,
   "metadata": {},
   "outputs": [],
   "source": [
    "np.unique(y_pred)"
   ]
  },
  {
   "cell_type": "code",
   "execution_count": null,
   "metadata": {},
   "outputs": [],
   "source": []
  }
 ],
 "metadata": {
  "kernelspec": {
   "display_name": "Python 3",
   "language": "python",
   "name": "python3"
  },
  "language_info": {
   "codemirror_mode": {
    "name": "ipython",
    "version": 3
   },
   "file_extension": ".py",
   "mimetype": "text/x-python",
   "name": "python",
   "nbconvert_exporter": "python",
   "pygments_lexer": "ipython3",
   "version": "3.7.7"
  }
 },
 "nbformat": 4,
 "nbformat_minor": 4
}
