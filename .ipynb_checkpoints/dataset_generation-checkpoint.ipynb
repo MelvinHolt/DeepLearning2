{
 "cells": [
  {
   "cell_type": "code",
   "execution_count": 1,
   "metadata": {},
   "outputs": [],
   "source": [
    "import pandas as pd\n",
    "import numpy as np\n",
    "\n",
    "PATH_TO_RECIPES = 'Recipes5k/annotations/'"
   ]
  },
  {
   "cell_type": "code",
   "execution_count": 2,
   "metadata": {},
   "outputs": [],
   "source": [
    "recipes = pd.read_csv('{}/ingredients_simplified_Recipes5k.txt'.format(PATH_TO_RECIPES), sep=\"\\n\", header=None, names=['ingredients'])\n",
    "def getSplit(split):\n",
    "    image_urls = pd.read_csv('{}{}_images.txt'.format(PATH_TO_RECIPES, split), sep=\"\\n\", header=None, names=['url'])\n",
    "    image_indices =  pd.read_csv('{}{}_labels.txt'.format(PATH_TO_RECIPES, split), sep=\"\\n\", header=None, names=['position'])\n",
    "    \n",
    "    recipes_labeled = image_indices.set_index('position').join(recipes).reset_index().join(image_urls)\n",
    "    return recipes_labeled\n",
    "\n",
    "data_train = getSplit('train')    \n",
    "data_test = getSplit('test')\n",
    "data_val = getSplit('val')"
   ]
  },
  {
   "cell_type": "markdown",
   "metadata": {},
   "source": [
    "## Labeling the data splits"
   ]
  },
  {
   "cell_type": "code",
   "execution_count": 3,
   "metadata": {},
   "outputs": [],
   "source": [
    "ingredients_labeled = pd.read_csv('ingredients_labeled.csv')\n",
    "vegetarian_ingredients = ingredients_labeled[ingredients_labeled['vegetarian'] == False]"
   ]
  },
  {
   "cell_type": "code",
   "execution_count": 4,
   "metadata": {},
   "outputs": [
    {
     "name": "stdout",
     "output_type": "stream",
     "text": [
      "Vegetarian        2153\n",
      "Non-Vegetarian    1256\n",
      "Name: label, dtype: int64\n",
      "Vegetarian        492\n",
      "Non-Vegetarian    291\n",
      "Name: label, dtype: int64\n",
      "Vegetarian        401\n",
      "Non-Vegetarian    233\n",
      "Name: label, dtype: int64\n"
     ]
    },
    {
     "data": {
      "text/html": [
       "<div>\n",
       "<style scoped>\n",
       "    .dataframe tbody tr th:only-of-type {\n",
       "        vertical-align: middle;\n",
       "    }\n",
       "\n",
       "    .dataframe tbody tr th {\n",
       "        vertical-align: top;\n",
       "    }\n",
       "\n",
       "    .dataframe thead th {\n",
       "        text-align: right;\n",
       "    }\n",
       "</style>\n",
       "<table border=\"1\" class=\"dataframe\">\n",
       "  <thead>\n",
       "    <tr style=\"text-align: right;\">\n",
       "      <th></th>\n",
       "      <th>position</th>\n",
       "      <th>ingredients</th>\n",
       "      <th>url</th>\n",
       "      <th>label</th>\n",
       "    </tr>\n",
       "  </thead>\n",
       "  <tbody>\n",
       "    <tr>\n",
       "      <th>0</th>\n",
       "      <td>69</td>\n",
       "      <td>flour,salt,oil,cold water,apple,sugar,cinnamon...</td>\n",
       "      <td>apple_pie/20_homemade_apple_pie_hostedLargeUrl...</td>\n",
       "      <td>Vegetarian</td>\n",
       "    </tr>\n",
       "    <tr>\n",
       "      <th>1</th>\n",
       "      <td>91</td>\n",
       "      <td>shell,pie,sugar,flour,cinnamon,apple,lemon,but...</td>\n",
       "      <td>apple_pie/43_homestyle_apple_pie_hostedLargeUr...</td>\n",
       "      <td>Vegetarian</td>\n",
       "    </tr>\n",
       "    <tr>\n",
       "      <th>2</th>\n",
       "      <td>77</td>\n",
       "      <td>apple,lemon,sugar,flour,cinnamon,nut,butter,sa...</td>\n",
       "      <td>apple_pie/28_apple_pie_hostedLargeUrl.jpg</td>\n",
       "      <td>Vegetarian</td>\n",
       "    </tr>\n",
       "    <tr>\n",
       "      <th>3</th>\n",
       "      <td>88</td>\n",
       "      <td>pie,apple,sugar,corn starch,cinnamon,lemon,but...</td>\n",
       "      <td>apple_pie/39_classic_apple_pie_hostedLargeUrl.jpg</td>\n",
       "      <td>Vegetarian</td>\n",
       "    </tr>\n",
       "    <tr>\n",
       "      <th>4</th>\n",
       "      <td>62</td>\n",
       "      <td>apple,brown sugar,butter,cinnamon,allspice,nut...</td>\n",
       "      <td>apple_pie/13_mug_apple_pie_hostedLargeUrl.jpg</td>\n",
       "      <td>Vegetarian</td>\n",
       "    </tr>\n",
       "  </tbody>\n",
       "</table>\n",
       "</div>"
      ],
      "text/plain": [
       "   position                                        ingredients  \\\n",
       "0        69  flour,salt,oil,cold water,apple,sugar,cinnamon...   \n",
       "1        91  shell,pie,sugar,flour,cinnamon,apple,lemon,but...   \n",
       "2        77  apple,lemon,sugar,flour,cinnamon,nut,butter,sa...   \n",
       "3        88  pie,apple,sugar,corn starch,cinnamon,lemon,but...   \n",
       "4        62  apple,brown sugar,butter,cinnamon,allspice,nut...   \n",
       "\n",
       "                                                 url       label  \n",
       "0  apple_pie/20_homemade_apple_pie_hostedLargeUrl...  Vegetarian  \n",
       "1  apple_pie/43_homestyle_apple_pie_hostedLargeUr...  Vegetarian  \n",
       "2          apple_pie/28_apple_pie_hostedLargeUrl.jpg  Vegetarian  \n",
       "3  apple_pie/39_classic_apple_pie_hostedLargeUrl.jpg  Vegetarian  \n",
       "4      apple_pie/13_mug_apple_pie_hostedLargeUrl.jpg  Vegetarian  "
      ]
     },
     "execution_count": 4,
     "metadata": {},
     "output_type": "execute_result"
    }
   ],
   "source": [
    "def label_data(data, vegetarian_ingredients):\n",
    "    pattern = '|'.join(vegetarian_ingredients['ingredient'])\n",
    "    data['label'] = np.where(data['ingredients'].str.contains(pattern), 'Non-Vegetarian', 'Vegetarian')\n",
    "    print(data['label'].value_counts())\n",
    "    return data\n",
    "    \n",
    "data_train_labeled = label_data(data_train, vegetarian_ingredients)\n",
    "data_test_labeled = label_data(data_test, vegetarian_ingredients)\n",
    "data_val_labeled = label_data(data_val, vegetarian_ingredients)\n",
    "data_train_labeled.head()"
   ]
  },
  {
   "cell_type": "markdown",
   "metadata": {},
   "source": [
    "## Exporting the labeled data"
   ]
  },
  {
   "cell_type": "code",
   "execution_count": 5,
   "metadata": {},
   "outputs": [],
   "source": [
    "def export_data(data, split):\n",
    "    data.to_csv('data/{}_labeled.csv'.format(split), header=True, index=False)"
   ]
  },
  {
   "cell_type": "code",
   "execution_count": 6,
   "metadata": {},
   "outputs": [],
   "source": [
    "export_data(data_train_labeled, 'train')\n",
    "export_data(data_test_labeled, 'test')\n",
    "export_data(data_val_labeled, 'val')"
   ]
  }
 ],
 "metadata": {
  "kernelspec": {
   "display_name": "Python 3",
   "language": "python",
   "name": "python3"
  },
  "language_info": {
   "codemirror_mode": {
    "name": "ipython",
    "version": 3
   },
   "file_extension": ".py",
   "mimetype": "text/x-python",
   "name": "python",
   "nbconvert_exporter": "python",
   "pygments_lexer": "ipython3",
   "version": "3.7.7"
  }
 },
 "nbformat": 4,
 "nbformat_minor": 4
}
