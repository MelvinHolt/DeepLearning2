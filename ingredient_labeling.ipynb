{
 "cells": [
  {
   "cell_type": "markdown",
   "metadata": {},
   "source": [
    "# Deep Learning"
   ]
  },
  {
   "cell_type": "code",
   "execution_count": 1,
   "metadata": {},
   "outputs": [],
   "source": [
    "import pandas as pd\n",
    "import numpy as np\n",
    "import json\n",
    "import string\n",
    "import re\n"
   ]
  },
  {
   "cell_type": "markdown",
   "metadata": {},
   "source": [
    "### Load dataset"
   ]
  },
  {
   "cell_type": "code",
   "execution_count": 2,
   "metadata": {},
   "outputs": [
    {
     "data": {
      "text/plain": [
       "(1095, 2)"
      ]
     },
     "execution_count": 2,
     "metadata": {},
     "output_type": "execute_result"
    }
   ],
   "source": [
    "ingredients = pd.read_csv('Ingredients101/ingredients_simplification/baseIngredients.txt', sep=\",\", header=None, squeeze=True).T\n",
    "ingredients.columns = ['ingredient']\n",
    "ingredients['vegetarian'] = \"\"\n",
    "ingredients.shape"
   ]
  },
  {
   "cell_type": "markdown",
   "metadata": {},
   "source": [
    "### Load the vegetarian ingredients"
   ]
  },
  {
   "cell_type": "code",
   "execution_count": 3,
   "metadata": {},
   "outputs": [],
   "source": [
    "with open('foodclassification/database.json') as f:\n",
    "  data = json.load(f)"
   ]
  },
  {
   "cell_type": "code",
   "execution_count": 4,
   "metadata": {},
   "outputs": [
    {
     "data": {
      "text/plain": [
       "['natural and artificial flavoring',\n",
       " 'coconut milk',\n",
       " 'potato starch  contains  milk',\n",
       " 'shitake mushroom extract',\n",
       " 'organic high oleic safflower andor sunflower oil']"
      ]
     },
     "execution_count": 4,
     "metadata": {},
     "output_type": "execute_result"
    }
   ],
   "source": [
    "vegetarian_ingredients = data['vegetarian'] + data['vegan']\n",
    "vegetarian_ingredients = [ingredient.lower().translate(str.maketrans('', '', string.punctuation)) for ingredient in set(vegetarian_ingredients)]\n",
    "vegetarian_ingredients[:5]"
   ]
  },
  {
   "cell_type": "markdown",
   "metadata": {},
   "source": [
    "### Filter the vegetarian ingredients based on the blacklist of Ingredients 101"
   ]
  },
  {
   "cell_type": "code",
   "execution_count": 5,
   "metadata": {},
   "outputs": [
    {
     "name": "stdout",
     "output_type": "stream",
     "text": [
      "['powdered', 'of', 'light', 'ground', 'sauce']\n"
     ]
    }
   ],
   "source": [
    "with open('Ingredients101/ingredients_simplification/blacklist.txt') as f:\n",
    "    blacklist = f.read().splitlines()\n",
    "print(blacklist[:5])"
   ]
  },
  {
   "cell_type": "code",
   "execution_count": 6,
   "metadata": {},
   "outputs": [],
   "source": [
    "pattern = \"(^|\\s)\" + \"($|\\s)|(^|\\s)\".join(blacklist) + \"($|\\s)\"\n",
    "vegetarian_ingredients_clean = list(filter(None, [re.sub(pattern, \"\", ingredient) for ingredient in vegetarian_ingredients]))"
   ]
  },
  {
   "cell_type": "code",
   "execution_count": 7,
   "metadata": {},
   "outputs": [
    {
     "data": {
      "text/plain": [
       "815"
      ]
     },
     "execution_count": 7,
     "metadata": {},
     "output_type": "execute_result"
    }
   ],
   "source": [
    "len(vegetarian_ingredients_clean)"
   ]
  },
  {
   "cell_type": "code",
   "execution_count": 8,
   "metadata": {},
   "outputs": [
    {
     "name": "stdout",
     "output_type": "stream",
     "text": [
      "        774\n",
      "True    321\n",
      "Name: vegetarian, dtype: int64\n"
     ]
    },
    {
     "data": {
      "text/html": [
       "<div>\n",
       "<style scoped>\n",
       "    .dataframe tbody tr th:only-of-type {\n",
       "        vertical-align: middle;\n",
       "    }\n",
       "\n",
       "    .dataframe tbody tr th {\n",
       "        vertical-align: top;\n",
       "    }\n",
       "\n",
       "    .dataframe thead th {\n",
       "        text-align: right;\n",
       "    }\n",
       "</style>\n",
       "<table border=\"1\" class=\"dataframe\">\n",
       "  <thead>\n",
       "    <tr style=\"text-align: right;\">\n",
       "      <th></th>\n",
       "      <th>ingredient</th>\n",
       "      <th>vegetarian</th>\n",
       "    </tr>\n",
       "  </thead>\n",
       "  <tbody>\n",
       "    <tr>\n",
       "      <th>0</th>\n",
       "      <td>acidulated water</td>\n",
       "      <td>True</td>\n",
       "    </tr>\n",
       "    <tr>\n",
       "      <th>1</th>\n",
       "      <td>ackee</td>\n",
       "      <td></td>\n",
       "    </tr>\n",
       "    <tr>\n",
       "      <th>2</th>\n",
       "      <td>acorn squash</td>\n",
       "      <td>True</td>\n",
       "    </tr>\n",
       "    <tr>\n",
       "      <th>3</th>\n",
       "      <td>aduki beans</td>\n",
       "      <td>True</td>\n",
       "    </tr>\n",
       "    <tr>\n",
       "      <th>4</th>\n",
       "      <td>advocaat</td>\n",
       "      <td></td>\n",
       "    </tr>\n",
       "    <tr>\n",
       "      <th>...</th>\n",
       "      <td>...</td>\n",
       "      <td>...</td>\n",
       "    </tr>\n",
       "    <tr>\n",
       "      <th>1090</th>\n",
       "      <td>yeast</td>\n",
       "      <td>True</td>\n",
       "    </tr>\n",
       "    <tr>\n",
       "      <th>1091</th>\n",
       "      <td>yellow lentil</td>\n",
       "      <td></td>\n",
       "    </tr>\n",
       "    <tr>\n",
       "      <th>1092</th>\n",
       "      <td>yoghurt</td>\n",
       "      <td></td>\n",
       "    </tr>\n",
       "    <tr>\n",
       "      <th>1093</th>\n",
       "      <td>zander</td>\n",
       "      <td></td>\n",
       "    </tr>\n",
       "    <tr>\n",
       "      <th>1094</th>\n",
       "      <td>zest</td>\n",
       "      <td></td>\n",
       "    </tr>\n",
       "  </tbody>\n",
       "</table>\n",
       "<p>1095 rows × 2 columns</p>\n",
       "</div>"
      ],
      "text/plain": [
       "            ingredient vegetarian\n",
       "0     acidulated water       True\n",
       "1                ackee           \n",
       "2         acorn squash       True\n",
       "3          aduki beans       True\n",
       "4             advocaat           \n",
       "...                ...        ...\n",
       "1090             yeast       True\n",
       "1091     yellow lentil           \n",
       "1092           yoghurt           \n",
       "1093            zander           \n",
       "1094              zest           \n",
       "\n",
       "[1095 rows x 2 columns]"
      ]
     },
     "execution_count": 8,
     "metadata": {},
     "output_type": "execute_result"
    }
   ],
   "source": [
    "ingredients.loc[ingredients['ingredient'].str.contains(\"|\".join(vegetarian_ingredients_clean)), 'vegetarian'] = True\n",
    "print(ingredients['vegetarian'].value_counts())\n",
    "ingredients"
   ]
  },
  {
   "cell_type": "code",
   "execution_count": 9,
   "metadata": {},
   "outputs": [],
   "source": [
    "non_vegetarian_ingredients = [\n",
    "     'anchov',\n",
    "     'bacon',\n",
    "     'bass',\n",
    "     'beef',\n",
    "     'beef',\n",
    "     'boar',\n",
    "     'bream',\n",
    "     'burger',\n",
    "     'clams',\n",
    "     'caviar',\n",
    "     'chicken',\n",
    "     'collar',\n",
    "     'crab',\n",
    "     'duck',\n",
    "     'eel',\n",
    "     'fat',\n",
    "     'fish',\n",
    "     'filet',\n",
    "     'flank',\n",
    "     'foie',\n",
    "     'game',\n",
    "     'goose',\n",
    "     'gravy',\n",
    "     'hare',\n",
    "     'ham',\n",
    "     'horse',\n",
    "     'kipper',\n",
    "     'kidney',\n",
    "     'lamb',\n",
    "     'lamb',\n",
    "     'liver',\n",
    "     'lobster',\n",
    "     'meat',\n",
    "     'morel',\n",
    "     'mussels',\n",
    "     'octopus',\n",
    "     'oyster',\n",
    "     'pigeon',\n",
    "     'pork',\n",
    "     'poultry',\n",
    "     'quail',\n",
    "     'rump',\n",
    "     'rabbit',\n",
    "     'salami',\n",
    "     'salmon',\n",
    "     'seafood',\n",
    "     'shrimp',\n",
    "     'sirloin',\n",
    "     'silverside'\n",
    "     'smokie',\n",
    "     'squid',\n",
    "     'steak',\n",
    "     'stuffing',\n",
    "     'tongue',\n",
    "     'tuna',\n",
    "     'turkey',\n",
    "     'trout',\n",
    "     'veal',\n",
    "     'zander'\n",
    "]"
   ]
  },
  {
   "cell_type": "code",
   "execution_count": 10,
   "metadata": {},
   "outputs": [],
   "source": [
    "ingredients.loc[ingredients['ingredient'].str.contains(\"|\".join(non_vegetarian_ingredients)), 'vegetarian'] = False"
   ]
  },
  {
   "cell_type": "code",
   "execution_count": 11,
   "metadata": {},
   "outputs": [
    {
     "data": {
      "text/plain": [
       "         630\n",
       "True     310\n",
       "False    155\n",
       "Name: vegetarian, dtype: int64"
      ]
     },
     "execution_count": 11,
     "metadata": {},
     "output_type": "execute_result"
    }
   ],
   "source": [
    "ingredients['vegetarian'].value_counts()"
   ]
  },
  {
   "cell_type": "code",
   "execution_count": 12,
   "metadata": {},
   "outputs": [
    {
     "data": {
      "text/plain": [
       "array(['ackee', 'advocaat', 'agar-agar', 'ale', 'alfalfa sprouts',\n",
       "       'almond', 'almond essence', 'almond extract', 'amaranth',\n",
       "       'amaretti', 'angelica', 'angostura bitters', 'anise', 'apricot',\n",
       "       'apricot jam', 'arbroath smokie', 'argan oil', 'arrowroot',\n",
       "       'artichoke', 'asafoetida', 'asparagus', 'aubergine', 'avocado',\n",
       "       'bagel', 'baguette', 'bamboo shoots', 'banana', 'banana bread',\n",
       "       'barbecue sauce', 'beer', 'beetroot', 'berry', 'betel leaves',\n",
       "       'beurre manie', 'bilberries', \"bird's-eye chillies\", 'biscotti',\n",
       "       'biscuits', 'blachan', 'black pudding', 'black treacle',\n",
       "       'blackbean sauce', 'blackberry', 'blackcurrant',\n",
       "       'blackcurrant juice drink', 'blini', 'blood orange', 'bok choi',\n",
       "       'bonito', 'borage', 'bouquet garni', 'bran', 'brandy',\n",
       "       'brandy butter', 'brandy snaps', 'bratwurst', 'brazil nut',\n",
       "       'bread', 'bread roll', 'bread sauce', 'breadcrumbs', 'breadsticks',\n",
       "       'bresaola', 'brie', 'brill', 'brioche', 'brisket', 'broccoli',\n",
       "       'broth', 'brown bread', 'brown lentil', 'brown sauce',\n",
       "       'brussels sprouts', 'buns', 'butter', 'buttercream icing',\n",
       "       'butterhead lettuce', 'buttermilk', 'caerphilly', 'cake',\n",
       "       'calvados', 'camembert', 'campagne loaf', 'capers', 'capsicum',\n",
       "       'caramel', 'caraway seeds', 'cardamom', 'carrageen moss',\n",
       "       'carrageen_moss', 'cassava', 'cava', 'cavolo nero', 'celeriac',\n",
       "       'chantilly cream', 'chapatis', 'charcuterie', 'chard', 'chayote',\n",
       "       'cheddar', 'cherry', 'cherry brandy', 'chervil', 'cheshire',\n",
       "       'chestnut', 'chickpea', 'chicory', 'chilli', 'chilli con carne',\n",
       "       'chilli oil', 'chilli paste', 'chilli powder', 'chilli sauce',\n",
       "       'chinese pancake', 'chipotle', 'chips', 'chorizo', 'choux pastry',\n",
       "       'christmas cake', 'christmas pudding', 'chuck and blade', 'chump',\n",
       "       'chutney', 'ciabatta', 'cider', 'clarified butter', 'clementine',\n",
       "       'clotted cream', 'cobnut', 'cockles', 'cocktail', 'cod', 'cod roe',\n",
       "       'cognac', 'cola', 'coleslaw', 'coley', 'compote', 'comte',\n",
       "       'condensed milk', 'confectionery', 'coriander', 'coriander cress',\n",
       "       'coriander seeds', 'cos lettuce', 'coulis', 'courgette',\n",
       "       'court bouillon', 'couscous', 'crackers', 'cranberry',\n",
       "       'cranberry juice', 'cranberry sauce', 'cream', 'cream liqueur',\n",
       "       'cream soda', 'creme fraiche', 'crepe', 'cress', 'crispbread',\n",
       "       'crisps', 'croissant', 'crostini', 'croutons', 'crudites',\n",
       "       'crumble', 'cucumber', 'cumberland sauce', 'cumin', 'curacao',\n",
       "       'curd', 'currant bread', 'currants', 'curry', 'curry leaves',\n",
       "       'curry paste', 'curry powder', 'custard', 'custard powder', 'dab',\n",
       "       'daikon', 'damsons', 'dandelion', 'danish blue',\n",
       "       'demi-glace sauce', 'desiree', 'digestive biscuit',\n",
       "       'dim sum wrappers', 'dolcelatte', 'double cream',\n",
       "       'double gloucester', 'dover sole', 'dried apricots',\n",
       "       'dried cherries', 'dried chilli', 'dry sherry', 'dulce de leche',\n",
       "       'dumplings', 'duxelles', 'edam', 'elderberries', 'elderflower',\n",
       "       'emmental', 'english muffin', 'escalope', 'evaporated milk',\n",
       "       'farfalle', 'fenugreek', 'feta', 'fettuccine', 'filo pastry',\n",
       "       'flapjacks', 'flatbread', 'fleur de sel', 'focaccia',\n",
       "       'fondant icing', 'food colouring', 'forced rhubarb',\n",
       "       'fortified wine', 'frangipane', 'frankfurter', 'freekeh',\n",
       "       'french bread', 'french dressing', 'fresh coriander',\n",
       "       'fromage frais', 'fudge', 'fusilli', 'galangal', 'gammon',\n",
       "       'garam masala', 'gelatine', 'ghee', 'gherkin', 'giblets', 'gin',\n",
       "       'glace cherries', 'globe artichoke', 'glucose', 'gnocchi',\n",
       "       'golden syrup', 'gorgonzola', 'gouda', 'grain', 'gratin',\n",
       "       'green banana', 'green lentil', 'greengages', 'grey mullet',\n",
       "       'grouse', 'gruyere', 'guacamole', 'guava', 'guinea fowl',\n",
       "       'gurnard', 'habanero chillies', 'haddock', 'haggis', 'hake',\n",
       "       'halibut', 'halloumi', 'harissa', 'hazelnut', 'hazelnut oil',\n",
       "       'heart', 'herbal liqueur', 'herbal tea', 'herbes de provence',\n",
       "       'herbs', 'herring', 'hogget', 'hoisin sauce', 'hoki',\n",
       "       'hollandaise sauce', 'hominy', 'honey', 'honeycomb', 'hummus',\n",
       "       'hunza apricots', 'ice cream', 'iceberg lettuce', 'icing',\n",
       "       'irish stout', 'jaggery', 'jam', 'japanese pumpkin', 'jelly',\n",
       "       'jerk seasoning', 'jerusalem artichoke', 'john dory', 'jujube',\n",
       "       'juniper berries', 'jus', 'kabana', 'ketchup', 'ketjap manis',\n",
       "       'king edward', 'kirsch', 'kohlrabi', 'kumquat', 'lager',\n",
       "       'lancashire', 'langoustine', 'lard', 'lardons', 'lasagne',\n",
       "       'lasagne sheets', 'laverbread', 'leek', 'lemon', 'lemon balm',\n",
       "       'lemon curd', 'lemon juice', 'lemon sole', 'lemonade',\n",
       "       'lemongrass', 'lettuce', 'ling', 'lingonberry', 'linguine',\n",
       "       'liqueur', 'little gem lettuce', 'loaf cake', 'loganberry',\n",
       "       'lychee', 'macadamia', 'macaroni', 'macaroon', 'mace', 'mackerel',\n",
       "       'madeira', 'madeira cake', 'madeleines', 'maize', 'manchego',\n",
       "       'mandarin', 'mangetout', 'mango', 'mango chutney', 'mango juice',\n",
       "       'mango pickle', 'mangosteen', 'margarine', 'marjoram', 'marmalade',\n",
       "       'marrow', 'marsala wine', 'marshmallow', 'marzipan', 'mascarpone',\n",
       "       'matzo', 'mayonnaise', 'medlars', 'megrim', 'melon', 'melon seeds',\n",
       "       'meringue', 'mesclun', 'milk', 'milkshake', 'mince', 'mince pies',\n",
       "       'mint', 'mint sauce', 'mirepoix', 'mirin', \"monk's beard\",\n",
       "       'mortadella', 'mozzarella', 'muesli', 'muffins', 'mulberries',\n",
       "       'mulled wine', 'mussels', 'mutton', 'naan bread', 'nachos',\n",
       "       'nashi', 'nasturtium', 'nectarine', 'nettle', 'noodle soup',\n",
       "       'nori', 'nougat', 'nut', 'nutmeg', 'oatcakes', 'oatmeal', 'offal',\n",
       "       'oil', 'okra', 'olive', 'orange', 'orange juice', 'orange liqueur',\n",
       "       'ouzo', 'oxtail', 'paella', 'pak choi', 'pancakes', 'pancetta',\n",
       "       'pandan leaves', 'paneer', 'panettone', 'papaya', 'pappardelle',\n",
       "       'parfait', 'parmesan', 'parsnip', 'partridge', 'passata',\n",
       "       'pastrami', 'pastry', 'pasty', 'pate', 'paw-paw', 'pea shoots',\n",
       "       'peach', 'pear', 'pecorino', 'penne', 'pepper', 'pepperoni',\n",
       "       'perch', 'perry', 'pesto', 'pheasant', 'piccalilli', 'pickle',\n",
       "       'pie', 'pig cheeks', 'pike', 'pine nut', 'piri-piri', 'pistachio',\n",
       "       'pitta bread', 'pizza', 'plaice', 'plantain', 'polenta', 'pollack',\n",
       "       'pollock', 'pomegranate', 'pomegranate juice', 'pomelo',\n",
       "       'poppy seeds', 'porcini', 'port', 'poussin', 'praline', 'prawn',\n",
       "       'prawn crackers', 'preserved lemons', 'preserves', 'prosciutto',\n",
       "       'prune', 'prune juice', 'puff pastry', 'pumpernickel bread',\n",
       "       'pumpkin', 'pumpkin seed', 'purple sprouting broccoli',\n",
       "       'quatre-epices', 'quince', 'quinoa', 'radicchio', 'radish',\n",
       "       'rainbow chard', 'raisins', 'raita', 'rapeseed oil',\n",
       "       'ras-el-hanout', 'raspberry', 'raspberry jam', 'ratafia biscuits',\n",
       "       'ratatouille', 'red leicester', 'red lentil', 'red mullet',\n",
       "       'red snapper', 'red wine', 'redcurrant', 'redcurrant jelly',\n",
       "       'rennet', 'rhubarb', 'ricotta', 'rigatoni', 'risotto', 'rocket',\n",
       "       'root beer', 'root vegetable', 'roquefort', 'rose wine',\n",
       "       'rosehip syrup', 'rouille', 'royal icing', 'rum', 'rye bread',\n",
       "       'saffron', 'sage', 'salad', 'salad cream', 'salad leaves', 'salsa',\n",
       "       'salsify', 'sambuca', 'samphire', 'sardine', 'sashimi', 'satsuma',\n",
       "       'sauces', 'saucisson', 'sausage', 'savory', 'scallop',\n",
       "       'scotch bonnet chilli', 'scrag', 'seasoning', 'seeds', 'semolina',\n",
       "       'seville orange', 'shallot', 'sherry', 'shin', 'shortbread',\n",
       "       'shortcrust pastry', 'sichuan pepper', 'silverside',\n",
       "       'single cream', 'skate', 'sloe', 'sloe gin', 'smoked haddock',\n",
       "       'smoked mackerel', 'snapper', 'soda', 'soda bread', 'sole',\n",
       "       'sorbet', 'sorrel', 'soup', 'sourdough bread', 'soured cream',\n",
       "       'spaghetti', 'spaghetti squash', 'sparkling wine', 'spelt',\n",
       "       'sponge cake', 'spring greens', 'spring roll wrappers', 'squash',\n",
       "       'star anise', 'stew', 'stilton', 'stock', 'strawberry',\n",
       "       'strawberry jam', 'strega liqueur', 'sucralose', 'suet',\n",
       "       'sultanas', 'swede', 'sweet sherry', 'sweetbread', 'swiss chard',\n",
       "       'swiss rolls and roulades', 'syrup', 'tabasco', 'taco',\n",
       "       'tagliatelle', 'tamari', 'tamarillo', 'tangerine', 'tapenade',\n",
       "       'taro', 'tartare sauce', 'tayberry', 'tea', 'tempura', 'tequila',\n",
       "       'teriyaki', 'teriyaki sauce', 'terrine', 'tilapia', 'toffee',\n",
       "       'tomatillo', 'tonic', 'topside', 'tortellini', 'tripe', 'truffle',\n",
       "       'truffle oil', 'turbot', 'turkish delight', 'turnip',\n",
       "       'unleavened bread', 'vacherin', 'vegetable oil', 'vegetable stock',\n",
       "       'vegetarian sausage', 'venison', 'verjus', 'vermicelli',\n",
       "       'vermouth', 'vine leaves', 'vodka', 'vodka cocktail', 'waffles',\n",
       "       'wasabi', 'webbs lettuce', 'wensleydale', 'whelk',\n",
       "       'whipping cream', 'whisky', 'whisky cocktail', 'whisky liqueur',\n",
       "       'white bread', 'white wine', 'whitebait', 'whitecurrant',\n",
       "       'whiting', 'wholemeal bread', 'wine', 'winkles',\n",
       "       'worcestershire sauce', 'wraps', 'yam', 'yellow lentil', 'yoghurt',\n",
       "       'zest'], dtype=object)"
      ]
     },
     "execution_count": 12,
     "metadata": {},
     "output_type": "execute_result"
    }
   ],
   "source": [
    "ingredients[ingredients['vegetarian'] == \"\"]['ingredient'].values"
   ]
  },
  {
   "cell_type": "code",
   "execution_count": 13,
   "metadata": {},
   "outputs": [],
   "source": [
    "ingredients.loc[ingredients['vegetarian'] == \"\", 'vegetarian'] = True"
   ]
  },
  {
   "cell_type": "code",
   "execution_count": 14,
   "metadata": {},
   "outputs": [
    {
     "data": {
      "text/plain": [
       "True     940\n",
       "False    155\n",
       "Name: vegetarian, dtype: int64"
      ]
     },
     "execution_count": 14,
     "metadata": {},
     "output_type": "execute_result"
    }
   ],
   "source": [
    "ingredients['vegetarian'].value_counts()"
   ]
  },
  {
   "cell_type": "code",
   "execution_count": 15,
   "metadata": {},
   "outputs": [],
   "source": [
    "non_vegetarian_df = [[ingredient, False] for ingredient in non_vegetarian_ingredients]\n",
    "non_vegetarian_df = pd.DataFrame(columns = ingredients.columns, data = non_vegetarian_df)\n",
    "ingredients = pd.concat([ingredients, non_vegetarian_df])"
   ]
  },
  {
   "cell_type": "code",
   "execution_count": 16,
   "metadata": {},
   "outputs": [
    {
     "data": {
      "text/html": [
       "<div>\n",
       "<style scoped>\n",
       "    .dataframe tbody tr th:only-of-type {\n",
       "        vertical-align: middle;\n",
       "    }\n",
       "\n",
       "    .dataframe tbody tr th {\n",
       "        vertical-align: top;\n",
       "    }\n",
       "\n",
       "    .dataframe thead th {\n",
       "        text-align: right;\n",
       "    }\n",
       "</style>\n",
       "<table border=\"1\" class=\"dataframe\">\n",
       "  <thead>\n",
       "    <tr style=\"text-align: right;\">\n",
       "      <th></th>\n",
       "      <th>ingredient</th>\n",
       "      <th>vegetarian</th>\n",
       "    </tr>\n",
       "  </thead>\n",
       "  <tbody>\n",
       "    <tr>\n",
       "      <th>0</th>\n",
       "      <td>acidulated water</td>\n",
       "      <td>True</td>\n",
       "    </tr>\n",
       "    <tr>\n",
       "      <th>1</th>\n",
       "      <td>ackee</td>\n",
       "      <td>True</td>\n",
       "    </tr>\n",
       "    <tr>\n",
       "      <th>2</th>\n",
       "      <td>acorn squash</td>\n",
       "      <td>True</td>\n",
       "    </tr>\n",
       "    <tr>\n",
       "      <th>3</th>\n",
       "      <td>aduki beans</td>\n",
       "      <td>True</td>\n",
       "    </tr>\n",
       "    <tr>\n",
       "      <th>4</th>\n",
       "      <td>advocaat</td>\n",
       "      <td>True</td>\n",
       "    </tr>\n",
       "    <tr>\n",
       "      <th>...</th>\n",
       "      <td>...</td>\n",
       "      <td>...</td>\n",
       "    </tr>\n",
       "    <tr>\n",
       "      <th>52</th>\n",
       "      <td>tuna</td>\n",
       "      <td>False</td>\n",
       "    </tr>\n",
       "    <tr>\n",
       "      <th>53</th>\n",
       "      <td>turkey</td>\n",
       "      <td>False</td>\n",
       "    </tr>\n",
       "    <tr>\n",
       "      <th>54</th>\n",
       "      <td>trout</td>\n",
       "      <td>False</td>\n",
       "    </tr>\n",
       "    <tr>\n",
       "      <th>55</th>\n",
       "      <td>veal</td>\n",
       "      <td>False</td>\n",
       "    </tr>\n",
       "    <tr>\n",
       "      <th>56</th>\n",
       "      <td>zander</td>\n",
       "      <td>False</td>\n",
       "    </tr>\n",
       "  </tbody>\n",
       "</table>\n",
       "<p>1152 rows × 2 columns</p>\n",
       "</div>"
      ],
      "text/plain": [
       "          ingredient vegetarian\n",
       "0   acidulated water       True\n",
       "1              ackee       True\n",
       "2       acorn squash       True\n",
       "3        aduki beans       True\n",
       "4           advocaat       True\n",
       "..               ...        ...\n",
       "52              tuna      False\n",
       "53            turkey      False\n",
       "54             trout      False\n",
       "55              veal      False\n",
       "56            zander      False\n",
       "\n",
       "[1152 rows x 2 columns]"
      ]
     },
     "execution_count": 16,
     "metadata": {},
     "output_type": "execute_result"
    }
   ],
   "source": [
    "ingredients"
   ]
  },
  {
   "cell_type": "code",
   "execution_count": 17,
   "metadata": {},
   "outputs": [],
   "source": [
    "ingredients.to_csv('ingredients_labeled.csv', header=True, index=False)"
   ]
  }
 ],
 "metadata": {
  "kernelspec": {
   "display_name": "Python 3",
   "language": "python",
   "name": "python3"
  },
  "language_info": {
   "codemirror_mode": {
    "name": "ipython",
    "version": 3
   },
   "file_extension": ".py",
   "mimetype": "text/x-python",
   "name": "python",
   "nbconvert_exporter": "python",
   "pygments_lexer": "ipython3",
   "version": "3.7.7"
  },
  "pycharm": {
   "stem_cell": {
    "cell_type": "raw",
    "metadata": {
     "collapsed": false
    },
    "source": []
   }
  }
 },
 "nbformat": 4,
 "nbformat_minor": 4
}
