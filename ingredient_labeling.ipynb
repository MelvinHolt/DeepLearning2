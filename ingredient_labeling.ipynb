{
 "cells": [
  {
   "cell_type": "markdown",
   "metadata": {},
   "source": [
    "# Deep Learning"
   ]
  },
  {
   "cell_type": "code",
   "execution_count": 97,
   "metadata": {},
   "outputs": [],
   "source": [
    "import pandas as pd\n",
    "import numpy as np\n",
    "import json\n",
    "import string\n",
    "import re\n"
   ]
  },
  {
   "cell_type": "markdown",
   "metadata": {},
   "source": [
    "### Load dataset"
   ]
  },
  {
   "cell_type": "code",
   "execution_count": 110,
   "metadata": {},
   "outputs": [
    {
     "data": {
      "text/plain": [
       "(1095, 2)"
      ]
     },
     "execution_count": 110,
     "metadata": {},
     "output_type": "execute_result"
    }
   ],
   "source": [
    "ingredients = pd.read_csv('Ingredients101/ingredients_simplification/baseIngredients.txt', sep=\",\", header=None, squeeze=True).T\n",
    "ingredients.columns = ['ingredient']\n",
    "ingredients['vegetarian'] = \"\"\n",
    "ingredients.shape"
   ]
  },
  {
   "cell_type": "markdown",
   "metadata": {},
   "source": [
    "### Load the vegetarian ingredients"
   ]
  },
  {
   "cell_type": "code",
   "execution_count": 99,
   "metadata": {},
   "outputs": [],
   "source": [
    "with open('foodclassification/database.json') as f:\n",
    "  data = json.load(f)"
   ]
  },
  {
   "cell_type": "code",
   "execution_count": 100,
   "metadata": {},
   "outputs": [
    {
     "data": {
      "text/plain": [
       "['sodium carbonate',\n",
       " 'organic hemp protein',\n",
       " 'cooked pinto beans',\n",
       " 'extra virgin olive oil',\n",
       " 'tofu']"
      ]
     },
     "execution_count": 100,
     "metadata": {},
     "output_type": "execute_result"
    }
   ],
   "source": [
    "vegetarian_ingredients = data['vegetarian'] + data['vegan']\n",
    "vegetarian_ingredients = [ingredient.lower().translate(str.maketrans('', '', string.punctuation)) for ingredient in set(vegetarian_ingredients)]\n",
    "vegetarian_ingredients[:5]"
   ]
  },
  {
   "cell_type": "markdown",
   "metadata": {},
   "source": [
    "### Filter the vegetarian ingredients based on the blacklist of Ingredients 101"
   ]
  },
  {
   "cell_type": "code",
   "execution_count": 126,
   "metadata": {},
   "outputs": [
    {
     "name": "stdout",
     "output_type": "stream",
     "text": [
      "['powdered', 'of', 'light', 'ground', 'sauce']\n"
     ]
    }
   ],
   "source": [
    "with open('Ingredients101/ingredients_simplification/blacklist.txt') as f:\n",
    "    blacklist = f.read().splitlines()\n",
    "print(blacklist[:5])"
   ]
  },
  {
   "cell_type": "code",
   "execution_count": 108,
   "metadata": {},
   "outputs": [],
   "source": [
    "pattern = \"(^|\\s)\" + \"($|\\s)|(^|\\s)\".join(blacklist) + \"($|\\s)\"\n",
    "vegetarian_ingredients_clean = list(filter(None, [re.sub(pattern, \"\", ingredient) for ingredient in vegetarian_ingredients]))"
   ]
  },
  {
   "cell_type": "code",
   "execution_count": 109,
   "metadata": {},
   "outputs": [
    {
     "data": {
      "text/plain": [
       "815"
      ]
     },
     "execution_count": 109,
     "metadata": {},
     "output_type": "execute_result"
    }
   ],
   "source": [
    "len(vegetarian_ingredients_clean)"
   ]
  },
  {
   "cell_type": "code",
   "execution_count": 111,
   "metadata": {},
   "outputs": [
    {
     "name": "stdout",
     "output_type": "stream",
     "text": [
      "        774\n",
      "True    321\n",
      "Name: vegetarian, dtype: int64\n"
     ]
    },
    {
     "data": {
      "text/html": [
       "<div>\n",
       "<style scoped>\n",
       "    .dataframe tbody tr th:only-of-type {\n",
       "        vertical-align: middle;\n",
       "    }\n",
       "\n",
       "    .dataframe tbody tr th {\n",
       "        vertical-align: top;\n",
       "    }\n",
       "\n",
       "    .dataframe thead th {\n",
       "        text-align: right;\n",
       "    }\n",
       "</style>\n",
       "<table border=\"1\" class=\"dataframe\">\n",
       "  <thead>\n",
       "    <tr style=\"text-align: right;\">\n",
       "      <th></th>\n",
       "      <th>ingredient</th>\n",
       "      <th>vegetarian</th>\n",
       "    </tr>\n",
       "  </thead>\n",
       "  <tbody>\n",
       "    <tr>\n",
       "      <th>0</th>\n",
       "      <td>acidulated water</td>\n",
       "      <td>True</td>\n",
       "    </tr>\n",
       "    <tr>\n",
       "      <th>1</th>\n",
       "      <td>ackee</td>\n",
       "      <td></td>\n",
       "    </tr>\n",
       "    <tr>\n",
       "      <th>2</th>\n",
       "      <td>acorn squash</td>\n",
       "      <td>True</td>\n",
       "    </tr>\n",
       "    <tr>\n",
       "      <th>3</th>\n",
       "      <td>aduki beans</td>\n",
       "      <td>True</td>\n",
       "    </tr>\n",
       "    <tr>\n",
       "      <th>4</th>\n",
       "      <td>advocaat</td>\n",
       "      <td></td>\n",
       "    </tr>\n",
       "    <tr>\n",
       "      <th>...</th>\n",
       "      <td>...</td>\n",
       "      <td>...</td>\n",
       "    </tr>\n",
       "    <tr>\n",
       "      <th>1090</th>\n",
       "      <td>yeast</td>\n",
       "      <td>True</td>\n",
       "    </tr>\n",
       "    <tr>\n",
       "      <th>1091</th>\n",
       "      <td>yellow lentil</td>\n",
       "      <td></td>\n",
       "    </tr>\n",
       "    <tr>\n",
       "      <th>1092</th>\n",
       "      <td>yoghurt</td>\n",
       "      <td></td>\n",
       "    </tr>\n",
       "    <tr>\n",
       "      <th>1093</th>\n",
       "      <td>zander</td>\n",
       "      <td></td>\n",
       "    </tr>\n",
       "    <tr>\n",
       "      <th>1094</th>\n",
       "      <td>zest</td>\n",
       "      <td></td>\n",
       "    </tr>\n",
       "  </tbody>\n",
       "</table>\n",
       "<p>1095 rows × 2 columns</p>\n",
       "</div>"
      ],
      "text/plain": [
       "            ingredient vegetarian\n",
       "0     acidulated water       True\n",
       "1                ackee           \n",
       "2         acorn squash       True\n",
       "3          aduki beans       True\n",
       "4             advocaat           \n",
       "...                ...        ...\n",
       "1090             yeast       True\n",
       "1091     yellow lentil           \n",
       "1092           yoghurt           \n",
       "1093            zander           \n",
       "1094              zest           \n",
       "\n",
       "[1095 rows x 2 columns]"
      ]
     },
     "execution_count": 111,
     "metadata": {},
     "output_type": "execute_result"
    }
   ],
   "source": [
    "ingredients.loc[ingredients['ingredient'].str.contains(\"|\".join(vegetarian_ingredients_clean)), 'vegetarian'] = True\n",
    "print(ingredients['vegetarian'].value_counts())\n",
    "ingredients"
   ]
  },
  {
   "cell_type": "code",
   "execution_count": 114,
   "metadata": {},
   "outputs": [],
   "source": [
    "non_vegetarian_ingredients = [\n",
    "     'anchov',\n",
    "     'bacon',\n",
    "     'bass',\n",
    "     'beef',\n",
    "     'beef',\n",
    "     'boar',\n",
    "     'bream',\n",
    "     'burger',\n",
    "     'clams',\n",
    "     'caviar',\n",
    "     'chicken',\n",
    "     'collar',\n",
    "     'crab',\n",
    "     'duck',\n",
    "     'eel',\n",
    "     'fat',\n",
    "     'fish',\n",
    "     'flank',\n",
    "     'game',\n",
    "     'goose',\n",
    "     'gravy',\n",
    "     'hare',\n",
    "     'ham',\n",
    "     'horse',\n",
    "     'kipper',\n",
    "     'kidney',\n",
    "     'lamb',\n",
    "     'lamb',\n",
    "     'liver',\n",
    "     'lobster'\n",
    "     'meat',\n",
    "     'morel',\n",
    "     'octopus'\n",
    "     'pigeon',\n",
    "     'pork',\n",
    "     'poultry',\n",
    "     'quail',\n",
    "     'rump',\n",
    "     'rabbit',\n",
    "     'salami',\n",
    "     'salmon',\n",
    "     'seafood',\n",
    "     'shrimp',\n",
    "     'sirloin',\n",
    "     'silverside'\n",
    "     'smokie',\n",
    "     'squid',\n",
    "     'steak',\n",
    "     'stuffing',\n",
    "     'tongue',\n",
    "     'tuna',\n",
    "     'turkey',\n",
    "     'trout',\n",
    "     'veal',\n",
    "     'zander'\n",
    "]"
   ]
  },
  {
   "cell_type": "code",
   "execution_count": 115,
   "metadata": {},
   "outputs": [],
   "source": [
    "ingredients.loc[ingredients['ingredient'].str.contains(\"|\".join(non_vegetarian_ingredients)), 'vegetarian'] = False"
   ]
  },
  {
   "cell_type": "code",
   "execution_count": 116,
   "metadata": {},
   "outputs": [
    {
     "data": {
      "text/plain": [
       "         640\n",
       "True     312\n",
       "False    143\n",
       "Name: vegetarian, dtype: int64"
      ]
     },
     "execution_count": 116,
     "metadata": {},
     "output_type": "execute_result"
    }
   ],
   "source": [
    "ingredients['vegetarian'].value_counts()"
   ]
  },
  {
   "cell_type": "code",
   "execution_count": 127,
   "metadata": {},
   "outputs": [
    {
     "data": {
      "text/plain": [
       "array([], dtype=object)"
      ]
     },
     "execution_count": 127,
     "metadata": {},
     "output_type": "execute_result"
    }
   ],
   "source": [
    "ingredients[ingredients['vegetarian'] == \"\"]['ingredient'].values"
   ]
  },
  {
   "cell_type": "code",
   "execution_count": 118,
   "metadata": {},
   "outputs": [],
   "source": [
    "ingredients.loc[ingredients['vegetarian'] == \"\", 'vegetarian'] = True"
   ]
  },
  {
   "cell_type": "code",
   "execution_count": 119,
   "metadata": {},
   "outputs": [
    {
     "data": {
      "text/plain": [
       "True     952\n",
       "False    143\n",
       "Name: vegetarian, dtype: int64"
      ]
     },
     "execution_count": 119,
     "metadata": {},
     "output_type": "execute_result"
    }
   ],
   "source": [
    "ingredients['vegetarian'].value_counts()"
   ]
  },
  {
   "cell_type": "code",
   "execution_count": 125,
   "metadata": {},
   "outputs": [],
   "source": [
    "ingredients.to_csv('ingredients_labeled.csv', header=True, index=False)"
   ]
  }
 ],
 "metadata": {
  "kernelspec": {
   "display_name": "Python 3",
   "language": "python",
   "name": "python3"
  },
  "language_info": {
   "codemirror_mode": {
    "name": "ipython",
    "version": 3
   },
   "file_extension": ".py",
   "mimetype": "text/x-python",
   "name": "python",
   "nbconvert_exporter": "python",
   "pygments_lexer": "ipython3",
   "version": "3.7.7"
  },
  "pycharm": {
   "stem_cell": {
    "cell_type": "raw",
    "metadata": {
     "collapsed": false
    },
    "source": []
   }
  }
 },
 "nbformat": 4,
 "nbformat_minor": 4
}
