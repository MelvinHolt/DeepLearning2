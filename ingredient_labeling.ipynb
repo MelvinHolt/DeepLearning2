{
 "cells": [
  {
   "cell_type": "markdown",
   "metadata": {},
   "source": [
    "# Deep Learning"
   ]
  },
  {
   "cell_type": "code",
   "execution_count": 1,
   "metadata": {},
   "outputs": [],
   "source": [
    "import pandas as pd\n",
    "import numpy as np\n",
    "import json\n",
    "import string\n",
    "import re"
   ]
  },
  {
   "cell_type": "markdown",
   "metadata": {},
   "source": [
    "### Load dataset"
   ]
  },
  {
   "cell_type": "code",
   "execution_count": 2,
   "metadata": {},
   "outputs": [],
   "source": [
    "ingredients_simplified = pd.read_csv('Ingredients101/Annotations/ingredients_simplified.txt', sep=\"\\n\", header=None)\n",
    "ingredients_simplified.columns = ['ingredients']\n",
    "ingredients_simplified['ingredients'] = ingredients_simplified['ingredients'].apply(lambda x: x.split(\",\"))"
   ]
  },
  {
   "cell_type": "code",
   "execution_count": 3,
   "metadata": {},
   "outputs": [
    {
     "data": {
      "text/plain": [
       "227"
      ]
     },
     "execution_count": 3,
     "metadata": {},
     "output_type": "execute_result"
    }
   ],
   "source": [
    "ingredients = []\n",
    "for key, row in ingredients_simplified.iterrows():\n",
    "    for ingredient in row['ingredients']:        \n",
    "        if not ingredient in ingredients:\n",
    "            ingredients.append(ingredient)\n",
    "len(ingredients)"
   ]
  },
  {
   "cell_type": "code",
   "execution_count": 4,
   "metadata": {},
   "outputs": [
    {
     "data": {
      "text/html": [
       "<div>\n",
       "<style scoped>\n",
       "    .dataframe tbody tr th:only-of-type {\n",
       "        vertical-align: middle;\n",
       "    }\n",
       "\n",
       "    .dataframe tbody tr th {\n",
       "        vertical-align: top;\n",
       "    }\n",
       "\n",
       "    .dataframe thead th {\n",
       "        text-align: right;\n",
       "    }\n",
       "</style>\n",
       "<table border=\"1\" class=\"dataframe\">\n",
       "  <thead>\n",
       "    <tr style=\"text-align: right;\">\n",
       "      <th></th>\n",
       "      <th>ingredient</th>\n",
       "      <th>vegetarian</th>\n",
       "    </tr>\n",
       "  </thead>\n",
       "  <tbody>\n",
       "    <tr>\n",
       "      <th>0</th>\n",
       "      <td>butter</td>\n",
       "      <td></td>\n",
       "    </tr>\n",
       "    <tr>\n",
       "      <th>1</th>\n",
       "      <td>flour</td>\n",
       "      <td></td>\n",
       "    </tr>\n",
       "    <tr>\n",
       "      <th>2</th>\n",
       "      <td>sugar</td>\n",
       "      <td></td>\n",
       "    </tr>\n",
       "    <tr>\n",
       "      <th>3</th>\n",
       "      <td>brown sugar</td>\n",
       "      <td></td>\n",
       "    </tr>\n",
       "    <tr>\n",
       "      <th>4</th>\n",
       "      <td>apple</td>\n",
       "      <td></td>\n",
       "    </tr>\n",
       "    <tr>\n",
       "      <th>...</th>\n",
       "      <td>...</td>\n",
       "      <td>...</td>\n",
       "    </tr>\n",
       "    <tr>\n",
       "      <th>222</th>\n",
       "      <td>brewed espresso</td>\n",
       "      <td></td>\n",
       "    </tr>\n",
       "    <tr>\n",
       "      <th>223</th>\n",
       "      <td>frangelico</td>\n",
       "      <td></td>\n",
       "    </tr>\n",
       "    <tr>\n",
       "      <th>224</th>\n",
       "      <td>rum</td>\n",
       "      <td></td>\n",
       "    </tr>\n",
       "    <tr>\n",
       "      <th>225</th>\n",
       "      <td>lady fingers</td>\n",
       "      <td></td>\n",
       "    </tr>\n",
       "    <tr>\n",
       "      <th>226</th>\n",
       "      <td>sushi grade tuna</td>\n",
       "      <td></td>\n",
       "    </tr>\n",
       "  </tbody>\n",
       "</table>\n",
       "<p>227 rows × 2 columns</p>\n",
       "</div>"
      ],
      "text/plain": [
       "           ingredient vegetarian\n",
       "0              butter           \n",
       "1               flour           \n",
       "2               sugar           \n",
       "3         brown sugar           \n",
       "4               apple           \n",
       "..                ...        ...\n",
       "222   brewed espresso           \n",
       "223        frangelico           \n",
       "224               rum           \n",
       "225      lady fingers           \n",
       "226  sushi grade tuna           \n",
       "\n",
       "[227 rows x 2 columns]"
      ]
     },
     "execution_count": 4,
     "metadata": {},
     "output_type": "execute_result"
    }
   ],
   "source": [
    "ingredients = pd.DataFrame(ingredients, columns=['ingredient'])\n",
    "ingredients['vegetarian'] = \"\"\n",
    "ingredients"
   ]
  },
  {
   "cell_type": "markdown",
   "metadata": {},
   "source": [
    "### Load the vegetarian ingredients"
   ]
  },
  {
   "cell_type": "code",
   "execution_count": 5,
   "metadata": {},
   "outputs": [],
   "source": [
    "with open('foodclassification/database.json') as f:\n",
    "  data = json.load(f)"
   ]
  },
  {
   "cell_type": "code",
   "execution_count": 6,
   "metadata": {},
   "outputs": [
    {
     "data": {
      "text/plain": [
       "['agar agar powder',\n",
       " 'cocoa butter',\n",
       " 'fruit puree',\n",
       " 'baking powder',\n",
       " 'rice milk']"
      ]
     },
     "execution_count": 6,
     "metadata": {},
     "output_type": "execute_result"
    }
   ],
   "source": [
    "vegetarian_ingredients = data['vegetarian'] + data['vegan']\n",
    "vegetarian_ingredients = [ingredient.lower().translate(str.maketrans('', '', string.punctuation)) for ingredient in set(vegetarian_ingredients)]\n",
    "vegetarian_ingredients[:5]"
   ]
  },
  {
   "cell_type": "markdown",
   "metadata": {},
   "source": [
    "### Filter the vegetarian ingredients based on the blacklist of Ingredients 101"
   ]
  },
  {
   "cell_type": "code",
   "execution_count": 7,
   "metadata": {},
   "outputs": [
    {
     "name": "stdout",
     "output_type": "stream",
     "text": [
      "['powdered', 'of', 'light', 'ground', 'sauce']\n"
     ]
    }
   ],
   "source": [
    "with open('Ingredients101/ingredients_simplification/blacklist.txt') as f:\n",
    "    blacklist = f.read().splitlines()\n",
    "print(blacklist[:5])"
   ]
  },
  {
   "cell_type": "code",
   "execution_count": 8,
   "metadata": {},
   "outputs": [],
   "source": [
    "pattern = \"(^|\\s)\" + \"($|\\s)|(^|\\s)\".join(blacklist) + \"($|\\s)\"\n",
    "vegetarian_ingredients_clean = list(filter(None, [re.sub(pattern, \"\", ingredient) for ingredient in vegetarian_ingredients]))"
   ]
  },
  {
   "cell_type": "code",
   "execution_count": 9,
   "metadata": {},
   "outputs": [
    {
     "data": {
      "text/plain": [
       "815"
      ]
     },
     "execution_count": 9,
     "metadata": {},
     "output_type": "execute_result"
    }
   ],
   "source": [
    "len(vegetarian_ingredients_clean)"
   ]
  },
  {
   "cell_type": "code",
   "execution_count": 10,
   "metadata": {},
   "outputs": [
    {
     "name": "stdout",
     "output_type": "stream",
     "text": [
      "        150\n",
      "True     77\n",
      "Name: vegetarian, dtype: int64\n"
     ]
    },
    {
     "data": {
      "text/html": [
       "<div>\n",
       "<style scoped>\n",
       "    .dataframe tbody tr th:only-of-type {\n",
       "        vertical-align: middle;\n",
       "    }\n",
       "\n",
       "    .dataframe tbody tr th {\n",
       "        vertical-align: top;\n",
       "    }\n",
       "\n",
       "    .dataframe thead th {\n",
       "        text-align: right;\n",
       "    }\n",
       "</style>\n",
       "<table border=\"1\" class=\"dataframe\">\n",
       "  <thead>\n",
       "    <tr style=\"text-align: right;\">\n",
       "      <th></th>\n",
       "      <th>ingredient</th>\n",
       "      <th>vegetarian</th>\n",
       "    </tr>\n",
       "  </thead>\n",
       "  <tbody>\n",
       "    <tr>\n",
       "      <th>0</th>\n",
       "      <td>butter</td>\n",
       "      <td></td>\n",
       "    </tr>\n",
       "    <tr>\n",
       "      <th>1</th>\n",
       "      <td>flour</td>\n",
       "      <td>True</td>\n",
       "    </tr>\n",
       "    <tr>\n",
       "      <th>2</th>\n",
       "      <td>sugar</td>\n",
       "      <td>True</td>\n",
       "    </tr>\n",
       "    <tr>\n",
       "      <th>3</th>\n",
       "      <td>brown sugar</td>\n",
       "      <td>True</td>\n",
       "    </tr>\n",
       "    <tr>\n",
       "      <th>4</th>\n",
       "      <td>apple</td>\n",
       "      <td>True</td>\n",
       "    </tr>\n",
       "    <tr>\n",
       "      <th>...</th>\n",
       "      <td>...</td>\n",
       "      <td>...</td>\n",
       "    </tr>\n",
       "    <tr>\n",
       "      <th>222</th>\n",
       "      <td>brewed espresso</td>\n",
       "      <td></td>\n",
       "    </tr>\n",
       "    <tr>\n",
       "      <th>223</th>\n",
       "      <td>frangelico</td>\n",
       "      <td></td>\n",
       "    </tr>\n",
       "    <tr>\n",
       "      <th>224</th>\n",
       "      <td>rum</td>\n",
       "      <td></td>\n",
       "    </tr>\n",
       "    <tr>\n",
       "      <th>225</th>\n",
       "      <td>lady fingers</td>\n",
       "      <td></td>\n",
       "    </tr>\n",
       "    <tr>\n",
       "      <th>226</th>\n",
       "      <td>sushi grade tuna</td>\n",
       "      <td></td>\n",
       "    </tr>\n",
       "  </tbody>\n",
       "</table>\n",
       "<p>227 rows × 2 columns</p>\n",
       "</div>"
      ],
      "text/plain": [
       "           ingredient vegetarian\n",
       "0              butter           \n",
       "1               flour       True\n",
       "2               sugar       True\n",
       "3         brown sugar       True\n",
       "4               apple       True\n",
       "..                ...        ...\n",
       "222   brewed espresso           \n",
       "223        frangelico           \n",
       "224               rum           \n",
       "225      lady fingers           \n",
       "226  sushi grade tuna           \n",
       "\n",
       "[227 rows x 2 columns]"
      ]
     },
     "execution_count": 10,
     "metadata": {},
     "output_type": "execute_result"
    }
   ],
   "source": [
    "ingredients.loc[ingredients['ingredient'].str.contains(\"|\".join(vegetarian_ingredients_clean)), 'vegetarian'] = True\n",
    "print(ingredients['vegetarian'].value_counts())\n",
    "ingredients"
   ]
  },
  {
   "cell_type": "code",
   "execution_count": 11,
   "metadata": {},
   "outputs": [],
   "source": [
    "non_vegetarian_ingredients = [\n",
    "     'anchov',\n",
    "     'bacon',\n",
    "     'bass',\n",
    "     'beef',\n",
    "     'beef',\n",
    "     'boar',\n",
    "     'bream',\n",
    "     'burger',\n",
    "     'clams',\n",
    "     'clam',\n",
    "     'caviar',\n",
    "     'chicken',\n",
    "     'collar',\n",
    "     'crab',\n",
    "     'duck',\n",
    "     'eel',\n",
    "     'fat',\n",
    "     'fish',\n",
    "     'filet',\n",
    "     'flank',\n",
    "     'foie',\n",
    "     'game',\n",
    "     'goose',\n",
    "     'gravy',\n",
    "     'hare',\n",
    "     'ham',\n",
    "     'horse',\n",
    "     'kipper',\n",
    "     'kidney',\n",
    "     'lamb',\n",
    "     'lamb',\n",
    "     'liver',\n",
    "     'lobster',\n",
    "     'meat',\n",
    "     'morel',\n",
    "     'mussels',\n",
    "     'octopus',\n",
    "     'oyster',\n",
    "     'pigeon',\n",
    "     'pork',\n",
    "     'poultry',\n",
    "     'quail',\n",
    "     'rump',\n",
    "     'rabbit',\n",
    "     'salami',\n",
    "     'salmon',\n",
    "     'seafood',\n",
    "     'shrimp',\n",
    "     'sirloin',\n",
    "     'silverside'\n",
    "     'smokie',\n",
    "     'snails',\n",
    "     'squid',\n",
    "     'steak',\n",
    "     'stuffing',\n",
    "     'tongue',\n",
    "     'tuna',\n",
    "     'turkey',\n",
    "     'trout',\n",
    "     'veal',\n",
    "     'zander'\n",
    "]"
   ]
  },
  {
   "cell_type": "code",
   "execution_count": 12,
   "metadata": {},
   "outputs": [],
   "source": [
    "ingredients.loc[ingredients['ingredient'].str.contains(\"|\".join(non_vegetarian_ingredients)), 'vegetarian'] = False"
   ]
  },
  {
   "cell_type": "code",
   "execution_count": 13,
   "metadata": {},
   "outputs": [
    {
     "data": {
      "text/plain": [
       "         126\n",
       "True      77\n",
       "False     24\n",
       "Name: vegetarian, dtype: int64"
      ]
     },
     "execution_count": 13,
     "metadata": {},
     "output_type": "execute_result"
    }
   ],
   "source": [
    "ingredients['vegetarian'].value_counts()"
   ]
  },
  {
   "cell_type": "code",
   "execution_count": 14,
   "metadata": {},
   "outputs": [
    {
     "data": {
      "text/plain": [
       "array(['butter', 'nut', 'baby back ribs', 'worcestershire', 'gin',\n",
       "       'bread', 'phyllo dough', 'honey', 'lemon', 'baklava', 'pepper',\n",
       "       'baby arugula', 'asiago', 'shallot', 'capers', 'crostini', 'beets',\n",
       "       'gorgonzola', 'red wine', 'herbs', 'milk', 'grain', 'cucumber',\n",
       "       'oil', 'seeds', 'rolls', 'brie', 'cheddar', 'salsa', 'baguette',\n",
       "       'plain greek yogurt', 'lettuce', 'croutons', 'almond', 'liqueur',\n",
       "       'cocktail', 'red snapper', 'avocado', 'tortillas', 'curry',\n",
       "       'broth', 'greek yogurt', 'cumin', 'whipping',\n",
       "       \"morningstar farms chick'n patties\", 'tartar', 'berries', 'cake',\n",
       "       'soda', 'icing', 'mayonnaise', 'spray', 'glaze',\n",
       "       'colored sprinkles', 'edam', 'english muffin', 'coriander',\n",
       "       'cardamom', 'beer', 'cod', 'vermouth', 'calamari', 'masa harina',\n",
       "       'cherry', 'feta', 'olive', 'gyoza wrappers', 'ketchup', 'shiitake',\n",
       "       'dogs', 'dog bun', 'relish', 'anaheim chile', 'adobo', 'chickpea',\n",
       "       'italian', 'bran', 'white wine', 'dog rolls', 'macaroni', 'cress',\n",
       "       'chips', 'pickle', 'chilli', 'paella', 'chorizo', 'saffron',\n",
       "       'unflavored gelatin', 'orange', 'jam', 'chutney', 'marrow',\n",
       "       'oxtail', 'anise', 'eye round', 'bird chile', 'chile', 'hoisin',\n",
       "       'pizza', 'rib-eye roast', 'chipotle', 'shoulder roast', 'buns',\n",
       "       'dashi', 'radish', 'red food coloring', 'risotto', 'garam masala',\n",
       "       'sashimi', 'mirin', 'scallop', 'cajun', 'greens', 'grits',\n",
       "       'spaghetti', 'pancetta', 'spring roll wrappers', 'strawberries',\n",
       "       'biscuits', 'konbu dashi', 'pie', 'mascarpone', 'brewed espresso',\n",
       "       'frangelico', 'rum', 'lady fingers'], dtype=object)"
      ]
     },
     "execution_count": 14,
     "metadata": {},
     "output_type": "execute_result"
    }
   ],
   "source": [
    "ingredients[ingredients['vegetarian'] == \"\"]['ingredient'].values"
   ]
  },
  {
   "cell_type": "code",
   "execution_count": 15,
   "metadata": {},
   "outputs": [],
   "source": [
    "ingredients.loc[ingredients['vegetarian'] == \"\", 'vegetarian'] = True"
   ]
  },
  {
   "cell_type": "code",
   "execution_count": 16,
   "metadata": {},
   "outputs": [
    {
     "data": {
      "text/plain": [
       "True     203\n",
       "False     24\n",
       "Name: vegetarian, dtype: int64"
      ]
     },
     "execution_count": 16,
     "metadata": {},
     "output_type": "execute_result"
    }
   ],
   "source": [
    "ingredients['vegetarian'].value_counts()"
   ]
  },
  {
   "cell_type": "code",
   "execution_count": 17,
   "metadata": {},
   "outputs": [],
   "source": [
    "# non_vegetarian_df = [[ingredient, False] for ingredient in non_vegetarian_ingredients]\n",
    "# non_vegetarian_df = pd.DataFrame(columns = ingredients.columns, data = non_vegetarian_df)\n",
    "# ingredients = pd.concat([ingredients, non_vegetarian_df])"
   ]
  },
  {
   "cell_type": "code",
   "execution_count": 18,
   "metadata": {},
   "outputs": [
    {
     "data": {
      "text/html": [
       "<div>\n",
       "<style scoped>\n",
       "    .dataframe tbody tr th:only-of-type {\n",
       "        vertical-align: middle;\n",
       "    }\n",
       "\n",
       "    .dataframe tbody tr th {\n",
       "        vertical-align: top;\n",
       "    }\n",
       "\n",
       "    .dataframe thead th {\n",
       "        text-align: right;\n",
       "    }\n",
       "</style>\n",
       "<table border=\"1\" class=\"dataframe\">\n",
       "  <thead>\n",
       "    <tr style=\"text-align: right;\">\n",
       "      <th></th>\n",
       "      <th>ingredient</th>\n",
       "      <th>vegetarian</th>\n",
       "    </tr>\n",
       "  </thead>\n",
       "  <tbody>\n",
       "    <tr>\n",
       "      <th>0</th>\n",
       "      <td>butter</td>\n",
       "      <td>True</td>\n",
       "    </tr>\n",
       "    <tr>\n",
       "      <th>1</th>\n",
       "      <td>flour</td>\n",
       "      <td>True</td>\n",
       "    </tr>\n",
       "    <tr>\n",
       "      <th>2</th>\n",
       "      <td>sugar</td>\n",
       "      <td>True</td>\n",
       "    </tr>\n",
       "    <tr>\n",
       "      <th>3</th>\n",
       "      <td>brown sugar</td>\n",
       "      <td>True</td>\n",
       "    </tr>\n",
       "    <tr>\n",
       "      <th>4</th>\n",
       "      <td>apple</td>\n",
       "      <td>True</td>\n",
       "    </tr>\n",
       "    <tr>\n",
       "      <th>...</th>\n",
       "      <td>...</td>\n",
       "      <td>...</td>\n",
       "    </tr>\n",
       "    <tr>\n",
       "      <th>222</th>\n",
       "      <td>brewed espresso</td>\n",
       "      <td>True</td>\n",
       "    </tr>\n",
       "    <tr>\n",
       "      <th>223</th>\n",
       "      <td>frangelico</td>\n",
       "      <td>True</td>\n",
       "    </tr>\n",
       "    <tr>\n",
       "      <th>224</th>\n",
       "      <td>rum</td>\n",
       "      <td>True</td>\n",
       "    </tr>\n",
       "    <tr>\n",
       "      <th>225</th>\n",
       "      <td>lady fingers</td>\n",
       "      <td>True</td>\n",
       "    </tr>\n",
       "    <tr>\n",
       "      <th>226</th>\n",
       "      <td>sushi grade tuna</td>\n",
       "      <td>False</td>\n",
       "    </tr>\n",
       "  </tbody>\n",
       "</table>\n",
       "<p>227 rows × 2 columns</p>\n",
       "</div>"
      ],
      "text/plain": [
       "           ingredient vegetarian\n",
       "0              butter       True\n",
       "1               flour       True\n",
       "2               sugar       True\n",
       "3         brown sugar       True\n",
       "4               apple       True\n",
       "..                ...        ...\n",
       "222   brewed espresso       True\n",
       "223        frangelico       True\n",
       "224               rum       True\n",
       "225      lady fingers       True\n",
       "226  sushi grade tuna      False\n",
       "\n",
       "[227 rows x 2 columns]"
      ]
     },
     "execution_count": 18,
     "metadata": {},
     "output_type": "execute_result"
    }
   ],
   "source": [
    "ingredients"
   ]
  },
  {
   "cell_type": "code",
   "execution_count": 19,
   "metadata": {},
   "outputs": [],
   "source": [
    "ingredients.to_csv('ingredients_labeled.csv', header=True, index=False)"
   ]
  }
 ],
 "metadata": {
  "kernelspec": {
   "display_name": "Python 3",
   "language": "python",
   "name": "python3"
  },
  "language_info": {
   "codemirror_mode": {
    "name": "ipython",
    "version": 3
   },
   "file_extension": ".py",
   "mimetype": "text/x-python",
   "name": "python",
   "nbconvert_exporter": "python",
   "pygments_lexer": "ipython3",
   "version": "3.7.7"
  },
  "pycharm": {
   "stem_cell": {
    "cell_type": "raw",
    "metadata": {
     "collapsed": false
    },
    "source": []
   }
  }
 },
 "nbformat": 4,
 "nbformat_minor": 4
}
