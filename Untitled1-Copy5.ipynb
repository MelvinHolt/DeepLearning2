{
 "cells": [
  {
   "cell_type": "markdown",
   "metadata": {},
   "source": [
    "# Main"
   ]
  },
  {
   "cell_type": "code",
   "execution_count": 1,
   "metadata": {},
   "outputs": [
    {
     "name": "stderr",
     "output_type": "stream",
     "text": [
      "Using TensorFlow backend.\n"
     ]
    }
   ],
   "source": [
    "import pandas as pd\n",
    "from keras.preprocessing.image import ImageDataGenerator\n",
    "from keras.models import Model, Sequential\n",
    "from keras.layers import Input, Dense, Conv2D, MaxPooling2D, Flatten, Activation, Dropout, Lambda\n",
    "from keras.optimizers import Adam\n",
    "from keras.callbacks import ReduceLROnPlateau, ModelCheckpoint\n",
    "import matplotlib.pyplot as plt\n",
    "import numpy as np\n",
    "import os\n",
    "\n",
    "from sklearn.metrics import confusion_matrix, classification_report, accuracy_score\n",
    "import seaborn as sn\n",
    "\n",
    "import keras_metrics\n",
    "import tensorflow as tf\n",
    "\n",
    "from keras.applications.resnet50 import ResNet50\n",
    "from keras.applications.inception_v3 import InceptionV3"
   ]
  },
  {
   "cell_type": "markdown",
   "metadata": {},
   "source": [
    "## Parameters"
   ]
  },
  {
   "cell_type": "code",
   "execution_count": 2,
   "metadata": {},
   "outputs": [],
   "source": [
    "classes = pd.read_csv('ingredients_labeled.csv')\n",
    "CLASSES = classes['ingredient'].dropna().values.tolist()"
   ]
  },
  {
   "cell_type": "code",
   "execution_count": 3,
   "metadata": {},
   "outputs": [],
   "source": [
    "MODEL = 'inceptiasdf'\n",
    "\n",
    "INPUT_SHAPE = (100, 100, 3)\n",
    "NUM_CLASSES =  len(CLASSES)\n",
    "LEARNING_RATE = 0.001\n",
    "PATIENCE = 3\n",
    "VERBOSE = 1\n",
    "LEARNING_RATE_REDUCTION_FACTOR = 0.5\n",
    "MIN_LEARNING_RATE = 0.00001\n",
    "\n",
    "EPOCHS = 25\n",
    "BATCH_SIZE = 50\n",
    "\n",
    "MODEL_NAME = 'multilabel_fruit'\n",
    "OUTPUT_DIR = 'output'\n",
    "SEED = 42\n",
    "\n",
    "MODEL_OUT_DIR = os.path.join(OUTPUT_DIR, MODEL_NAME)\n",
    "                            \n",
    "if not os.path.exists(MODEL_OUT_DIR):\n",
    "    os.makedirs(MODEL_OUT_DIR)"
   ]
  },
  {
   "cell_type": "markdown",
   "metadata": {},
   "source": [
    "## Load Data"
   ]
  },
  {
   "cell_type": "code",
   "execution_count": 4,
   "metadata": {},
   "outputs": [],
   "source": [
    "train_labeled = pd.read_csv('data/train_labeled.csv').dropna()\n",
    "test_labeled = pd.read_csv('data/test_labeled.csv').dropna()\n",
    "val_labeled = pd.read_csv('data/val_labeled.csv').dropna()"
   ]
  },
  {
   "cell_type": "code",
   "execution_count": 5,
   "metadata": {},
   "outputs": [],
   "source": [
    "train_labeled['ingredients_cleaned'] = train_labeled['ingredients_cleaned'].apply(lambda x:x.split(\",\"))\n",
    "test_labeled['ingredients_cleaned'] = test_labeled['ingredients_cleaned'].apply(lambda x:x.split(\",\"))\n",
    "val_labeled['ingredients_cleaned'] = val_labeled['ingredients_cleaned'].apply(lambda x:x.split(\",\"))"
   ]
  },
  {
   "cell_type": "markdown",
   "metadata": {},
   "source": [
    "## Create the model"
   ]
  },
  {
   "cell_type": "code",
   "execution_count": 6,
   "metadata": {},
   "outputs": [],
   "source": [
    "def image_process(x):\n",
    "    import tensorflow as tf\n",
    "    hsv = tf.image.rgb_to_hsv(x)\n",
    "    gray = tf.image.rgb_to_grayscale(x)\n",
    "    rez = tf.concat([hsv, gray], axis=-1)\n",
    "    return rez\n",
    "\n",
    "def network(input_shape, num_classes):\n",
    "    img_input = Input(shape=input_shape, name='data')\n",
    "    x = Lambda(image_process)(img_input)\n",
    "    x = Conv2D(16, (5, 5), strides=(1, 1), padding='same', name='conv1')(x)\n",
    "    x = Activation('relu', name='conv1_relu')(x)\n",
    "    x = MaxPooling2D((2, 2), strides=(2, 2), padding='valid', name='pool1')(x)\n",
    "    x = Conv2D(32, (5, 5), strides=(1, 1), padding='same', name='conv2')(x)\n",
    "    x = Activation('relu', name='conv2_relu')(x)\n",
    "    x = MaxPooling2D((2, 2), strides=(2, 2), padding='valid', name='pool2')(x)\n",
    "    x = Conv2D(64, (5, 5), strides=(1, 1), padding='same', name='conv3')(x)\n",
    "    x = Activation('relu', name='conv3_relu')(x)\n",
    "    x = MaxPooling2D((2, 2), strides=(2, 2), padding='valid', name='pool3')(x)\n",
    "    x = Conv2D(128, (5, 5), strides=(1, 1), padding='same', name='conv4')(x)\n",
    "    x = Activation('relu', name='conv4_relu')(x)\n",
    "    x = MaxPooling2D((2, 2), strides=(2, 2), padding='valid', name='pool4')(x)\n",
    "    x = Flatten()(x)\n",
    "    x = Dense(1024, activation='relu', name='fcl1')(x)\n",
    "    x = Dropout(0.2)(x)\n",
    "    x = Dense(128, activation='relu', name='fcl2')(x)\n",
    "    x = Dropout(0.2)(x)\n",
    "    out = Dense(num_classes, activation='sigmoid', name='predictions')(x)\n",
    "    rez = Model(inputs=img_input, outputs=out)\n",
    "    return rez\n",
    "\n",
    "def resnet(input_shape, num_classes):\n",
    "    resnet = ResNet50(weights='imagenet',\n",
    "                       input_shape=input_shape,\n",
    "                   include_top=False)\n",
    "    image = resnet.get_layer(index=0).output\n",
    "    output = resnet.get_layer(index=-1).output\n",
    "    output = Flatten()(output)\n",
    "    output = Dense(num_classes, activation='sigmoid', name='predictions')(output)\n",
    "    \n",
    "    resnet = Model(inputs = image, outputs = output)\n",
    "    return resnet\n",
    "\n",
    "def inception(input_shape, num_classes):\n",
    "    inception = InceptionV3(weights='imagenet',\n",
    "                           input_shape=input_shape,\n",
    "                           include_top=False)\n",
    "    \n",
    "    image = inception.get_layer(index=0).output\n",
    "    output = inception.get_layer(index=-1).output\n",
    "    output = Flatten()(output)\n",
    "    output = Dense(num_classes, activation='sigmoid', name='predictions')(output)\n",
    "    \n",
    "    inception = Model(inputs = image, outputs = output)\n",
    "    return inception\n",
    "\n",
    "if MODEL == 'inceptionv3':\n",
    "    model = inception(input_shape=INPUT_SHAPE, num_classes=NUM_CLASSES)\n",
    "elif MODEL == 'resnet':\n",
    "    model = resnet(input_shape=INPUT_SHAPE, num_classes=NUM_CLASSES)\n",
    "else:\n",
    "    model = network(input_shape=INPUT_SHAPE, num_classes=NUM_CLASSES)\n"
   ]
  },
  {
   "cell_type": "markdown",
   "metadata": {},
   "source": [
    "## Creating the Data Generators"
   ]
  },
  {
   "cell_type": "code",
   "execution_count": 7,
   "metadata": {},
   "outputs": [
    {
     "name": "stdout",
     "output_type": "stream",
     "text": [
      "Found 3845 validated image filenames belonging to 227 classes.\n"
     ]
    }
   ],
   "source": [
    "datagen = ImageDataGenerator(\n",
    "        width_shift_range=0.0,\n",
    "        height_shift_range=0.0,\n",
    "        zoom_range=0.0,\n",
    "        horizontal_flip=True,\n",
    "        vertical_flip=True,  # randomly flip images\n",
    ")\n",
    "\n",
    "\n",
    "train_generator = datagen.flow_from_dataframe(\n",
    "    dataframe=train_labeled,\n",
    "    directory=\"./Recipes5k/images/\",\n",
    "    x_col=\"url\",\n",
    "    y_col=\"ingredients_cleaned\",\n",
    "    batch_size=32,\n",
    "    seed=SEED,\n",
    "    shuffle=True,\n",
    "    class_mode=\"categorical\",\n",
    "    classes=CLASSES,\n",
    "    target_size=(100,100)\n",
    ")"
   ]
  },
  {
   "cell_type": "code",
   "execution_count": 8,
   "metadata": {},
   "outputs": [
    {
     "name": "stdout",
     "output_type": "stream",
     "text": [
      "Found 782 validated image filenames belonging to 227 classes.\n"
     ]
    }
   ],
   "source": [
    "test_datagen = ImageDataGenerator()\n",
    "\n",
    "\n",
    "test_generator = test_datagen.flow_from_dataframe(\n",
    "    dataframe=test_labeled,\n",
    "    directory=\"./Recipes5k/images/\",\n",
    "    x_col=\"url\",\n",
    "    y_col=\"ingredients_cleaned\",\n",
    "    batch_size=1,\n",
    "    seed=SEED,\n",
    "    shuffle=False,\n",
    "    class_mode=\"categorical\",\n",
    "    classes=CLASSES,\n",
    "    target_size=(100,100)\n",
    ")"
   ]
  },
  {
   "cell_type": "code",
   "execution_count": 9,
   "metadata": {},
   "outputs": [],
   "source": [
    "val_datagen = ImageDataGenerator(\n",
    "        width_shift_range=0.0,\n",
    "        height_shift_range=0.0,\n",
    "        zoom_range=0.0,\n",
    "        horizontal_flip=True,\n",
    "        vertical_flip=True,  # randomly flip images\n",
    ")"
   ]
  },
  {
   "cell_type": "code",
   "execution_count": 10,
   "metadata": {},
   "outputs": [
    {
     "name": "stdout",
     "output_type": "stream",
     "text": [
      "Found 634 validated image filenames belonging to 227 classes.\n"
     ]
    }
   ],
   "source": [
    "val_generator = val_datagen.flow_from_dataframe(\n",
    "    dataframe=val_labeled,\n",
    "    directory=\"./Recipes5k/images/\",\n",
    "    x_col=\"url\",\n",
    "    y_col=\"ingredients_cleaned\",\n",
    "    batch_size=32,\n",
    "    seed=SEED,\n",
    "    shuffle=False,\n",
    "    class_mode=\"categorical\",\n",
    "    classes=CLASSES,\n",
    "    target_size=(100,100)\n",
    ")"
   ]
  },
  {
   "cell_type": "code",
   "execution_count": 11,
   "metadata": {
    "scrolled": true
   },
   "outputs": [
    {
     "name": "stdout",
     "output_type": "stream",
     "text": [
      "Epoch 1/25\n",
      "77/77 [==============================] - 18s 233ms/step - loss: 0.3182 - accuracy: 0.8899 - val_loss: 0.1306 - val_accuracy: 0.9626\n",
      "\n",
      "Epoch 00001: val_accuracy improved from -inf to 0.96258, saving model to output\\multilabel_fruit/model.h5\n",
      "Epoch 2/25\n",
      "77/77 [==============================] - 20s 263ms/step - loss: 0.1334 - accuracy: 0.9619 - val_loss: 0.1139 - val_accuracy: 0.9628\n",
      "\n",
      "Epoch 00002: val_accuracy improved from 0.96258 to 0.96279, saving model to output\\multilabel_fruit/model.h5\n",
      "Epoch 3/25\n",
      "77/77 [==============================] - 20s 257ms/step - loss: 0.1304 - accuracy: 0.9620 - val_loss: 0.1194 - val_accuracy: 0.9640\n",
      "\n",
      "Epoch 00003: val_accuracy improved from 0.96279 to 0.96404, saving model to output\\multilabel_fruit/model.h5\n",
      "Epoch 4/25\n",
      "77/77 [==============================] - 20s 259ms/step - loss: 0.1284 - accuracy: 0.9625 - val_loss: 0.1141 - val_accuracy: 0.9635\n",
      "\n",
      "Epoch 00004: val_accuracy did not improve from 0.96404\n",
      "Epoch 5/25\n",
      "77/77 [==============================] - 18s 237ms/step - loss: 0.1251 - accuracy: 0.9635 - val_loss: 0.1253 - val_accuracy: 0.9621\n",
      "\n",
      "Epoch 00005: ReduceLROnPlateau reducing learning rate to 0.0005000000237487257.\n",
      "\n",
      "Epoch 00005: val_accuracy did not improve from 0.96404\n",
      "Epoch 6/25\n",
      "77/77 [==============================] - 27s 353ms/step - loss: 0.1250 - accuracy: 0.9632 - val_loss: 0.1350 - val_accuracy: 0.9639\n",
      "\n",
      "Epoch 00006: val_accuracy did not improve from 0.96404\n",
      "Epoch 7/25\n",
      "77/77 [==============================] - 18s 237ms/step - loss: 0.1238 - accuracy: 0.9636 - val_loss: 0.1219 - val_accuracy: 0.9636\n",
      "\n",
      "Epoch 00007: val_accuracy did not improve from 0.96404\n",
      "Epoch 8/25\n",
      "77/77 [==============================] - 33s 422ms/step - loss: 0.1247 - accuracy: 0.9632 - val_loss: 0.1310 - val_accuracy: 0.9625\n",
      "\n",
      "Epoch 00008: ReduceLROnPlateau reducing learning rate to 0.0002500000118743628.\n",
      "\n",
      "Epoch 00008: val_accuracy did not improve from 0.96404\n",
      "Epoch 9/25\n",
      "77/77 [==============================] - 18s 237ms/step - loss: 0.1231 - accuracy: 0.9634 - val_loss: 0.1415 - val_accuracy: 0.9641\n",
      "\n",
      "Epoch 00009: val_accuracy improved from 0.96404 to 0.96407, saving model to output\\multilabel_fruit/model.h5\n",
      "Epoch 10/25\n",
      "77/77 [==============================] - 31s 403ms/step - loss: 0.1222 - accuracy: 0.9636 - val_loss: 0.1286 - val_accuracy: 0.9633\n",
      "\n",
      "Epoch 00010: val_accuracy did not improve from 0.96407\n",
      "Epoch 11/25\n",
      "77/77 [==============================] - 21s 273ms/step - loss: 0.1239 - accuracy: 0.9632 - val_loss: 0.1344 - val_accuracy: 0.9628\n",
      "\n",
      "Epoch 00011: ReduceLROnPlateau reducing learning rate to 0.0001250000059371814.\n",
      "\n",
      "Epoch 00011: val_accuracy did not improve from 0.96407\n",
      "Epoch 12/25\n",
      "77/77 [==============================] - 20s 260ms/step - loss: 0.1225 - accuracy: 0.9633 - val_loss: 0.1083 - val_accuracy: 0.9640\n",
      "\n",
      "Epoch 00012: val_accuracy did not improve from 0.96407\n",
      "Epoch 13/25\n",
      "77/77 [==============================] - 21s 271ms/step - loss: 0.1229 - accuracy: 0.9635 - val_loss: 0.1120 - val_accuracy: 0.9634\n",
      "\n",
      "Epoch 00013: val_accuracy did not improve from 0.96407\n",
      "Epoch 14/25\n",
      "77/77 [==============================] - 21s 274ms/step - loss: 0.1226 - accuracy: 0.9634 - val_loss: 0.1159 - val_accuracy: 0.9630\n",
      "\n",
      "Epoch 00014: val_accuracy did not improve from 0.96407\n",
      "Epoch 15/25\n",
      "77/77 [==============================] - 21s 269ms/step - loss: 0.1220 - accuracy: 0.9636 - val_loss: 0.1225 - val_accuracy: 0.9635\n",
      "\n",
      "Epoch 00015: ReduceLROnPlateau reducing learning rate to 6.25000029685907e-05.\n",
      "\n",
      "Epoch 00015: val_accuracy did not improve from 0.96407\n",
      "Epoch 16/25\n",
      "77/77 [==============================] - 21s 267ms/step - loss: 0.1222 - accuracy: 0.9634 - val_loss: 0.1221 - val_accuracy: 0.9629\n",
      "\n",
      "Epoch 00016: val_accuracy did not improve from 0.96407\n",
      "Epoch 17/25\n",
      "77/77 [==============================] - 21s 273ms/step - loss: 0.1217 - accuracy: 0.9636 - val_loss: 0.1449 - val_accuracy: 0.9634\n",
      "\n",
      "Epoch 00017: val_accuracy did not improve from 0.96407\n",
      "Epoch 18/25\n",
      "77/77 [==============================] - 21s 270ms/step - loss: 0.1222 - accuracy: 0.9637 - val_loss: 0.1066 - val_accuracy: 0.9636\n",
      "\n",
      "Epoch 00018: val_accuracy did not improve from 0.96407\n",
      "Epoch 19/25\n",
      "77/77 [==============================] - 20s 265ms/step - loss: 0.1231 - accuracy: 0.9630 - val_loss: 0.0984 - val_accuracy: 0.9631\n",
      "\n",
      "Epoch 00019: val_accuracy did not improve from 0.96407\n",
      "Epoch 20/25\n",
      "77/77 [==============================] - 21s 267ms/step - loss: 0.1218 - accuracy: 0.9634 - val_loss: 0.0959 - val_accuracy: 0.9640\n",
      "\n",
      "Epoch 00020: val_accuracy did not improve from 0.96407\n",
      "Epoch 21/25\n",
      "77/77 [==============================] - 21s 272ms/step - loss: 0.1229 - accuracy: 0.9635 - val_loss: 0.1278 - val_accuracy: 0.9626\n",
      "\n",
      "Epoch 00021: val_accuracy did not improve from 0.96407\n",
      "Epoch 22/25\n",
      "77/77 [==============================] - 21s 269ms/step - loss: 0.1214 - accuracy: 0.9635 - val_loss: 0.1122 - val_accuracy: 0.9628\n",
      "\n",
      "Epoch 00022: val_accuracy did not improve from 0.96407\n",
      "Epoch 23/25\n",
      "77/77 [==============================] - 20s 265ms/step - loss: 0.1201 - accuracy: 0.9641 - val_loss: 0.1133 - val_accuracy: 0.9640\n",
      "\n",
      "Epoch 00023: ReduceLROnPlateau reducing learning rate to 3.125000148429535e-05.\n",
      "\n",
      "Epoch 00023: val_accuracy did not improve from 0.96407\n",
      "Epoch 24/25\n",
      "77/77 [==============================] - 22s 280ms/step - loss: 0.1236 - accuracy: 0.9629 - val_loss: 0.1111 - val_accuracy: 0.9635\n",
      "\n",
      "Epoch 00024: val_accuracy did not improve from 0.96407\n",
      "Epoch 25/25\n",
      "77/77 [==============================] - 21s 270ms/step - loss: 0.1222 - accuracy: 0.9634 - val_loss: 0.1250 - val_accuracy: 0.9621\n",
      "\n",
      "Epoch 00025: val_accuracy did not improve from 0.96407\n"
     ]
    }
   ],
   "source": [
    "opt = Adam(lr = LEARNING_RATE)\n",
    "model.compile(optimizer = opt, loss = 'binary_crossentropy', metrics = ['accuracy'])\n",
    "learning_rate_reduction = ReduceLROnPlateau(\n",
    "                    monitor='val_loss', \n",
    "                    patience=PATIENCE, verbose=VERBOSE, \n",
    "                    factor=LEARNING_RATE_REDUCTION_FACTOR, \n",
    "                    min_lr=MIN_LEARNING_RATE\n",
    ")\n",
    "save_model = ModelCheckpoint(filepath=MODEL_OUT_DIR + \"/model.h5\", monitor='val_accuracy', verbose=VERBOSE, \n",
    "                             save_best_only=True, save_weights_only=False, mode='max', period=1)\n",
    "\n",
    "history = model.fit_generator(generator=train_generator,\n",
    "                                  epochs=EPOCHS,\n",
    "                                  steps_per_epoch=(train_generator.n // BATCH_SIZE) + 1, \n",
    "                                  verbose=VERBOSE,\n",
    "                                  validation_data=val_generator,\n",
    "                                  validation_steps=(val_generator.n // BATCH_SIZE) + 1,\n",
    "                                  callbacks=[learning_rate_reduction, save_model]\n",
    "                             )\n",
    "# weights = model.load_weights(MODEL_OUT_DIR + \"/model.h5\")\n",
    "# weights"
   ]
  },
  {
   "cell_type": "code",
   "execution_count": 12,
   "metadata": {},
   "outputs": [
    {
     "data": {
      "image/png": "[encoded data removed]",
      "text/plain": [
       "<Figure size 1080x360 with 2 Axes>"
      ]
     },
     "metadata": {
      "needs_background": "light"
     },
     "output_type": "display_data"
    }
   ],
   "source": [
    "def plot_model_history(model_history, out_path=\"\"):\n",
    "    fig, axs = plt.subplots(1, 2, figsize=(15, 5))\n",
    "    sn.set(font_scale=1.6)#for label size\n",
    "    # summarize history for accuracy\n",
    "    axs[0].plot(range(1, len(model_history.history['accuracy']) + 1), model_history.history['accuracy'])\n",
    "    axs[0].plot(range(1, len(model_history.history['val_accuracy']) + 1), model_history.history['val_accuracy'])\n",
    "    axs[0].set_title('Model Accuracy')\n",
    "    axs[0].set_ylabel('Accuracy')\n",
    "    axs[0].set_xlabel('Epoch')\n",
    "    axs[0].legend(['train', 'val'], loc='best')\n",
    "    # summarize history for loss\n",
    "    axs[1].plot(range(1, len(model_history.history['loss']) + 1), model_history.history['loss'])\n",
    "    axs[1].plot(range(1, len(model_history.history['val_loss']) + 1), model_history.history['val_loss'])\n",
    "    axs[1].set_title('Model Loss')\n",
    "    axs[1].set_ylabel('Loss')\n",
    "    axs[1].set_xlabel('Epoch')\n",
    "    axs[1].legend(['train', 'val'], loc='best')\n",
    "    # save the graph in a file called \"acc_loss.png\" to be available for later; the model_name is provided when creating and training a model\n",
    "    if out_path:\n",
    "        plt.savefig(out_path + \"/acc_loss.png\")\n",
    "    plt.show()\n",
    "\n",
    "plot_model_history(history, out_path=MODEL_OUT_DIR)"
   ]
  },
  {
   "cell_type": "code",
   "execution_count": 13,
   "metadata": {},
   "outputs": [
    {
     "name": "stdout",
     "output_type": "stream",
     "text": [
      "13/13 [==============================] - 1s 88ms/step\n",
      "782/782 [==============================] - 5s 6ms/step\n",
      "Validation: accuracy = 0.962576  ;  loss_v = 0.129676\n",
      "Test: accuracy = 0.963681  ;  loss_v = 0.093104\n"
     ]
    }
   ],
   "source": [
    "# model.load_weights(MODEL_OUT_DIR + \"/model.h5\")\n",
    "\n",
    "val_generator.reset()\n",
    "test_generator.reset()\n",
    "loss_v, accuracy_v = model.evaluate_generator(val_generator, steps=(val_generator.n // BATCH_SIZE) + 1, verbose=VERBOSE)\n",
    "loss, accuracy = model.evaluate_generator(test_generator, steps=test_generator.n, verbose=VERBOSE)\n",
    "print(\"Validation: accuracy = %f  ;  loss_v = %f\" % (accuracy_v, loss_v))\n",
    "print(\"Test: accuracy = %f  ;  loss_v = %f\" % (accuracy, loss))\n",
    "\n",
    "# plot_model_history(history, out_path=MODEL_OUT_DIR)\n",
    "# test_generator.reset()\n",
    "\n",
    "# y_true = test_generator.classes\n",
    "# plot_confusion_matrix(y_true, y_pred.argmax(axis=-1), labels, out_path=MODEL_OUT_DIR)\n",
    "# class_report = classification_report(y_true, y_pred.argmax(axis=-1), target_names=labels)\n",
    "\n",
    "# with open(MODEL_OUT_DIR + \"/classification_report.txt\", \"w\") as text_file:\n",
    "#     text_file.write(\"%s\" % class_report)\n",
    "# print(class_report)"
   ]
  },
  {
   "cell_type": "code",
   "execution_count": 14,
   "metadata": {},
   "outputs": [],
   "source": [
    "model.load_weights(MODEL_OUT_DIR + \"/model.h5\")"
   ]
  },
  {
   "cell_type": "code",
   "execution_count": 15,
   "metadata": {},
   "outputs": [],
   "source": [
    "def decode_predictions(predictions, min_val = 0.5):\n",
    "    \"\"\" Decodes the predictions from the output sigmoid function\"\"\"\n",
    "    positive_predictions = []\n",
    "    for row in predictions:\n",
    "        positive_pred = np.argwhere(row > min_val)\n",
    "        if len(positive_pred):\n",
    "            positive_pred = np.concatenate(positive_pred)\n",
    "        positive_predictions.append(positive_pred.tolist())\n",
    "    return positive_predictions\n",
    "\n",
    "\n",
    "def get_non_vegetarian_ingredients():\n",
    "    ingredients_labeled = pd.read_csv('ingredients_labeled.csv', index_col='ingredient')\n",
    "    \n",
    "    ingredients_labeled = ingredients_labeled.loc[~ingredients_labeled.index.duplicated(keep='first')]\n",
    "    ingredients_labeled['non-vegetarian'] = ~ingredients_labeled['vegetarian']\n",
    "    res = {value: ingredients_labeled.loc[key]['non-vegetarian'] \n",
    "                                  for key, value in test_generator.class_indices.items()}\n",
    "    return res\n",
    "    \n",
    "\n",
    "def predict_vegetarian(positive_predictions):\n",
    "    non_vegetarian_ingredients = get_non_vegetarian_ingredients()\n",
    "    binary_predictions = []\n",
    "    for prediction in positive_predictions:\n",
    "        binary = False\n",
    "        for pred in prediction:\n",
    "            if non_vegetarian_ingredients[pred]:\n",
    "                binary = True\n",
    "        binary_predictions.append(binary)\n",
    "    return binary_predictions"
   ]
  },
  {
   "cell_type": "code",
   "execution_count": 16,
   "metadata": {},
   "outputs": [
    {
     "name": "stdout",
     "output_type": "stream",
     "text": [
      "782/782 [==============================] - 5s 6ms/step\n"
     ]
    }
   ],
   "source": [
    "y_pred = model.predict_generator(test_generator, steps=test_generator.n, verbose=VERBOSE)\n",
    "positive_pred = decode_predictions(y_pred)\n",
    "binary_pred = predict_vegetarian(positive_pred)"
   ]
  },
  {
   "cell_type": "code",
   "execution_count": 17,
   "metadata": {},
   "outputs": [],
   "source": [
    "test_labeled['bool_label'] = test_labeled['label'] != 'Vegetarian'\n",
    "binary_true = test_labeled['bool_label']"
   ]
  },
  {
   "cell_type": "code",
   "execution_count": 18,
   "metadata": {},
   "outputs": [
    {
     "data": {
      "text/plain": [
       "array([[462,   0],\n",
       "       [320,   0]], dtype=int64)"
      ]
     },
     "execution_count": 18,
     "metadata": {},
     "output_type": "execute_result"
    }
   ],
   "source": [
    "confusion_matrix(binary_true, binary_pred)"
   ]
  },
  {
   "cell_type": "code",
   "execution_count": 19,
   "metadata": {},
   "outputs": [
    {
     "data": {
      "text/plain": [
       "0.5907928388746803"
      ]
     },
     "execution_count": 19,
     "metadata": {},
     "output_type": "execute_result"
    }
   ],
   "source": [
    "accuracy_score(binary_true, binary_pred)"
   ]
  },
  {
   "cell_type": "code",
   "execution_count": 20,
   "metadata": {},
   "outputs": [
    {
     "data": {
      "text/plain": [
       "Vegetarian        462\n",
       "Vegetarian-Not    320\n",
       "Name: label, dtype: int64"
      ]
     },
     "execution_count": 20,
     "metadata": {},
     "output_type": "execute_result"
    }
   ],
   "source": [
    "test_labeled['label'].value_counts()"
   ]
  },
  {
   "cell_type": "code",
   "execution_count": 21,
   "metadata": {},
   "outputs": [
    {
     "data": {
      "text/plain": [
       "0.5833333333333334"
      ]
     },
     "execution_count": 21,
     "metadata": {},
     "output_type": "execute_result"
    }
   ],
   "source": [
    "462/792"
   ]
  },
  {
   "cell_type": "code",
   "execution_count": 22,
   "metadata": {},
   "outputs": [],
   "source": [
    "def plot_confusion_matrix(y_true, y_pred, classes, out_path=\"\"):\n",
    "    cm = confusion_matrix(y_true, y_pred)\n",
    "    df_cm = pd.DataFrame(cm, index=[i for i in classes], columns=[i for i in classes])\n",
    "    df_cm.index.name = 'Actual'\n",
    "    df_cm.columns.name = 'Predicted'\n",
    "    plt.figure(figsize=(40, 40))\n",
    "    sn.set(font_scale=3.5)#for label size\n",
    "    ax = sn.heatmap(df_cm, cmap=\"Blues\", annot=True, cbar=False, fmt='d', annot_kws={\"size\": 50})\n",
    "    if out_path:\n",
    "        plt.savefig(out_path + \"/confusion_matrix.png\")  # as in the plot_model_history, the matrix is saved in a file called \"model_name_confusion_matrix.png\"\n",
    "    return ax"
   ]
  },
  {
   "cell_type": "code",
   "execution_count": 23,
   "metadata": {},
   "outputs": [],
   "source": [
    "labels = ['Vegetarian', 'Not-Vegetarian']"
   ]
  },
  {
   "cell_type": "code",
   "execution_count": 24,
   "metadata": {},
   "outputs": [
    {
     "data": {
      "text/plain": [
       "<matplotlib.axes._subplots.AxesSubplot at 0x20c95782288>"
      ]
     },
     "execution_count": 24,
     "metadata": {},
     "output_type": "execute_result"
    },
    {
     "data": {
      "image/png": "[encoded data removed]",
      "text/plain": [
       "<Figure size 2880x2880 with 1 Axes>"
      ]
     },
     "metadata": {},
     "output_type": "display_data"
    }
   ],
   "source": [
    "plot_confusion_matrix(binary_true, binary_pred, labels, out_path=MODEL_OUT_DIR)"
   ]
  },
  {
   "cell_type": "code",
   "execution_count": 25,
   "metadata": {},
   "outputs": [
    {
     "name": "stdout",
     "output_type": "stream",
     "text": [
      "                precision    recall  f1-score   support\n",
      "\n",
      "    Vegetarian       0.59      1.00      0.74       462\n",
      "Not-Vegetarian       0.00      0.00      0.00       320\n",
      "\n",
      "      accuracy                           0.59       782\n",
      "     macro avg       0.30      0.50      0.37       782\n",
      "  weighted avg       0.35      0.59      0.44       782\n",
      "\n"
     ]
    },
    {
     "name": "stderr",
     "output_type": "stream",
     "text": [
      "C:\\Users\\melvi\\Anaconda3\\lib\\site-packages\\sklearn\\metrics\\_classification.py:1272: UndefinedMetricWarning: Precision and F-score are ill-defined and being set to 0.0 in labels with no predicted samples. Use `zero_division` parameter to control this behavior.\n",
      "  _warn_prf(average, modifier, msg_start, len(result))\n"
     ]
    }
   ],
   "source": [
    "class_report = classification_report(binary_true, binary_pred, target_names=labels)\n",
    "\n",
    "with open(MODEL_OUT_DIR + \"/classification_report.txt\", \"w\") as text_file:\n",
    "    text_file.write(\"%s\" % class_report)\n",
    "print(class_report)"
   ]
  }
 ],
 "metadata": {
  "kernelspec": {
   "display_name": "Python 3",
   "language": "python",
   "name": "python3"
  },
  "language_info": {
   "codemirror_mode": {
    "name": "ipython",
    "version": 3
   },
   "file_extension": ".py",
   "mimetype": "text/x-python",
   "name": "python",
   "nbconvert_exporter": "python",
   "pygments_lexer": "ipython3",
   "version": "3.7.7"
  }
 },
 "nbformat": 4,
 "nbformat_minor": 4
}
