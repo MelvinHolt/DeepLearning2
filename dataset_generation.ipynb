{
 "cells": [
  {
   "cell_type": "code",
   "execution_count": 3,
   "metadata": {},
   "outputs": [],
   "source": [
    "import pandas as pd\n",
    "import numpy as np\n",
    "import os \n",
    "\n",
    "from PIL import Image\n",
    "from PIL import ImageFilter\n",
    "from sklearn.preprocessing import LabelEncoder\n",
    "\n",
    "IMAGE_PATH = 'Recipes5k/images/'\n",
    "PATH_TO_RECIPES = 'Recipes5k/annotations/'\n",
    "recipes = pd.read_csv('{}/ingredients_simplified_Recipes5k.txt'.format(PATH_TO_RECIPES), sep=\"\\n\", header=None, names=['ingredients'])"
   ]
  },
  {
   "cell_type": "code",
   "execution_count": 29,
   "metadata": {},
   "outputs": [],
   "source": [
    "kaas = pd.read_csv('Ingredients101/Annotations/ingredients_simplified.txt', sep=\"\\n\", header=None)"
   ]
  },
  {
   "cell_type": "code",
   "execution_count": 30,
   "metadata": {},
   "outputs": [
    {
     "data": {
      "text/html": [
       "<div>\n",
       "<style scoped>\n",
       "    .dataframe tbody tr th:only-of-type {\n",
       "        vertical-align: middle;\n",
       "    }\n",
       "\n",
       "    .dataframe tbody tr th {\n",
       "        vertical-align: top;\n",
       "    }\n",
       "\n",
       "    .dataframe thead th {\n",
       "        text-align: right;\n",
       "    }\n",
       "</style>\n",
       "<table border=\"1\" class=\"dataframe\">\n",
       "  <thead>\n",
       "    <tr style=\"text-align: right;\">\n",
       "      <th></th>\n",
       "      <th>0</th>\n",
       "      <th>ingredients</th>\n",
       "    </tr>\n",
       "  </thead>\n",
       "  <tbody>\n",
       "    <tr>\n",
       "      <th>0</th>\n",
       "      <td>butter,flour,sugar,brown sugar,apple,cinnamon,nut</td>\n",
       "      <td>[butter, flour, sugar, brown sugar, apple, cin...</td>\n",
       "    </tr>\n",
       "    <tr>\n",
       "      <th>1</th>\n",
       "      <td>baby back ribs,apple,salt,mustard,brown sugar,...</td>\n",
       "      <td>[baby back ribs, apple, salt, mustard, brown s...</td>\n",
       "    </tr>\n",
       "    <tr>\n",
       "      <th>2</th>\n",
       "      <td>nut,cinnamon,bread,butter,phyllo dough,sugar,h...</td>\n",
       "      <td>[nut, cinnamon, bread, butter, phyllo dough, s...</td>\n",
       "    </tr>\n",
       "    <tr>\n",
       "      <th>3</th>\n",
       "      <td>beef,lemon,gin,salt,pepper,baby arugula,asiago</td>\n",
       "      <td>[beef, lemon, gin, salt, pepper, baby arugula,...</td>\n",
       "    </tr>\n",
       "    <tr>\n",
       "      <th>4</th>\n",
       "      <td>fat,steak,gin,shallot,parsley,capers,worcester...</td>\n",
       "      <td>[fat, steak, gin, shallot, parsley, capers, wo...</td>\n",
       "    </tr>\n",
       "    <tr>\n",
       "      <th>...</th>\n",
       "      <td>...</td>\n",
       "      <td>...</td>\n",
       "    </tr>\n",
       "    <tr>\n",
       "      <th>96</th>\n",
       "      <td>onion,garlic,beef,chili,salt,sugar,corn tortil...</td>\n",
       "      <td>[onion, garlic, beef, chili, salt, sugar, corn...</td>\n",
       "    </tr>\n",
       "    <tr>\n",
       "      <th>97</th>\n",
       "      <td>flour,egg,cold water,salt,konbu dashi,dashi,so...</td>\n",
       "      <td>[flour, egg, cold water, salt, konbu dashi, da...</td>\n",
       "    </tr>\n",
       "    <tr>\n",
       "      <th>98</th>\n",
       "      <td>egg,sugar,mascarpone,brewed espresso,frangelic...</td>\n",
       "      <td>[egg, sugar, mascarpone, brewed espresso, fran...</td>\n",
       "    </tr>\n",
       "    <tr>\n",
       "      <th>99</th>\n",
       "      <td>sushi grade tuna,scallions,tomato,cilantro,gin...</td>\n",
       "      <td>[sushi grade tuna, scallions, tomato, cilantro...</td>\n",
       "    </tr>\n",
       "    <tr>\n",
       "      <th>100</th>\n",
       "      <td>egg,salt,sugar,vanilla,butter,flour,baking,milk</td>\n",
       "      <td>[egg, salt, sugar, vanilla, butter, flour, bak...</td>\n",
       "    </tr>\n",
       "  </tbody>\n",
       "</table>\n",
       "<p>101 rows × 2 columns</p>\n",
       "</div>"
      ],
      "text/plain": [
       "                                                     0  \\\n",
       "0    butter,flour,sugar,brown sugar,apple,cinnamon,nut   \n",
       "1    baby back ribs,apple,salt,mustard,brown sugar,...   \n",
       "2    nut,cinnamon,bread,butter,phyllo dough,sugar,h...   \n",
       "3       beef,lemon,gin,salt,pepper,baby arugula,asiago   \n",
       "4    fat,steak,gin,shallot,parsley,capers,worcester...   \n",
       "..                                                 ...   \n",
       "96   onion,garlic,beef,chili,salt,sugar,corn tortil...   \n",
       "97   flour,egg,cold water,salt,konbu dashi,dashi,so...   \n",
       "98   egg,sugar,mascarpone,brewed espresso,frangelic...   \n",
       "99   sushi grade tuna,scallions,tomato,cilantro,gin...   \n",
       "100    egg,salt,sugar,vanilla,butter,flour,baking,milk   \n",
       "\n",
       "                                           ingredients  \n",
       "0    [butter, flour, sugar, brown sugar, apple, cin...  \n",
       "1    [baby back ribs, apple, salt, mustard, brown s...  \n",
       "2    [nut, cinnamon, bread, butter, phyllo dough, s...  \n",
       "3    [beef, lemon, gin, salt, pepper, baby arugula,...  \n",
       "4    [fat, steak, gin, shallot, parsley, capers, wo...  \n",
       "..                                                 ...  \n",
       "96   [onion, garlic, beef, chili, salt, sugar, corn...  \n",
       "97   [flour, egg, cold water, salt, konbu dashi, da...  \n",
       "98   [egg, sugar, mascarpone, brewed espresso, fran...  \n",
       "99   [sushi grade tuna, scallions, tomato, cilantro...  \n",
       "100  [egg, salt, sugar, vanilla, butter, flour, bak...  \n",
       "\n",
       "[101 rows x 2 columns]"
      ]
     },
     "execution_count": 30,
     "metadata": {},
     "output_type": "execute_result"
    }
   ],
   "source": [
    "kaas['ingredients'] = kaas[0].apply(lambda x: x.split(\",\"))\n",
    "kaas"
   ]
  },
  {
   "cell_type": "code",
   "execution_count": 31,
   "metadata": {},
   "outputs": [],
   "source": [
    "ingredients_two = []\n",
    "for key, row in kaas.iterrows():\n",
    "    for ingredient in row['ingredients']:\n",
    "        if not ingredient in ingredients_two:\n",
    "            ingredients_two.append(ingredient)"
   ]
  },
  {
   "cell_type": "code",
   "execution_count": 32,
   "metadata": {},
   "outputs": [
    {
     "data": {
      "text/plain": [
       "227"
      ]
     },
     "execution_count": 32,
     "metadata": {},
     "output_type": "execute_result"
    }
   ],
   "source": [
    "len(ingredients_two)"
   ]
  },
  {
   "cell_type": "code",
   "execution_count": 2,
   "metadata": {},
   "outputs": [],
   "source": [
    "def getSplit(split):\n",
    "    image_urls = pd.read_csv('{}{}_images.txt'.format(PATH_TO_RECIPES, split), sep=\"\\n\", header=None, names=['url'])\n",
    "    image_indices =  pd.read_csv('{}{}_labels.txt'.format(PATH_TO_RECIPES, split), sep=\"\\n\", header=None, names=['position'])\n",
    "    \n",
    "    recipes_labeled = image_indices.set_index('position').join(recipes).reset_index().join(image_urls)\n",
    "    return recipes_labeled\n",
    "\n",
    "data_train = getSplit('train')    \n",
    "data_test = getSplit('test')\n",
    "data_val = getSplit('val')"
   ]
  },
  {
   "cell_type": "markdown",
   "metadata": {},
   "source": [
    "## Cleaning the ingredients by using the ingredients dataframe"
   ]
  },
  {
   "cell_type": "code",
   "execution_count": 3,
   "metadata": {},
   "outputs": [
    {
     "data": {
      "text/html": [
       "<div>\n",
       "<style scoped>\n",
       "    .dataframe tbody tr th:only-of-type {\n",
       "        vertical-align: middle;\n",
       "    }\n",
       "\n",
       "    .dataframe tbody tr th {\n",
       "        vertical-align: top;\n",
       "    }\n",
       "\n",
       "    .dataframe thead th {\n",
       "        text-align: right;\n",
       "    }\n",
       "</style>\n",
       "<table border=\"1\" class=\"dataframe\">\n",
       "  <thead>\n",
       "    <tr style=\"text-align: right;\">\n",
       "      <th></th>\n",
       "      <th>position</th>\n",
       "      <th>ingredients</th>\n",
       "      <th>url</th>\n",
       "      <th>ingredients_cleaned</th>\n",
       "    </tr>\n",
       "  </thead>\n",
       "  <tbody>\n",
       "    <tr>\n",
       "      <th>0</th>\n",
       "      <td>69</td>\n",
       "      <td>flour,salt,oil,cold water,apple,sugar,cinnamon...</td>\n",
       "      <td>apple_pie/20_homemade_apple_pie_hostedLargeUrl...</td>\n",
       "      <td>flour,salt,oil,apple,sugar,cinnamon,butter</td>\n",
       "    </tr>\n",
       "    <tr>\n",
       "      <th>1</th>\n",
       "      <td>91</td>\n",
       "      <td>shell,pie,sugar,flour,cinnamon,apple,lemon,but...</td>\n",
       "      <td>apple_pie/43_homestyle_apple_pie_hostedLargeUr...</td>\n",
       "      <td>pie,sugar,flour,cinnamon,apple,lemon,butter,milk</td>\n",
       "    </tr>\n",
       "    <tr>\n",
       "      <th>2</th>\n",
       "      <td>77</td>\n",
       "      <td>apple,lemon,sugar,flour,cinnamon,nut,butter,sa...</td>\n",
       "      <td>apple_pie/28_apple_pie_hostedLargeUrl.jpg</td>\n",
       "      <td>apple,lemon,sugar,flour,cinnamon,nut,butter,sa...</td>\n",
       "    </tr>\n",
       "    <tr>\n",
       "      <th>3</th>\n",
       "      <td>88</td>\n",
       "      <td>pie,apple,sugar,corn starch,cinnamon,lemon,but...</td>\n",
       "      <td>apple_pie/39_classic_apple_pie_hostedLargeUrl.jpg</td>\n",
       "      <td>pie,apple,sugar,cinnamon,lemon,butter,egg</td>\n",
       "    </tr>\n",
       "    <tr>\n",
       "      <th>4</th>\n",
       "      <td>62</td>\n",
       "      <td>apple,brown sugar,butter,cinnamon,allspice,nut...</td>\n",
       "      <td>apple_pie/13_mug_apple_pie_hostedLargeUrl.jpg</td>\n",
       "      <td>apple,brown sugar,butter,cinnamon,allspice,nut...</td>\n",
       "    </tr>\n",
       "  </tbody>\n",
       "</table>\n",
       "</div>"
      ],
      "text/plain": [
       "   position                                        ingredients  \\\n",
       "0        69  flour,salt,oil,cold water,apple,sugar,cinnamon...   \n",
       "1        91  shell,pie,sugar,flour,cinnamon,apple,lemon,but...   \n",
       "2        77  apple,lemon,sugar,flour,cinnamon,nut,butter,sa...   \n",
       "3        88  pie,apple,sugar,corn starch,cinnamon,lemon,but...   \n",
       "4        62  apple,brown sugar,butter,cinnamon,allspice,nut...   \n",
       "\n",
       "                                                 url  \\\n",
       "0  apple_pie/20_homemade_apple_pie_hostedLargeUrl...   \n",
       "1  apple_pie/43_homestyle_apple_pie_hostedLargeUr...   \n",
       "2          apple_pie/28_apple_pie_hostedLargeUrl.jpg   \n",
       "3  apple_pie/39_classic_apple_pie_hostedLargeUrl.jpg   \n",
       "4      apple_pie/13_mug_apple_pie_hostedLargeUrl.jpg   \n",
       "\n",
       "                                 ingredients_cleaned  \n",
       "0         flour,salt,oil,apple,sugar,cinnamon,butter  \n",
       "1   pie,sugar,flour,cinnamon,apple,lemon,butter,milk  \n",
       "2  apple,lemon,sugar,flour,cinnamon,nut,butter,sa...  \n",
       "3          pie,apple,sugar,cinnamon,lemon,butter,egg  \n",
       "4  apple,brown sugar,butter,cinnamon,allspice,nut...  "
      ]
     },
     "execution_count": 3,
     "metadata": {},
     "output_type": "execute_result"
    }
   ],
   "source": [
    "clean_ingredients = pd.read_csv('ingredients_labeled.csv')['ingredient'].values\n",
    "\n",
    "def filter_ingredients(ingredients):\n",
    "    ingredients = ingredients.split(\",\")\n",
    "    ingredients = list(filter(lambda x: x in clean_ingredients, ingredients))\n",
    "    return \",\".join(ingredients)\n",
    "\n",
    "data_train['ingredients_cleaned'] = data_train['ingredients'].apply(filter_ingredients).dropna()\n",
    "data_test['ingredients_cleaned'] = data_test['ingredients'].apply(filter_ingredients).dropna()\n",
    "data_val['ingredients_cleaned'] = data_val['ingredients'].apply(filter_ingredients).dropna()\n",
    "data_train.head()"
   ]
  },
  {
   "cell_type": "code",
   "execution_count": 4,
   "metadata": {},
   "outputs": [],
   "source": [
    "data_train['category'] = data_train['url'].apply(lambda x: x.split(\"/\")[0])\n",
    "data_test['category'] = data_train['url'].apply(lambda x: x.split(\"/\")[0])\n",
    "data_val['category'] = data_train['url'].apply(lambda x: x.split(\"/\")[0])"
   ]
  },
  {
   "cell_type": "markdown",
   "metadata": {},
   "source": [
    "## Labeling the data splits"
   ]
  },
  {
   "cell_type": "code",
   "execution_count": 5,
   "metadata": {},
   "outputs": [],
   "source": [
    "ingredients_labeled = pd.read_csv('ingredients_labeled.csv')\n",
    "vegetarian_ingredients = ingredients_labeled[ingredients_labeled['vegetarian'] == False]\n",
    "pattern = '|'.join(vegetarian_ingredients['ingredient'])"
   ]
  },
  {
   "cell_type": "code",
   "execution_count": 6,
   "metadata": {},
   "outputs": [
    {
     "name": "stdout",
     "output_type": "stream",
     "text": [
      "Vegetarian        1943\n",
      "Vegetarian-Not    1466\n",
      "Name: label, dtype: int64\n",
      "Vegetarian        453\n",
      "Vegetarian-Not    330\n",
      "Name: label, dtype: int64\n",
      "Vegetarian        373\n",
      "Vegetarian-Not    261\n",
      "Name: label, dtype: int64\n"
     ]
    },
    {
     "data": {
      "text/html": [
       "<div>\n",
       "<style scoped>\n",
       "    .dataframe tbody tr th:only-of-type {\n",
       "        vertical-align: middle;\n",
       "    }\n",
       "\n",
       "    .dataframe tbody tr th {\n",
       "        vertical-align: top;\n",
       "    }\n",
       "\n",
       "    .dataframe thead th {\n",
       "        text-align: right;\n",
       "    }\n",
       "</style>\n",
       "<table border=\"1\" class=\"dataframe\">\n",
       "  <thead>\n",
       "    <tr style=\"text-align: right;\">\n",
       "      <th></th>\n",
       "      <th>position</th>\n",
       "      <th>ingredients</th>\n",
       "      <th>url</th>\n",
       "      <th>ingredients_cleaned</th>\n",
       "      <th>category</th>\n",
       "      <th>label</th>\n",
       "    </tr>\n",
       "  </thead>\n",
       "  <tbody>\n",
       "    <tr>\n",
       "      <th>0</th>\n",
       "      <td>69</td>\n",
       "      <td>flour,salt,oil,cold water,apple,sugar,cinnamon...</td>\n",
       "      <td>apple_pie/20_homemade_apple_pie_hostedLargeUrl...</td>\n",
       "      <td>flour,salt,oil,apple,sugar,cinnamon,butter</td>\n",
       "      <td>apple_pie</td>\n",
       "      <td>Vegetarian</td>\n",
       "    </tr>\n",
       "    <tr>\n",
       "      <th>1</th>\n",
       "      <td>91</td>\n",
       "      <td>shell,pie,sugar,flour,cinnamon,apple,lemon,but...</td>\n",
       "      <td>apple_pie/43_homestyle_apple_pie_hostedLargeUr...</td>\n",
       "      <td>pie,sugar,flour,cinnamon,apple,lemon,butter,milk</td>\n",
       "      <td>apple_pie</td>\n",
       "      <td>Vegetarian</td>\n",
       "    </tr>\n",
       "    <tr>\n",
       "      <th>2</th>\n",
       "      <td>77</td>\n",
       "      <td>apple,lemon,sugar,flour,cinnamon,nut,butter,sa...</td>\n",
       "      <td>apple_pie/28_apple_pie_hostedLargeUrl.jpg</td>\n",
       "      <td>apple,lemon,sugar,flour,cinnamon,nut,butter,sa...</td>\n",
       "      <td>apple_pie</td>\n",
       "      <td>Vegetarian</td>\n",
       "    </tr>\n",
       "    <tr>\n",
       "      <th>3</th>\n",
       "      <td>88</td>\n",
       "      <td>pie,apple,sugar,corn starch,cinnamon,lemon,but...</td>\n",
       "      <td>apple_pie/39_classic_apple_pie_hostedLargeUrl.jpg</td>\n",
       "      <td>pie,apple,sugar,cinnamon,lemon,butter,egg</td>\n",
       "      <td>apple_pie</td>\n",
       "      <td>Vegetarian</td>\n",
       "    </tr>\n",
       "    <tr>\n",
       "      <th>4</th>\n",
       "      <td>62</td>\n",
       "      <td>apple,brown sugar,butter,cinnamon,allspice,nut...</td>\n",
       "      <td>apple_pie/13_mug_apple_pie_hostedLargeUrl.jpg</td>\n",
       "      <td>apple,brown sugar,butter,cinnamon,allspice,nut...</td>\n",
       "      <td>apple_pie</td>\n",
       "      <td>Vegetarian</td>\n",
       "    </tr>\n",
       "  </tbody>\n",
       "</table>\n",
       "</div>"
      ],
      "text/plain": [
       "   position                                        ingredients  \\\n",
       "0        69  flour,salt,oil,cold water,apple,sugar,cinnamon...   \n",
       "1        91  shell,pie,sugar,flour,cinnamon,apple,lemon,but...   \n",
       "2        77  apple,lemon,sugar,flour,cinnamon,nut,butter,sa...   \n",
       "3        88  pie,apple,sugar,corn starch,cinnamon,lemon,but...   \n",
       "4        62  apple,brown sugar,butter,cinnamon,allspice,nut...   \n",
       "\n",
       "                                                 url  \\\n",
       "0  apple_pie/20_homemade_apple_pie_hostedLargeUrl...   \n",
       "1  apple_pie/43_homestyle_apple_pie_hostedLargeUr...   \n",
       "2          apple_pie/28_apple_pie_hostedLargeUrl.jpg   \n",
       "3  apple_pie/39_classic_apple_pie_hostedLargeUrl.jpg   \n",
       "4      apple_pie/13_mug_apple_pie_hostedLargeUrl.jpg   \n",
       "\n",
       "                                 ingredients_cleaned   category       label  \n",
       "0         flour,salt,oil,apple,sugar,cinnamon,butter  apple_pie  Vegetarian  \n",
       "1   pie,sugar,flour,cinnamon,apple,lemon,butter,milk  apple_pie  Vegetarian  \n",
       "2  apple,lemon,sugar,flour,cinnamon,nut,butter,sa...  apple_pie  Vegetarian  \n",
       "3          pie,apple,sugar,cinnamon,lemon,butter,egg  apple_pie  Vegetarian  \n",
       "4  apple,brown sugar,butter,cinnamon,allspice,nut...  apple_pie  Vegetarian  "
      ]
     },
     "execution_count": 6,
     "metadata": {},
     "output_type": "execute_result"
    }
   ],
   "source": [
    "def label_data(data, vegetarian_ingredients):\n",
    "    pattern = '|'.join(vegetarian_ingredients['ingredient'])\n",
    "    data['label'] = np.where(data['ingredients'].str.contains(pattern), 'Vegetarian-Not', 'Vegetarian')\n",
    "    print(data['label'].value_counts())\n",
    "    return data\n",
    "    \n",
    "data_train_labeled = label_data(data_train, vegetarian_ingredients)\n",
    "data_test_labeled = label_data(data_test, vegetarian_ingredients)\n",
    "data_val_labeled = label_data(data_val, vegetarian_ingredients)\n",
    "data_train_labeled.head()"
   ]
  },
  {
   "cell_type": "code",
   "execution_count": 7,
   "metadata": {},
   "outputs": [],
   "source": [
    "label_encoder = LabelEncoder()\n",
    "data_train['vegetarian'] = label_encoder.fit_transform(data_train['label'])"
   ]
  },
  {
   "cell_type": "code",
   "execution_count": 8,
   "metadata": {},
   "outputs": [],
   "source": [
    "means = data_train.groupby('category')['vegetarian'].mean()\n",
    "vegetarian_categories = means[(means < 0.5)]\n",
    "# x in vegetarian_categories, 'Vegetarian', 'Vegetarian-Not')\n",
    "data_train['label'] = data_train['category'].apply(lambda x: 'Vegetarian' if x in vegetarian_categories else 'Vegetarian-Not')"
   ]
  },
  {
   "cell_type": "code",
   "execution_count": 9,
   "metadata": {},
   "outputs": [],
   "source": [
    "wd = os.getcwd() + '/'\n",
    "def balance_dataset(dataset):\n",
    "    not_vegetarian_recipes = dataset[dataset['label'] == 'Vegetarian-Not'].copy().sample(frac=1)\n",
    "    for index, recipe in not_vegetarian_recipes.iterrows():\n",
    "        value_counts = dataset['label'].value_counts()\n",
    "        if value_counts[0] == value_counts[1]:\n",
    "            break\n",
    "\n",
    "        url = recipe['url']\n",
    "        image = Image.open(IMAGE_PATH + url)\n",
    "        image_blur = image.filter(ImageFilter.GaussianBlur)\n",
    "        split = url.split('/')\n",
    "        split[1] = 'bl_' + split[1]\n",
    "        new_url = \"/\".join(split)\n",
    "        image_blur.save(wd + IMAGE_PATH + new_url)\n",
    "        recipe['url'] = new_url\n",
    "        dataset.loc[len(dataset)] = recipe.tolist()"
   ]
  },
  {
   "cell_type": "code",
   "execution_count": 10,
   "metadata": {},
   "outputs": [
    {
     "name": "stdout",
     "output_type": "stream",
     "text": [
      "Vegetarian-Not    1907\n",
      "Vegetarian        1907\n",
      "Name: label, dtype: int64\n"
     ]
    }
   ],
   "source": [
    "balance_dataset(data_train)\n",
    "# balance_dataset(data_test)\n",
    "# balance_dataset(data_val)\n",
    "print(data_train['label'].value_counts())"
   ]
  },
  {
   "cell_type": "markdown",
   "metadata": {},
   "source": [
    "## Exporting the labeled data"
   ]
  },
  {
   "cell_type": "code",
   "execution_count": 11,
   "metadata": {},
   "outputs": [],
   "source": [
    "def export_data(data, split):\n",
    "    data.to_csv('data/{}_labeled.csv'.format(split), header=True, index=False)"
   ]
  },
  {
   "cell_type": "code",
   "execution_count": 12,
   "metadata": {},
   "outputs": [],
   "source": [
    "export_data(data_train_labeled, 'train')\n",
    "export_data(data_test_labeled, 'test')\n",
    "export_data(data_val_labeled, 'val')"
   ]
  },
  {
   "cell_type": "code",
   "execution_count": 13,
   "metadata": {},
   "outputs": [],
   "source": [
    "label_encoder = LabelEncoder()\n",
    "data_train['vegetarian'] = label_encoder.fit_transform(data_train['label'])\n",
    "means = data_train.groupby('category')['vegetarian'].mean()\n",
    "means.columns = ['not_vegetarian']\n",
    "means.to_csv('data/category_not_vegetarian.csv')"
   ]
  }
 ],
 "metadata": {
  "kernelspec": {
   "display_name": "Python 3",
   "language": "python",
   "name": "python3"
  },
  "language_info": {
   "codemirror_mode": {
    "name": "ipython",
    "version": 3
   },
   "file_extension": ".py",
   "mimetype": "text/x-python",
   "name": "python",
   "nbconvert_exporter": "python",
   "pygments_lexer": "ipython3",
   "version": "3.7.7"
  }
 },
 "nbformat": 4,
 "nbformat_minor": 4
}
